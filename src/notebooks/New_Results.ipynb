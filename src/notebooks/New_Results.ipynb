{
 "cells": [
  {
   "cell_type": "markdown",
   "metadata": {
    "collapsed": true
   },
   "source": [
    "# Results"
   ]
  },
  {
   "cell_type": "markdown",
   "metadata": {},
   "source": [
    "In the below tables summarise the results for each dataset. \n",
    "\n",
    "\n",
    "The following represent the scenarios considered for the ML reconciliation approach:\n",
    "\n",
    "```\n",
    "CASE1 - When the validation loss considers only the bottom level time series\n",
    "\n",
    "CASE2 - When the validation loss considers the entire hierarchy\n",
    "\n",
    "```\n",
    "\n",
    "For each CASE1 and CASE2 3 different lambda configurations are carried out as below:\n",
    "\n",
    "```\n",
    "lambda - [0.0001, 0.1] \n",
    "\n",
    "Lambda1 - lambda == 1\n",
    "\n",
    "Lambda2 - lambda [1.1, 5]\n",
    "```\n",
    "\n",
    "The median and mean across 5 different seeds are reported.\n",
    "\n",
    "\n",
    "```\n",
    "Example naming convention:\n",
    "\n",
    "ML_CASE1 - This is CASE1 lambda median forecasts\n",
    "\n",
    "ML_CASE1_MEAN - This is CASE1 lambda mean forecasts\n",
    "\n",
    "ML_CASE1_Lambda1 - This is CASE1 Lambda1 median forecasts\n",
    "\n",
    "ML_CASE1_Lambda1_MEAN - This is CASE1 Lambda1 mean forecasts\n",
    "```\n",
    "\n",
    "\n",
    "The results are also shown for full forecast horizon and half forecast horizon.\n",
    "```\n",
    "Prison : horizon = 8, half horizon = 4\n",
    "Tourism: horizon = 12, half horizon = 6\n",
    "Wikipedia: horizon = 7, half horizon = 3\n",
    "Labour: horizon = 12, half horizon = 4\n",
    "```"
   ]
  },
  {
   "cell_type": "code",
   "execution_count": 1,
   "metadata": {},
   "outputs": [],
   "source": [
    "import pandas as pd\n",
    "import plotly.express as px"
   ]
  },
  {
   "cell_type": "code",
   "execution_count": 2,
   "metadata": {},
   "outputs": [],
   "source": [
    "RESULTS_PATH = '../results/errors/'"
   ]
  },
  {
   "cell_type": "code",
   "execution_count": 3,
   "metadata": {},
   "outputs": [],
   "source": [
    "def get_error_table(data_frame, LEVELS):\n",
    "    errors = data_frame.groupby(by=['error_metric', 'level']).mean().reset_index().round(2)\n",
    "    errors = pd.pivot(errors, values ='error', columns='error_metric', index='level')\n",
    "    errors.index = LEVELS\n",
    "    overall_error = data_frame.groupby(by='error_metric').mean()[['error']].transpose()\n",
    "    overall_error.index = ['Overall']\n",
    "    return errors.append(overall_error).round(2)"
   ]
  },
  {
   "cell_type": "code",
   "execution_count": 4,
   "metadata": {},
   "outputs": [],
   "source": [
    "def get_percentage_improvement(base_df, approach_df):\n",
    "    return (base_df - approach_df)/base_df*100"
   ]
  },
  {
   "cell_type": "code",
   "execution_count": 5,
   "metadata": {},
   "outputs": [],
   "source": [
    "def get_results(data, model, LEVELS, FC_TYPES, column_order, short_horizon = False):\n",
    "    column_names = {\n",
    "        'base': 'BASE',\n",
    "        'case1': 'ML_CASE1',\n",
    "        'case1_mean': 'ML_CASE1_MEAN',\n",
    "        'case1_lambda1': 'ML_CASE1_Lambda1',\n",
    "        'case1_lambda1_mean': 'ML_CASE1_Lambda1_MEAN',\n",
    "        'case1_lambda2': 'ML_CASE1_Lambda2',\n",
    "        'case1_lambda2_mean': 'ML_CASE1_Lambda2_MEAN',\n",
    "        'case1_one_seed': 'ML_CASE1_ONE_SEED',\n",
    "        'case2': 'ML_CASE2',\n",
    "        'case2_mean': 'ML_CASE2_MEAN',\n",
    "        'case2_lambda1': 'ML_CASE2_Lambda1',\n",
    "        'case2_lambda1_mean': 'ML_CASE2_Lambda1_MEAN',\n",
    "        'case2_lambda2': 'ML_CASE2_Lambda2',\n",
    "        'case2_lambda2_mean': 'ML_CASE2_Lambda2_MEAN',\n",
    "        'case3': 'ML_CASE3',\n",
    "        'case4': 'ML_CASE4',\n",
    "        'bottomup': 'BU',\n",
    "        'ols': 'OLS',\n",
    "        'wls': 'WLS',\n",
    "        'mintsample': 'MinT(Sample)',\n",
    "        'mintshrink': 'MinT(Shrink)',\n",
    "        'erm': 'ERM',\n",
    "        'seeds_prev_params': 'PREV_PARAMS_SEEDS',\n",
    "        'one_seed_prev_params': 'PREV_PARAMS_ONE_SEED',\n",
    "        'seeds_prev_params_mean': 'PREV_PARAMS_SEEDS_MEAN'\n",
    "    }\n",
    "    \n",
    "    error_dic = {}\n",
    "    error_tables = {}\n",
    "    error_percentages = {}\n",
    "    final_percentage_tables = {}\n",
    "    \n",
    "    for fc_type in FC_TYPE:\n",
    "        file_name = f'{data}_{model}'\n",
    "        if short_horizon:\n",
    "            file_name = f'{file_name}_short_horizon'\n",
    "        error_dic[column_names[fc_type]] = pd.read_csv(f'{RESULTS_PATH}{file_name}_{fc_type}_errors.csv', index_col=0)\n",
    "        \n",
    "    for fc_name, error_df in error_dic.items():\n",
    "        error_tables[fc_name] = get_error_table(error_df, LEVELS)\n",
    "        \n",
    "    for fc_name, error_df in error_tables.items():\n",
    "        error_percentages[fc_name] = get_percentage_improvement(error_tables['BASE'], error_df)\n",
    "        \n",
    "    for error_metric in ['MSE', 'MAE', 'SMAPE']:\n",
    "        dataframe_error = []\n",
    "        for fc_name, error_df in error_percentages.items():\n",
    "            if fc_name =='BASE':\n",
    "                continue\n",
    "            error_metric_percentages = error_df[[error_metric]]\n",
    "            error_metric_percentages.columns = [fc_name]\n",
    "            dataframe_error.append(error_metric_percentages)\n",
    "        final_percentage_tables[error_metric] = pd.concat(dataframe_error, axis=1)[column_order]\n",
    "        \n",
    "    return error_tables['BASE'], final_percentage_tables"
   ]
  },
  {
   "cell_type": "markdown",
   "metadata": {},
   "source": [
    "## New Results"
   ]
  },
  {
   "cell_type": "markdown",
   "metadata": {},
   "source": [
    "## Prison"
   ]
  },
  {
   "cell_type": "code",
   "execution_count": 6,
   "metadata": {},
   "outputs": [],
   "source": [
    "LEVELS_prison = ['Australia', 'State', 'Gender', 'Legal', 'Indigenous']\n",
    "data_prison = 'prison'\n",
    "FC_TYPE = ['base', 'bottomup', 'ols', 'wls', 'mintshrink', 'erm',\n",
    "               'case1', 'case1_mean', 'case1_lambda1', 'case1_lambda1_mean', 'case1_lambda2', 'case1_lambda2_mean',\n",
    "               'case2', 'case2_mean', 'case2_lambda1', 'case2_lambda1_mean', 'case2_lambda2', 'case2_lambda2_mean']\n",
    "column_order_1 = ['BU', 'OLS', 'WLS', 'MinT(Shrink)', 'ERM', 'ML_CASE1', 'ML_CASE1_MEAN',\n",
    "                 'ML_CASE1_Lambda1','ML_CASE1_Lambda1_MEAN','ML_CASE1_Lambda2','ML_CASE1_Lambda2_MEAN',\n",
    "                  'ML_CASE2','ML_CASE2_MEAN','ML_CASE2_Lambda1','ML_CASE2_Lambda1_MEAN',\n",
    "                  'ML_CASE2_Lambda2', 'ML_CASE2_Lambda2_MEAN']\n",
    "\n",
    "model_arima ='arima'\n",
    "base_errors_prison_arima, percentages_prison_arima = get_results(data_prison, model_arima, LEVELS_prison, FC_TYPE, column_order_1)\n",
    "\n"
   ]
  },
  {
   "cell_type": "markdown",
   "metadata": {},
   "source": [
    "CASE 1: Only bottom level validation loss\n",
    "CASE 2: Whole hierarchy validation loss"
   ]
  },
  {
   "cell_type": "markdown",
   "metadata": {},
   "source": [
    "Lambda [0.0001, 0.1] \n",
    "\n",
    "Lambda1 -- Lambda =1\n",
    "\n",
    "Lambda2 -- Lambda [1.1, 5]"
   ]
  },
  {
   "cell_type": "markdown",
   "metadata": {},
   "source": [
    "ARIMA"
   ]
  },
  {
   "cell_type": "code",
   "execution_count": 7,
   "metadata": {},
   "outputs": [
    {
     "data": {
      "text/html": [
       "<style type=\"text/css\">\n",
       "#T_a8988_row0_col1, #T_a8988_row1_col10, #T_a8988_row2_col10, #T_a8988_row3_col9, #T_a8988_row4_col9, #T_a8988_row5_col10 {\n",
       "  background-color: lightgreen;\n",
       "}\n",
       "</style>\n",
       "<table id=\"T_a8988_\">\n",
       "  <thead>\n",
       "    <tr>\n",
       "      <th class=\"blank level0\" >&nbsp;</th>\n",
       "      <th class=\"col_heading level0 col0\" >BU</th>\n",
       "      <th class=\"col_heading level0 col1\" >OLS</th>\n",
       "      <th class=\"col_heading level0 col2\" >WLS</th>\n",
       "      <th class=\"col_heading level0 col3\" >MinT(Shrink)</th>\n",
       "      <th class=\"col_heading level0 col4\" >ERM</th>\n",
       "      <th class=\"col_heading level0 col5\" >ML_CASE1</th>\n",
       "      <th class=\"col_heading level0 col6\" >ML_CASE1_MEAN</th>\n",
       "      <th class=\"col_heading level0 col7\" >ML_CASE1_Lambda1</th>\n",
       "      <th class=\"col_heading level0 col8\" >ML_CASE1_Lambda1_MEAN</th>\n",
       "      <th class=\"col_heading level0 col9\" >ML_CASE1_Lambda2</th>\n",
       "      <th class=\"col_heading level0 col10\" >ML_CASE1_Lambda2_MEAN</th>\n",
       "      <th class=\"col_heading level0 col11\" >ML_CASE2</th>\n",
       "      <th class=\"col_heading level0 col12\" >ML_CASE2_MEAN</th>\n",
       "      <th class=\"col_heading level0 col13\" >ML_CASE2_Lambda1</th>\n",
       "      <th class=\"col_heading level0 col14\" >ML_CASE2_Lambda1_MEAN</th>\n",
       "      <th class=\"col_heading level0 col15\" >ML_CASE2_Lambda2</th>\n",
       "      <th class=\"col_heading level0 col16\" >ML_CASE2_Lambda2_MEAN</th>\n",
       "    </tr>\n",
       "  </thead>\n",
       "  <tbody>\n",
       "    <tr>\n",
       "      <th id=\"T_a8988_level0_row0\" class=\"row_heading level0 row0\" >Australia</th>\n",
       "      <td id=\"T_a8988_row0_col0\" class=\"data row0 col0\" >-1204.936229</td>\n",
       "      <td id=\"T_a8988_row0_col1\" class=\"data row0 col1\" >-13.275846</td>\n",
       "      <td id=\"T_a8988_row0_col2\" class=\"data row0 col2\" >-230.437789</td>\n",
       "      <td id=\"T_a8988_row0_col3\" class=\"data row0 col3\" >-114.450766</td>\n",
       "      <td id=\"T_a8988_row0_col4\" class=\"data row0 col4\" >-150.126572</td>\n",
       "      <td id=\"T_a8988_row0_col5\" class=\"data row0 col5\" >-902.877381</td>\n",
       "      <td id=\"T_a8988_row0_col6\" class=\"data row0 col6\" >-921.621992</td>\n",
       "      <td id=\"T_a8988_row0_col7\" class=\"data row0 col7\" >-1187.037023</td>\n",
       "      <td id=\"T_a8988_row0_col8\" class=\"data row0 col8\" >-1154.926767</td>\n",
       "      <td id=\"T_a8988_row0_col9\" class=\"data row0 col9\" >-203.576973</td>\n",
       "      <td id=\"T_a8988_row0_col10\" class=\"data row0 col10\" >-172.687790</td>\n",
       "      <td id=\"T_a8988_row0_col11\" class=\"data row0 col11\" >-902.877381</td>\n",
       "      <td id=\"T_a8988_row0_col12\" class=\"data row0 col12\" >-921.621992</td>\n",
       "      <td id=\"T_a8988_row0_col13\" class=\"data row0 col13\" >-1080.427882</td>\n",
       "      <td id=\"T_a8988_row0_col14\" class=\"data row0 col14\" >-1171.742917</td>\n",
       "      <td id=\"T_a8988_row0_col15\" class=\"data row0 col15\" >-965.237615</td>\n",
       "      <td id=\"T_a8988_row0_col16\" class=\"data row0 col16\" >-970.969927</td>\n",
       "    </tr>\n",
       "    <tr>\n",
       "      <th id=\"T_a8988_level0_row1\" class=\"row_heading level0 row1\" >State</th>\n",
       "      <td id=\"T_a8988_row1_col0\" class=\"data row1 col0\" >-0.741349</td>\n",
       "      <td id=\"T_a8988_row1_col1\" class=\"data row1 col1\" >8.906267</td>\n",
       "      <td id=\"T_a8988_row1_col2\" class=\"data row1 col2\" >14.764202</td>\n",
       "      <td id=\"T_a8988_row1_col3\" class=\"data row1 col3\" >20.707253</td>\n",
       "      <td id=\"T_a8988_row1_col4\" class=\"data row1 col4\" >9.486221</td>\n",
       "      <td id=\"T_a8988_row1_col5\" class=\"data row1 col5\" >6.118457</td>\n",
       "      <td id=\"T_a8988_row1_col6\" class=\"data row1 col6\" >4.068817</td>\n",
       "      <td id=\"T_a8988_row1_col7\" class=\"data row1 col7\" >-10.476289</td>\n",
       "      <td id=\"T_a8988_row1_col8\" class=\"data row1 col8\" >-9.556132</td>\n",
       "      <td id=\"T_a8988_row1_col9\" class=\"data row1 col9\" >47.350912</td>\n",
       "      <td id=\"T_a8988_row1_col10\" class=\"data row1 col10\" >51.846227</td>\n",
       "      <td id=\"T_a8988_row1_col11\" class=\"data row1 col11\" >6.118457</td>\n",
       "      <td id=\"T_a8988_row1_col12\" class=\"data row1 col12\" >4.068817</td>\n",
       "      <td id=\"T_a8988_row1_col13\" class=\"data row1 col13\" >1.830759</td>\n",
       "      <td id=\"T_a8988_row1_col14\" class=\"data row1 col14\" >-5.693208</td>\n",
       "      <td id=\"T_a8988_row1_col15\" class=\"data row1 col15\" >3.305897</td>\n",
       "      <td id=\"T_a8988_row1_col16\" class=\"data row1 col16\" >2.336424</td>\n",
       "    </tr>\n",
       "    <tr>\n",
       "      <th id=\"T_a8988_level0_row2\" class=\"row_heading level0 row2\" >Gender</th>\n",
       "      <td id=\"T_a8988_row2_col0\" class=\"data row2 col0\" >-4.889860</td>\n",
       "      <td id=\"T_a8988_row2_col1\" class=\"data row2 col1\" >10.048874</td>\n",
       "      <td id=\"T_a8988_row2_col2\" class=\"data row2 col2\" >13.384368</td>\n",
       "      <td id=\"T_a8988_row2_col3\" class=\"data row2 col3\" >19.009192</td>\n",
       "      <td id=\"T_a8988_row2_col4\" class=\"data row2 col4\" >15.612176</td>\n",
       "      <td id=\"T_a8988_row2_col5\" class=\"data row2 col5\" >2.485159</td>\n",
       "      <td id=\"T_a8988_row2_col6\" class=\"data row2 col6\" >0.415169</td>\n",
       "      <td id=\"T_a8988_row2_col7\" class=\"data row2 col7\" >-12.069117</td>\n",
       "      <td id=\"T_a8988_row2_col8\" class=\"data row2 col8\" >-11.132581</td>\n",
       "      <td id=\"T_a8988_row2_col9\" class=\"data row2 col9\" >46.191271</td>\n",
       "      <td id=\"T_a8988_row2_col10\" class=\"data row2 col10\" >50.895363</td>\n",
       "      <td id=\"T_a8988_row2_col11\" class=\"data row2 col11\" >2.485159</td>\n",
       "      <td id=\"T_a8988_row2_col12\" class=\"data row2 col12\" >0.415169</td>\n",
       "      <td id=\"T_a8988_row2_col13\" class=\"data row2 col13\" >-1.179969</td>\n",
       "      <td id=\"T_a8988_row2_col14\" class=\"data row2 col14\" >-7.740838</td>\n",
       "      <td id=\"T_a8988_row2_col15\" class=\"data row2 col15\" >2.224576</td>\n",
       "      <td id=\"T_a8988_row2_col16\" class=\"data row2 col16\" >2.061136</td>\n",
       "    </tr>\n",
       "    <tr>\n",
       "      <th id=\"T_a8988_level0_row3\" class=\"row_heading level0 row3\" >Legal</th>\n",
       "      <td id=\"T_a8988_row3_col0\" class=\"data row3 col0\" >-12.232326</td>\n",
       "      <td id=\"T_a8988_row3_col1\" class=\"data row3 col1\" >-10.070241</td>\n",
       "      <td id=\"T_a8988_row3_col2\" class=\"data row3 col2\" >-11.037498</td>\n",
       "      <td id=\"T_a8988_row3_col3\" class=\"data row3 col3\" >-3.632026</td>\n",
       "      <td id=\"T_a8988_row3_col4\" class=\"data row3 col4\" >-59.544452</td>\n",
       "      <td id=\"T_a8988_row3_col5\" class=\"data row3 col5\" >-7.105612</td>\n",
       "      <td id=\"T_a8988_row3_col6\" class=\"data row3 col6\" >-8.635438</td>\n",
       "      <td id=\"T_a8988_row3_col7\" class=\"data row3 col7\" >-18.380198</td>\n",
       "      <td id=\"T_a8988_row3_col8\" class=\"data row3 col8\" >-16.119184</td>\n",
       "      <td id=\"T_a8988_row3_col9\" class=\"data row3 col9\" >22.247171</td>\n",
       "      <td id=\"T_a8988_row3_col10\" class=\"data row3 col10\" >19.688146</td>\n",
       "      <td id=\"T_a8988_row3_col11\" class=\"data row3 col11\" >-7.105612</td>\n",
       "      <td id=\"T_a8988_row3_col12\" class=\"data row3 col12\" >-8.635438</td>\n",
       "      <td id=\"T_a8988_row3_col13\" class=\"data row3 col13\" >-8.213585</td>\n",
       "      <td id=\"T_a8988_row3_col14\" class=\"data row3 col14\" >-13.391705</td>\n",
       "      <td id=\"T_a8988_row3_col15\" class=\"data row3 col15\" >-8.302539</td>\n",
       "      <td id=\"T_a8988_row3_col16\" class=\"data row3 col16\" >-8.382621</td>\n",
       "    </tr>\n",
       "    <tr>\n",
       "      <th id=\"T_a8988_level0_row4\" class=\"row_heading level0 row4\" >Indigenous</th>\n",
       "      <td id=\"T_a8988_row4_col0\" class=\"data row4 col0\" >0.000000</td>\n",
       "      <td id=\"T_a8988_row4_col1\" class=\"data row4 col1\" >1.381039</td>\n",
       "      <td id=\"T_a8988_row4_col2\" class=\"data row4 col2\" >1.571899</td>\n",
       "      <td id=\"T_a8988_row4_col3\" class=\"data row4 col3\" >8.681385</td>\n",
       "      <td id=\"T_a8988_row4_col4\" class=\"data row4 col4\" >-36.429845</td>\n",
       "      <td id=\"T_a8988_row4_col5\" class=\"data row4 col5\" >3.348354</td>\n",
       "      <td id=\"T_a8988_row4_col6\" class=\"data row4 col6\" >2.298387</td>\n",
       "      <td id=\"T_a8988_row4_col7\" class=\"data row4 col7\" >-3.928738</td>\n",
       "      <td id=\"T_a8988_row4_col8\" class=\"data row4 col8\" >-2.451234</td>\n",
       "      <td id=\"T_a8988_row4_col9\" class=\"data row4 col9\" >22.040824</td>\n",
       "      <td id=\"T_a8988_row4_col10\" class=\"data row4 col10\" >20.750464</td>\n",
       "      <td id=\"T_a8988_row4_col11\" class=\"data row4 col11\" >3.348354</td>\n",
       "      <td id=\"T_a8988_row4_col12\" class=\"data row4 col12\" >2.298387</td>\n",
       "      <td id=\"T_a8988_row4_col13\" class=\"data row4 col13\" >2.558476</td>\n",
       "      <td id=\"T_a8988_row4_col14\" class=\"data row4 col14\" >-0.751334</td>\n",
       "      <td id=\"T_a8988_row4_col15\" class=\"data row4 col15\" >2.695662</td>\n",
       "      <td id=\"T_a8988_row4_col16\" class=\"data row4 col16\" >2.479319</td>\n",
       "    </tr>\n",
       "    <tr>\n",
       "      <th id=\"T_a8988_level0_row5\" class=\"row_heading level0 row5\" >Overall</th>\n",
       "      <td id=\"T_a8988_row5_col0\" class=\"data row5 col0\" >-63.001288</td>\n",
       "      <td id=\"T_a8988_row5_col1\" class=\"data row5 col1\" >3.695151</td>\n",
       "      <td id=\"T_a8988_row5_col2\" class=\"data row5 col2\" >-4.110239</td>\n",
       "      <td id=\"T_a8988_row5_col3\" class=\"data row5 col3\" >7.575853</td>\n",
       "      <td id=\"T_a8988_row5_col4\" class=\"data row5 col4\" >-15.393930</td>\n",
       "      <td id=\"T_a8988_row5_col5\" class=\"data row5 col5\" >-42.294162</td>\n",
       "      <td id=\"T_a8988_row5_col6\" class=\"data row5 col6\" >-44.937381</td>\n",
       "      <td id=\"T_a8988_row5_col7\" class=\"data row5 col7\" >-69.222360</td>\n",
       "      <td id=\"T_a8988_row5_col8\" class=\"data row5 col8\" >-66.448091</td>\n",
       "      <td id=\"T_a8988_row5_col9\" class=\"data row5 col9\" >26.688119</td>\n",
       "      <td id=\"T_a8988_row5_col10\" class=\"data row5 col10\" >30.471385</td>\n",
       "      <td id=\"T_a8988_row5_col11\" class=\"data row5 col11\" >-42.294162</td>\n",
       "      <td id=\"T_a8988_row5_col12\" class=\"data row5 col12\" >-44.937381</td>\n",
       "      <td id=\"T_a8988_row5_col13\" class=\"data row5 col13\" >-53.867637</td>\n",
       "      <td id=\"T_a8988_row5_col14\" class=\"data row5 col14\" >-64.235912</td>\n",
       "      <td id=\"T_a8988_row5_col15\" class=\"data row5 col15\" >-46.738537</td>\n",
       "      <td id=\"T_a8988_row5_col16\" class=\"data row5 col16\" >-47.455759</td>\n",
       "    </tr>\n",
       "  </tbody>\n",
       "</table>\n"
      ],
      "text/plain": [
       "<pandas.io.formats.style.Styler at 0x111d39460>"
      ]
     },
     "execution_count": 7,
     "metadata": {},
     "output_type": "execute_result"
    }
   ],
   "source": [
    "percentages_prison_arima['MSE'].style.highlight_max(color = 'lightgreen', axis = 1)"
   ]
  },
  {
   "cell_type": "code",
   "execution_count": 41,
   "metadata": {},
   "outputs": [],
   "source": [
    "def draw_plot(dataframe):\n",
    "    plot_df = dataframe.reset_index()\n",
    "    plot_df = pd.melt(plot_df, id_vars=['index'], value_vars=plot_df.columns[1:])\n",
    "    fig = px.bar(plot_df, x=\"index\", y=\"value\",\n",
    "                 color='variable', barmode='group',\n",
    "                 height=400)\n",
    "    fig.update_layout(legend=dict(\n",
    "        orientation=\"h\",\n",
    "        yanchor=\"bottom\",\n",
    "        y = -0.25\n",
    "    ))\n",
    "    fig.show()"
   ]
  },
  {
   "cell_type": "code",
   "execution_count": 42,
   "metadata": {},
   "outputs": [
    {
     "data": {
      "application/vnd.plotly.v1+json": {
       "config": {
        "plotlyServerURL": "https://plot.ly"
       },
       "data": [
        {
         "alignmentgroup": "True",
         "hovertemplate": "variable=BU<br>index=%{x}<br>value=%{y}<extra></extra>",
         "legendgroup": "BU",
         "marker": {
          "color": "#636efa",
          "pattern": {
           "shape": ""
          }
         },
         "name": "BU",
         "offsetgroup": "BU",
         "orientation": "v",
         "showlegend": true,
         "textposition": "auto",
         "type": "bar",
         "x": [
          "Australia",
          "State",
          "Gender",
          "Legal",
          "Indigenous",
          "Overall"
         ],
         "xaxis": "x",
         "y": [
          -1204.9362288888665,
          -0.7413488010581074,
          -4.889860357930405,
          -12.232326305080692,
          0,
          -63.001288492883845
         ],
         "yaxis": "y"
        },
        {
         "alignmentgroup": "True",
         "hovertemplate": "variable=OLS<br>index=%{x}<br>value=%{y}<extra></extra>",
         "legendgroup": "OLS",
         "marker": {
          "color": "#EF553B",
          "pattern": {
           "shape": ""
          }
         },
         "name": "OLS",
         "offsetgroup": "OLS",
         "orientation": "v",
         "showlegend": true,
         "textposition": "auto",
         "type": "bar",
         "x": [
          "Australia",
          "State",
          "Gender",
          "Legal",
          "Indigenous",
          "Overall"
         ],
         "xaxis": "x",
         "y": [
          -13.275846329158883,
          8.906267432822675,
          10.048874153404288,
          -10.070240968662098,
          1.381038892917861,
          3.695151442769997
         ],
         "yaxis": "y"
        },
        {
         "alignmentgroup": "True",
         "hovertemplate": "variable=WLS<br>index=%{x}<br>value=%{y}<extra></extra>",
         "legendgroup": "WLS",
         "marker": {
          "color": "#00cc96",
          "pattern": {
           "shape": ""
          }
         },
         "name": "WLS",
         "offsetgroup": "WLS",
         "orientation": "v",
         "showlegend": true,
         "textposition": "auto",
         "type": "bar",
         "x": [
          "Australia",
          "State",
          "Gender",
          "Legal",
          "Indigenous",
          "Overall"
         ],
         "xaxis": "x",
         "y": [
          -230.43778880289082,
          14.76420227715126,
          13.384368371710364,
          -11.037498420804154,
          1.5718986484262332,
          -4.110239032811701
         ],
         "yaxis": "y"
        },
        {
         "alignmentgroup": "True",
         "hovertemplate": "variable=MinT(Shrink)<br>index=%{x}<br>value=%{y}<extra></extra>",
         "legendgroup": "MinT(Shrink)",
         "marker": {
          "color": "#ab63fa",
          "pattern": {
           "shape": ""
          }
         },
         "name": "MinT(Shrink)",
         "offsetgroup": "MinT(Shrink)",
         "orientation": "v",
         "showlegend": true,
         "textposition": "auto",
         "type": "bar",
         "x": [
          "Australia",
          "State",
          "Gender",
          "Legal",
          "Indigenous",
          "Overall"
         ],
         "xaxis": "x",
         "y": [
          -114.450766065332,
          20.707253446258026,
          19.009191586533568,
          -3.632025759177611,
          8.681384723362186,
          7.575853149938972
         ],
         "yaxis": "y"
        },
        {
         "alignmentgroup": "True",
         "hovertemplate": "variable=ERM<br>index=%{x}<br>value=%{y}<extra></extra>",
         "legendgroup": "ERM",
         "marker": {
          "color": "#FFA15A",
          "pattern": {
           "shape": ""
          }
         },
         "name": "ERM",
         "offsetgroup": "ERM",
         "orientation": "v",
         "showlegend": true,
         "textposition": "auto",
         "type": "bar",
         "x": [
          "Australia",
          "State",
          "Gender",
          "Legal",
          "Indigenous",
          "Overall"
         ],
         "xaxis": "x",
         "y": [
          -150.12657178513936,
          9.486221408612591,
          15.612175622920265,
          -59.5444518694354,
          -36.42984483818597,
          -15.393929505197418
         ],
         "yaxis": "y"
        },
        {
         "alignmentgroup": "True",
         "hovertemplate": "variable=ML_CASE1<br>index=%{x}<br>value=%{y}<extra></extra>",
         "legendgroup": "ML_CASE1",
         "marker": {
          "color": "#19d3f3",
          "pattern": {
           "shape": ""
          }
         },
         "name": "ML_CASE1",
         "offsetgroup": "ML_CASE1",
         "orientation": "v",
         "showlegend": true,
         "textposition": "auto",
         "type": "bar",
         "x": [
          "Australia",
          "State",
          "Gender",
          "Legal",
          "Indigenous",
          "Overall"
         ],
         "xaxis": "x",
         "y": [
          -902.8773814494107,
          6.118457179222045,
          2.4851587773542274,
          -7.105612462016178,
          3.348354358875795,
          -42.29416214040087
         ],
         "yaxis": "y"
        },
        {
         "alignmentgroup": "True",
         "hovertemplate": "variable=ML_CASE1_MEAN<br>index=%{x}<br>value=%{y}<extra></extra>",
         "legendgroup": "ML_CASE1_MEAN",
         "marker": {
          "color": "#FF6692",
          "pattern": {
           "shape": ""
          }
         },
         "name": "ML_CASE1_MEAN",
         "offsetgroup": "ML_CASE1_MEAN",
         "orientation": "v",
         "showlegend": true,
         "textposition": "auto",
         "type": "bar",
         "x": [
          "Australia",
          "State",
          "Gender",
          "Legal",
          "Indigenous",
          "Overall"
         ],
         "xaxis": "x",
         "y": [
          -921.6219922932768,
          4.068816914769825,
          0.41516934533784283,
          -8.635437653348218,
          2.2983867970706786,
          -44.93738081580999
         ],
         "yaxis": "y"
        },
        {
         "alignmentgroup": "True",
         "hovertemplate": "variable=ML_CASE1_Lambda1<br>index=%{x}<br>value=%{y}<extra></extra>",
         "legendgroup": "ML_CASE1_Lambda1",
         "marker": {
          "color": "#B6E880",
          "pattern": {
           "shape": ""
          }
         },
         "name": "ML_CASE1_Lambda1",
         "offsetgroup": "ML_CASE1_Lambda1",
         "orientation": "v",
         "showlegend": true,
         "textposition": "auto",
         "type": "bar",
         "x": [
          "Australia",
          "State",
          "Gender",
          "Legal",
          "Indigenous",
          "Overall"
         ],
         "xaxis": "x",
         "y": [
          -1187.0370229780463,
          -10.476288867987673,
          -12.069116883188407,
          -18.38019804778148,
          -3.9287379046943647,
          -69.22235978107956
         ],
         "yaxis": "y"
        },
        {
         "alignmentgroup": "True",
         "hovertemplate": "variable=ML_CASE1_Lambda1_MEAN<br>index=%{x}<br>value=%{y}<extra></extra>",
         "legendgroup": "ML_CASE1_Lambda1_MEAN",
         "marker": {
          "color": "#FF97FF",
          "pattern": {
           "shape": ""
          }
         },
         "name": "ML_CASE1_Lambda1_MEAN",
         "offsetgroup": "ML_CASE1_Lambda1_MEAN",
         "orientation": "v",
         "showlegend": true,
         "textposition": "auto",
         "type": "bar",
         "x": [
          "Australia",
          "State",
          "Gender",
          "Legal",
          "Indigenous",
          "Overall"
         ],
         "xaxis": "x",
         "y": [
          -1154.9267673626434,
          -9.556131897008978,
          -11.132581141163561,
          -16.11918440352941,
          -2.451233872483381,
          -66.44809106246834
         ],
         "yaxis": "y"
        },
        {
         "alignmentgroup": "True",
         "hovertemplate": "variable=ML_CASE1_Lambda2<br>index=%{x}<br>value=%{y}<extra></extra>",
         "legendgroup": "ML_CASE1_Lambda2",
         "marker": {
          "color": "#FECB52",
          "pattern": {
           "shape": ""
          }
         },
         "name": "ML_CASE1_Lambda2",
         "offsetgroup": "ML_CASE1_Lambda2",
         "orientation": "v",
         "showlegend": true,
         "textposition": "auto",
         "type": "bar",
         "x": [
          "Australia",
          "State",
          "Gender",
          "Legal",
          "Indigenous",
          "Overall"
         ],
         "xaxis": "x",
         "y": [
          -203.57697325281,
          47.350912163193975,
          46.19127062924742,
          22.247170745978874,
          22.040824344254723,
          26.68811911998964
         ],
         "yaxis": "y"
        },
        {
         "alignmentgroup": "True",
         "hovertemplate": "variable=ML_CASE1_Lambda2_MEAN<br>index=%{x}<br>value=%{y}<extra></extra>",
         "legendgroup": "ML_CASE1_Lambda2_MEAN",
         "marker": {
          "color": "#636efa",
          "pattern": {
           "shape": ""
          }
         },
         "name": "ML_CASE1_Lambda2_MEAN",
         "offsetgroup": "ML_CASE1_Lambda2_MEAN",
         "orientation": "v",
         "showlegend": true,
         "textposition": "auto",
         "type": "bar",
         "x": [
          "Australia",
          "State",
          "Gender",
          "Legal",
          "Indigenous",
          "Overall"
         ],
         "xaxis": "x",
         "y": [
          -172.68778972240125,
          51.846227467054106,
          50.895363393748774,
          19.688146223560935,
          20.750463744079102,
          30.47138486071325
         ],
         "yaxis": "y"
        }
       ],
       "layout": {
        "barmode": "group",
        "height": 400,
        "legend": {
         "orientation": "h",
         "title": {
          "text": "variable"
         },
         "tracegroupgap": 0,
         "y": -0.25,
         "yanchor": "bottom"
        },
        "margin": {
         "t": 60
        },
        "template": {
         "data": {
          "bar": [
           {
            "error_x": {
             "color": "#2a3f5f"
            },
            "error_y": {
             "color": "#2a3f5f"
            },
            "marker": {
             "line": {
              "color": "#E5ECF6",
              "width": 0.5
             },
             "pattern": {
              "fillmode": "overlay",
              "size": 10,
              "solidity": 0.2
             }
            },
            "type": "bar"
           }
          ],
          "barpolar": [
           {
            "marker": {
             "line": {
              "color": "#E5ECF6",
              "width": 0.5
             },
             "pattern": {
              "fillmode": "overlay",
              "size": 10,
              "solidity": 0.2
             }
            },
            "type": "barpolar"
           }
          ],
          "carpet": [
           {
            "aaxis": {
             "endlinecolor": "#2a3f5f",
             "gridcolor": "white",
             "linecolor": "white",
             "minorgridcolor": "white",
             "startlinecolor": "#2a3f5f"
            },
            "baxis": {
             "endlinecolor": "#2a3f5f",
             "gridcolor": "white",
             "linecolor": "white",
             "minorgridcolor": "white",
             "startlinecolor": "#2a3f5f"
            },
            "type": "carpet"
           }
          ],
          "choropleth": [
           {
            "colorbar": {
             "outlinewidth": 0,
             "ticks": ""
            },
            "type": "choropleth"
           }
          ],
          "contour": [
           {
            "colorbar": {
             "outlinewidth": 0,
             "ticks": ""
            },
            "colorscale": [
             [
              0,
              "#0d0887"
             ],
             [
              0.1111111111111111,
              "#46039f"
             ],
             [
              0.2222222222222222,
              "#7201a8"
             ],
             [
              0.3333333333333333,
              "#9c179e"
             ],
             [
              0.4444444444444444,
              "#bd3786"
             ],
             [
              0.5555555555555556,
              "#d8576b"
             ],
             [
              0.6666666666666666,
              "#ed7953"
             ],
             [
              0.7777777777777778,
              "#fb9f3a"
             ],
             [
              0.8888888888888888,
              "#fdca26"
             ],
             [
              1,
              "#f0f921"
             ]
            ],
            "type": "contour"
           }
          ],
          "contourcarpet": [
           {
            "colorbar": {
             "outlinewidth": 0,
             "ticks": ""
            },
            "type": "contourcarpet"
           }
          ],
          "heatmap": [
           {
            "colorbar": {
             "outlinewidth": 0,
             "ticks": ""
            },
            "colorscale": [
             [
              0,
              "#0d0887"
             ],
             [
              0.1111111111111111,
              "#46039f"
             ],
             [
              0.2222222222222222,
              "#7201a8"
             ],
             [
              0.3333333333333333,
              "#9c179e"
             ],
             [
              0.4444444444444444,
              "#bd3786"
             ],
             [
              0.5555555555555556,
              "#d8576b"
             ],
             [
              0.6666666666666666,
              "#ed7953"
             ],
             [
              0.7777777777777778,
              "#fb9f3a"
             ],
             [
              0.8888888888888888,
              "#fdca26"
             ],
             [
              1,
              "#f0f921"
             ]
            ],
            "type": "heatmap"
           }
          ],
          "heatmapgl": [
           {
            "colorbar": {
             "outlinewidth": 0,
             "ticks": ""
            },
            "colorscale": [
             [
              0,
              "#0d0887"
             ],
             [
              0.1111111111111111,
              "#46039f"
             ],
             [
              0.2222222222222222,
              "#7201a8"
             ],
             [
              0.3333333333333333,
              "#9c179e"
             ],
             [
              0.4444444444444444,
              "#bd3786"
             ],
             [
              0.5555555555555556,
              "#d8576b"
             ],
             [
              0.6666666666666666,
              "#ed7953"
             ],
             [
              0.7777777777777778,
              "#fb9f3a"
             ],
             [
              0.8888888888888888,
              "#fdca26"
             ],
             [
              1,
              "#f0f921"
             ]
            ],
            "type": "heatmapgl"
           }
          ],
          "histogram": [
           {
            "marker": {
             "pattern": {
              "fillmode": "overlay",
              "size": 10,
              "solidity": 0.2
             }
            },
            "type": "histogram"
           }
          ],
          "histogram2d": [
           {
            "colorbar": {
             "outlinewidth": 0,
             "ticks": ""
            },
            "colorscale": [
             [
              0,
              "#0d0887"
             ],
             [
              0.1111111111111111,
              "#46039f"
             ],
             [
              0.2222222222222222,
              "#7201a8"
             ],
             [
              0.3333333333333333,
              "#9c179e"
             ],
             [
              0.4444444444444444,
              "#bd3786"
             ],
             [
              0.5555555555555556,
              "#d8576b"
             ],
             [
              0.6666666666666666,
              "#ed7953"
             ],
             [
              0.7777777777777778,
              "#fb9f3a"
             ],
             [
              0.8888888888888888,
              "#fdca26"
             ],
             [
              1,
              "#f0f921"
             ]
            ],
            "type": "histogram2d"
           }
          ],
          "histogram2dcontour": [
           {
            "colorbar": {
             "outlinewidth": 0,
             "ticks": ""
            },
            "colorscale": [
             [
              0,
              "#0d0887"
             ],
             [
              0.1111111111111111,
              "#46039f"
             ],
             [
              0.2222222222222222,
              "#7201a8"
             ],
             [
              0.3333333333333333,
              "#9c179e"
             ],
             [
              0.4444444444444444,
              "#bd3786"
             ],
             [
              0.5555555555555556,
              "#d8576b"
             ],
             [
              0.6666666666666666,
              "#ed7953"
             ],
             [
              0.7777777777777778,
              "#fb9f3a"
             ],
             [
              0.8888888888888888,
              "#fdca26"
             ],
             [
              1,
              "#f0f921"
             ]
            ],
            "type": "histogram2dcontour"
           }
          ],
          "mesh3d": [
           {
            "colorbar": {
             "outlinewidth": 0,
             "ticks": ""
            },
            "type": "mesh3d"
           }
          ],
          "parcoords": [
           {
            "line": {
             "colorbar": {
              "outlinewidth": 0,
              "ticks": ""
             }
            },
            "type": "parcoords"
           }
          ],
          "pie": [
           {
            "automargin": true,
            "type": "pie"
           }
          ],
          "scatter": [
           {
            "marker": {
             "colorbar": {
              "outlinewidth": 0,
              "ticks": ""
             }
            },
            "type": "scatter"
           }
          ],
          "scatter3d": [
           {
            "line": {
             "colorbar": {
              "outlinewidth": 0,
              "ticks": ""
             }
            },
            "marker": {
             "colorbar": {
              "outlinewidth": 0,
              "ticks": ""
             }
            },
            "type": "scatter3d"
           }
          ],
          "scattercarpet": [
           {
            "marker": {
             "colorbar": {
              "outlinewidth": 0,
              "ticks": ""
             }
            },
            "type": "scattercarpet"
           }
          ],
          "scattergeo": [
           {
            "marker": {
             "colorbar": {
              "outlinewidth": 0,
              "ticks": ""
             }
            },
            "type": "scattergeo"
           }
          ],
          "scattergl": [
           {
            "marker": {
             "colorbar": {
              "outlinewidth": 0,
              "ticks": ""
             }
            },
            "type": "scattergl"
           }
          ],
          "scattermapbox": [
           {
            "marker": {
             "colorbar": {
              "outlinewidth": 0,
              "ticks": ""
             }
            },
            "type": "scattermapbox"
           }
          ],
          "scatterpolar": [
           {
            "marker": {
             "colorbar": {
              "outlinewidth": 0,
              "ticks": ""
             }
            },
            "type": "scatterpolar"
           }
          ],
          "scatterpolargl": [
           {
            "marker": {
             "colorbar": {
              "outlinewidth": 0,
              "ticks": ""
             }
            },
            "type": "scatterpolargl"
           }
          ],
          "scatterternary": [
           {
            "marker": {
             "colorbar": {
              "outlinewidth": 0,
              "ticks": ""
             }
            },
            "type": "scatterternary"
           }
          ],
          "surface": [
           {
            "colorbar": {
             "outlinewidth": 0,
             "ticks": ""
            },
            "colorscale": [
             [
              0,
              "#0d0887"
             ],
             [
              0.1111111111111111,
              "#46039f"
             ],
             [
              0.2222222222222222,
              "#7201a8"
             ],
             [
              0.3333333333333333,
              "#9c179e"
             ],
             [
              0.4444444444444444,
              "#bd3786"
             ],
             [
              0.5555555555555556,
              "#d8576b"
             ],
             [
              0.6666666666666666,
              "#ed7953"
             ],
             [
              0.7777777777777778,
              "#fb9f3a"
             ],
             [
              0.8888888888888888,
              "#fdca26"
             ],
             [
              1,
              "#f0f921"
             ]
            ],
            "type": "surface"
           }
          ],
          "table": [
           {
            "cells": {
             "fill": {
              "color": "#EBF0F8"
             },
             "line": {
              "color": "white"
             }
            },
            "header": {
             "fill": {
              "color": "#C8D4E3"
             },
             "line": {
              "color": "white"
             }
            },
            "type": "table"
           }
          ]
         },
         "layout": {
          "annotationdefaults": {
           "arrowcolor": "#2a3f5f",
           "arrowhead": 0,
           "arrowwidth": 1
          },
          "autotypenumbers": "strict",
          "coloraxis": {
           "colorbar": {
            "outlinewidth": 0,
            "ticks": ""
           }
          },
          "colorscale": {
           "diverging": [
            [
             0,
             "#8e0152"
            ],
            [
             0.1,
             "#c51b7d"
            ],
            [
             0.2,
             "#de77ae"
            ],
            [
             0.3,
             "#f1b6da"
            ],
            [
             0.4,
             "#fde0ef"
            ],
            [
             0.5,
             "#f7f7f7"
            ],
            [
             0.6,
             "#e6f5d0"
            ],
            [
             0.7,
             "#b8e186"
            ],
            [
             0.8,
             "#7fbc41"
            ],
            [
             0.9,
             "#4d9221"
            ],
            [
             1,
             "#276419"
            ]
           ],
           "sequential": [
            [
             0,
             "#0d0887"
            ],
            [
             0.1111111111111111,
             "#46039f"
            ],
            [
             0.2222222222222222,
             "#7201a8"
            ],
            [
             0.3333333333333333,
             "#9c179e"
            ],
            [
             0.4444444444444444,
             "#bd3786"
            ],
            [
             0.5555555555555556,
             "#d8576b"
            ],
            [
             0.6666666666666666,
             "#ed7953"
            ],
            [
             0.7777777777777778,
             "#fb9f3a"
            ],
            [
             0.8888888888888888,
             "#fdca26"
            ],
            [
             1,
             "#f0f921"
            ]
           ],
           "sequentialminus": [
            [
             0,
             "#0d0887"
            ],
            [
             0.1111111111111111,
             "#46039f"
            ],
            [
             0.2222222222222222,
             "#7201a8"
            ],
            [
             0.3333333333333333,
             "#9c179e"
            ],
            [
             0.4444444444444444,
             "#bd3786"
            ],
            [
             0.5555555555555556,
             "#d8576b"
            ],
            [
             0.6666666666666666,
             "#ed7953"
            ],
            [
             0.7777777777777778,
             "#fb9f3a"
            ],
            [
             0.8888888888888888,
             "#fdca26"
            ],
            [
             1,
             "#f0f921"
            ]
           ]
          },
          "colorway": [
           "#636efa",
           "#EF553B",
           "#00cc96",
           "#ab63fa",
           "#FFA15A",
           "#19d3f3",
           "#FF6692",
           "#B6E880",
           "#FF97FF",
           "#FECB52"
          ],
          "font": {
           "color": "#2a3f5f"
          },
          "geo": {
           "bgcolor": "white",
           "lakecolor": "white",
           "landcolor": "#E5ECF6",
           "showlakes": true,
           "showland": true,
           "subunitcolor": "white"
          },
          "hoverlabel": {
           "align": "left"
          },
          "hovermode": "closest",
          "mapbox": {
           "style": "light"
          },
          "paper_bgcolor": "white",
          "plot_bgcolor": "#E5ECF6",
          "polar": {
           "angularaxis": {
            "gridcolor": "white",
            "linecolor": "white",
            "ticks": ""
           },
           "bgcolor": "#E5ECF6",
           "radialaxis": {
            "gridcolor": "white",
            "linecolor": "white",
            "ticks": ""
           }
          },
          "scene": {
           "xaxis": {
            "backgroundcolor": "#E5ECF6",
            "gridcolor": "white",
            "gridwidth": 2,
            "linecolor": "white",
            "showbackground": true,
            "ticks": "",
            "zerolinecolor": "white"
           },
           "yaxis": {
            "backgroundcolor": "#E5ECF6",
            "gridcolor": "white",
            "gridwidth": 2,
            "linecolor": "white",
            "showbackground": true,
            "ticks": "",
            "zerolinecolor": "white"
           },
           "zaxis": {
            "backgroundcolor": "#E5ECF6",
            "gridcolor": "white",
            "gridwidth": 2,
            "linecolor": "white",
            "showbackground": true,
            "ticks": "",
            "zerolinecolor": "white"
           }
          },
          "shapedefaults": {
           "line": {
            "color": "#2a3f5f"
           }
          },
          "ternary": {
           "aaxis": {
            "gridcolor": "white",
            "linecolor": "white",
            "ticks": ""
           },
           "baxis": {
            "gridcolor": "white",
            "linecolor": "white",
            "ticks": ""
           },
           "bgcolor": "#E5ECF6",
           "caxis": {
            "gridcolor": "white",
            "linecolor": "white",
            "ticks": ""
           }
          },
          "title": {
           "x": 0.05
          },
          "xaxis": {
           "automargin": true,
           "gridcolor": "white",
           "linecolor": "white",
           "ticks": "",
           "title": {
            "standoff": 15
           },
           "zerolinecolor": "white",
           "zerolinewidth": 2
          },
          "yaxis": {
           "automargin": true,
           "gridcolor": "white",
           "linecolor": "white",
           "ticks": "",
           "title": {
            "standoff": 15
           },
           "zerolinecolor": "white",
           "zerolinewidth": 2
          }
         }
        },
        "xaxis": {
         "anchor": "y",
         "domain": [
          0,
          1
         ],
         "title": {
          "text": "index"
         }
        },
        "yaxis": {
         "anchor": "x",
         "domain": [
          0,
          1
         ],
         "title": {
          "text": "value"
         }
        }
       }
      },
      "text/html": [
       "<div>                            <div id=\"324bed62-be75-4531-9e05-2805d851be77\" class=\"plotly-graph-div\" style=\"height:400px; width:100%;\"></div>            <script type=\"text/javascript\">                require([\"plotly\"], function(Plotly) {                    window.PLOTLYENV=window.PLOTLYENV || {};                                    if (document.getElementById(\"324bed62-be75-4531-9e05-2805d851be77\")) {                    Plotly.newPlot(                        \"324bed62-be75-4531-9e05-2805d851be77\",                        [{\"alignmentgroup\":\"True\",\"hovertemplate\":\"variable=BU<br>index=%{x}<br>value=%{y}<extra></extra>\",\"legendgroup\":\"BU\",\"marker\":{\"color\":\"#636efa\",\"pattern\":{\"shape\":\"\"}},\"name\":\"BU\",\"offsetgroup\":\"BU\",\"orientation\":\"v\",\"showlegend\":true,\"textposition\":\"auto\",\"x\":[\"Australia\",\"State\",\"Gender\",\"Legal\",\"Indigenous\",\"Overall\"],\"xaxis\":\"x\",\"y\":[-1204.9362288888665,-0.7413488010581074,-4.889860357930405,-12.232326305080692,0.0,-63.001288492883845],\"yaxis\":\"y\",\"type\":\"bar\"},{\"alignmentgroup\":\"True\",\"hovertemplate\":\"variable=OLS<br>index=%{x}<br>value=%{y}<extra></extra>\",\"legendgroup\":\"OLS\",\"marker\":{\"color\":\"#EF553B\",\"pattern\":{\"shape\":\"\"}},\"name\":\"OLS\",\"offsetgroup\":\"OLS\",\"orientation\":\"v\",\"showlegend\":true,\"textposition\":\"auto\",\"x\":[\"Australia\",\"State\",\"Gender\",\"Legal\",\"Indigenous\",\"Overall\"],\"xaxis\":\"x\",\"y\":[-13.275846329158883,8.906267432822675,10.048874153404288,-10.070240968662098,1.381038892917861,3.695151442769997],\"yaxis\":\"y\",\"type\":\"bar\"},{\"alignmentgroup\":\"True\",\"hovertemplate\":\"variable=WLS<br>index=%{x}<br>value=%{y}<extra></extra>\",\"legendgroup\":\"WLS\",\"marker\":{\"color\":\"#00cc96\",\"pattern\":{\"shape\":\"\"}},\"name\":\"WLS\",\"offsetgroup\":\"WLS\",\"orientation\":\"v\",\"showlegend\":true,\"textposition\":\"auto\",\"x\":[\"Australia\",\"State\",\"Gender\",\"Legal\",\"Indigenous\",\"Overall\"],\"xaxis\":\"x\",\"y\":[-230.43778880289082,14.76420227715126,13.384368371710364,-11.037498420804154,1.5718986484262332,-4.110239032811701],\"yaxis\":\"y\",\"type\":\"bar\"},{\"alignmentgroup\":\"True\",\"hovertemplate\":\"variable=MinT(Shrink)<br>index=%{x}<br>value=%{y}<extra></extra>\",\"legendgroup\":\"MinT(Shrink)\",\"marker\":{\"color\":\"#ab63fa\",\"pattern\":{\"shape\":\"\"}},\"name\":\"MinT(Shrink)\",\"offsetgroup\":\"MinT(Shrink)\",\"orientation\":\"v\",\"showlegend\":true,\"textposition\":\"auto\",\"x\":[\"Australia\",\"State\",\"Gender\",\"Legal\",\"Indigenous\",\"Overall\"],\"xaxis\":\"x\",\"y\":[-114.450766065332,20.707253446258026,19.009191586533568,-3.632025759177611,8.681384723362186,7.575853149938972],\"yaxis\":\"y\",\"type\":\"bar\"},{\"alignmentgroup\":\"True\",\"hovertemplate\":\"variable=ERM<br>index=%{x}<br>value=%{y}<extra></extra>\",\"legendgroup\":\"ERM\",\"marker\":{\"color\":\"#FFA15A\",\"pattern\":{\"shape\":\"\"}},\"name\":\"ERM\",\"offsetgroup\":\"ERM\",\"orientation\":\"v\",\"showlegend\":true,\"textposition\":\"auto\",\"x\":[\"Australia\",\"State\",\"Gender\",\"Legal\",\"Indigenous\",\"Overall\"],\"xaxis\":\"x\",\"y\":[-150.12657178513936,9.486221408612591,15.612175622920265,-59.5444518694354,-36.42984483818597,-15.393929505197418],\"yaxis\":\"y\",\"type\":\"bar\"},{\"alignmentgroup\":\"True\",\"hovertemplate\":\"variable=ML_CASE1<br>index=%{x}<br>value=%{y}<extra></extra>\",\"legendgroup\":\"ML_CASE1\",\"marker\":{\"color\":\"#19d3f3\",\"pattern\":{\"shape\":\"\"}},\"name\":\"ML_CASE1\",\"offsetgroup\":\"ML_CASE1\",\"orientation\":\"v\",\"showlegend\":true,\"textposition\":\"auto\",\"x\":[\"Australia\",\"State\",\"Gender\",\"Legal\",\"Indigenous\",\"Overall\"],\"xaxis\":\"x\",\"y\":[-902.8773814494107,6.118457179222045,2.4851587773542274,-7.105612462016178,3.348354358875795,-42.29416214040087],\"yaxis\":\"y\",\"type\":\"bar\"},{\"alignmentgroup\":\"True\",\"hovertemplate\":\"variable=ML_CASE1_MEAN<br>index=%{x}<br>value=%{y}<extra></extra>\",\"legendgroup\":\"ML_CASE1_MEAN\",\"marker\":{\"color\":\"#FF6692\",\"pattern\":{\"shape\":\"\"}},\"name\":\"ML_CASE1_MEAN\",\"offsetgroup\":\"ML_CASE1_MEAN\",\"orientation\":\"v\",\"showlegend\":true,\"textposition\":\"auto\",\"x\":[\"Australia\",\"State\",\"Gender\",\"Legal\",\"Indigenous\",\"Overall\"],\"xaxis\":\"x\",\"y\":[-921.6219922932768,4.068816914769825,0.41516934533784283,-8.635437653348218,2.2983867970706786,-44.93738081580999],\"yaxis\":\"y\",\"type\":\"bar\"},{\"alignmentgroup\":\"True\",\"hovertemplate\":\"variable=ML_CASE1_Lambda1<br>index=%{x}<br>value=%{y}<extra></extra>\",\"legendgroup\":\"ML_CASE1_Lambda1\",\"marker\":{\"color\":\"#B6E880\",\"pattern\":{\"shape\":\"\"}},\"name\":\"ML_CASE1_Lambda1\",\"offsetgroup\":\"ML_CASE1_Lambda1\",\"orientation\":\"v\",\"showlegend\":true,\"textposition\":\"auto\",\"x\":[\"Australia\",\"State\",\"Gender\",\"Legal\",\"Indigenous\",\"Overall\"],\"xaxis\":\"x\",\"y\":[-1187.0370229780463,-10.476288867987673,-12.069116883188407,-18.38019804778148,-3.9287379046943647,-69.22235978107956],\"yaxis\":\"y\",\"type\":\"bar\"},{\"alignmentgroup\":\"True\",\"hovertemplate\":\"variable=ML_CASE1_Lambda1_MEAN<br>index=%{x}<br>value=%{y}<extra></extra>\",\"legendgroup\":\"ML_CASE1_Lambda1_MEAN\",\"marker\":{\"color\":\"#FF97FF\",\"pattern\":{\"shape\":\"\"}},\"name\":\"ML_CASE1_Lambda1_MEAN\",\"offsetgroup\":\"ML_CASE1_Lambda1_MEAN\",\"orientation\":\"v\",\"showlegend\":true,\"textposition\":\"auto\",\"x\":[\"Australia\",\"State\",\"Gender\",\"Legal\",\"Indigenous\",\"Overall\"],\"xaxis\":\"x\",\"y\":[-1154.9267673626434,-9.556131897008978,-11.132581141163561,-16.11918440352941,-2.451233872483381,-66.44809106246834],\"yaxis\":\"y\",\"type\":\"bar\"},{\"alignmentgroup\":\"True\",\"hovertemplate\":\"variable=ML_CASE1_Lambda2<br>index=%{x}<br>value=%{y}<extra></extra>\",\"legendgroup\":\"ML_CASE1_Lambda2\",\"marker\":{\"color\":\"#FECB52\",\"pattern\":{\"shape\":\"\"}},\"name\":\"ML_CASE1_Lambda2\",\"offsetgroup\":\"ML_CASE1_Lambda2\",\"orientation\":\"v\",\"showlegend\":true,\"textposition\":\"auto\",\"x\":[\"Australia\",\"State\",\"Gender\",\"Legal\",\"Indigenous\",\"Overall\"],\"xaxis\":\"x\",\"y\":[-203.57697325281,47.350912163193975,46.19127062924742,22.247170745978874,22.040824344254723,26.68811911998964],\"yaxis\":\"y\",\"type\":\"bar\"},{\"alignmentgroup\":\"True\",\"hovertemplate\":\"variable=ML_CASE1_Lambda2_MEAN<br>index=%{x}<br>value=%{y}<extra></extra>\",\"legendgroup\":\"ML_CASE1_Lambda2_MEAN\",\"marker\":{\"color\":\"#636efa\",\"pattern\":{\"shape\":\"\"}},\"name\":\"ML_CASE1_Lambda2_MEAN\",\"offsetgroup\":\"ML_CASE1_Lambda2_MEAN\",\"orientation\":\"v\",\"showlegend\":true,\"textposition\":\"auto\",\"x\":[\"Australia\",\"State\",\"Gender\",\"Legal\",\"Indigenous\",\"Overall\"],\"xaxis\":\"x\",\"y\":[-172.68778972240125,51.846227467054106,50.895363393748774,19.688146223560935,20.750463744079102,30.47138486071325],\"yaxis\":\"y\",\"type\":\"bar\"}],                        {\"template\":{\"data\":{\"bar\":[{\"error_x\":{\"color\":\"#2a3f5f\"},\"error_y\":{\"color\":\"#2a3f5f\"},\"marker\":{\"line\":{\"color\":\"#E5ECF6\",\"width\":0.5},\"pattern\":{\"fillmode\":\"overlay\",\"size\":10,\"solidity\":0.2}},\"type\":\"bar\"}],\"barpolar\":[{\"marker\":{\"line\":{\"color\":\"#E5ECF6\",\"width\":0.5},\"pattern\":{\"fillmode\":\"overlay\",\"size\":10,\"solidity\":0.2}},\"type\":\"barpolar\"}],\"carpet\":[{\"aaxis\":{\"endlinecolor\":\"#2a3f5f\",\"gridcolor\":\"white\",\"linecolor\":\"white\",\"minorgridcolor\":\"white\",\"startlinecolor\":\"#2a3f5f\"},\"baxis\":{\"endlinecolor\":\"#2a3f5f\",\"gridcolor\":\"white\",\"linecolor\":\"white\",\"minorgridcolor\":\"white\",\"startlinecolor\":\"#2a3f5f\"},\"type\":\"carpet\"}],\"choropleth\":[{\"colorbar\":{\"outlinewidth\":0,\"ticks\":\"\"},\"type\":\"choropleth\"}],\"contour\":[{\"colorbar\":{\"outlinewidth\":0,\"ticks\":\"\"},\"colorscale\":[[0.0,\"#0d0887\"],[0.1111111111111111,\"#46039f\"],[0.2222222222222222,\"#7201a8\"],[0.3333333333333333,\"#9c179e\"],[0.4444444444444444,\"#bd3786\"],[0.5555555555555556,\"#d8576b\"],[0.6666666666666666,\"#ed7953\"],[0.7777777777777778,\"#fb9f3a\"],[0.8888888888888888,\"#fdca26\"],[1.0,\"#f0f921\"]],\"type\":\"contour\"}],\"contourcarpet\":[{\"colorbar\":{\"outlinewidth\":0,\"ticks\":\"\"},\"type\":\"contourcarpet\"}],\"heatmap\":[{\"colorbar\":{\"outlinewidth\":0,\"ticks\":\"\"},\"colorscale\":[[0.0,\"#0d0887\"],[0.1111111111111111,\"#46039f\"],[0.2222222222222222,\"#7201a8\"],[0.3333333333333333,\"#9c179e\"],[0.4444444444444444,\"#bd3786\"],[0.5555555555555556,\"#d8576b\"],[0.6666666666666666,\"#ed7953\"],[0.7777777777777778,\"#fb9f3a\"],[0.8888888888888888,\"#fdca26\"],[1.0,\"#f0f921\"]],\"type\":\"heatmap\"}],\"heatmapgl\":[{\"colorbar\":{\"outlinewidth\":0,\"ticks\":\"\"},\"colorscale\":[[0.0,\"#0d0887\"],[0.1111111111111111,\"#46039f\"],[0.2222222222222222,\"#7201a8\"],[0.3333333333333333,\"#9c179e\"],[0.4444444444444444,\"#bd3786\"],[0.5555555555555556,\"#d8576b\"],[0.6666666666666666,\"#ed7953\"],[0.7777777777777778,\"#fb9f3a\"],[0.8888888888888888,\"#fdca26\"],[1.0,\"#f0f921\"]],\"type\":\"heatmapgl\"}],\"histogram\":[{\"marker\":{\"pattern\":{\"fillmode\":\"overlay\",\"size\":10,\"solidity\":0.2}},\"type\":\"histogram\"}],\"histogram2d\":[{\"colorbar\":{\"outlinewidth\":0,\"ticks\":\"\"},\"colorscale\":[[0.0,\"#0d0887\"],[0.1111111111111111,\"#46039f\"],[0.2222222222222222,\"#7201a8\"],[0.3333333333333333,\"#9c179e\"],[0.4444444444444444,\"#bd3786\"],[0.5555555555555556,\"#d8576b\"],[0.6666666666666666,\"#ed7953\"],[0.7777777777777778,\"#fb9f3a\"],[0.8888888888888888,\"#fdca26\"],[1.0,\"#f0f921\"]],\"type\":\"histogram2d\"}],\"histogram2dcontour\":[{\"colorbar\":{\"outlinewidth\":0,\"ticks\":\"\"},\"colorscale\":[[0.0,\"#0d0887\"],[0.1111111111111111,\"#46039f\"],[0.2222222222222222,\"#7201a8\"],[0.3333333333333333,\"#9c179e\"],[0.4444444444444444,\"#bd3786\"],[0.5555555555555556,\"#d8576b\"],[0.6666666666666666,\"#ed7953\"],[0.7777777777777778,\"#fb9f3a\"],[0.8888888888888888,\"#fdca26\"],[1.0,\"#f0f921\"]],\"type\":\"histogram2dcontour\"}],\"mesh3d\":[{\"colorbar\":{\"outlinewidth\":0,\"ticks\":\"\"},\"type\":\"mesh3d\"}],\"parcoords\":[{\"line\":{\"colorbar\":{\"outlinewidth\":0,\"ticks\":\"\"}},\"type\":\"parcoords\"}],\"pie\":[{\"automargin\":true,\"type\":\"pie\"}],\"scatter\":[{\"marker\":{\"colorbar\":{\"outlinewidth\":0,\"ticks\":\"\"}},\"type\":\"scatter\"}],\"scatter3d\":[{\"line\":{\"colorbar\":{\"outlinewidth\":0,\"ticks\":\"\"}},\"marker\":{\"colorbar\":{\"outlinewidth\":0,\"ticks\":\"\"}},\"type\":\"scatter3d\"}],\"scattercarpet\":[{\"marker\":{\"colorbar\":{\"outlinewidth\":0,\"ticks\":\"\"}},\"type\":\"scattercarpet\"}],\"scattergeo\":[{\"marker\":{\"colorbar\":{\"outlinewidth\":0,\"ticks\":\"\"}},\"type\":\"scattergeo\"}],\"scattergl\":[{\"marker\":{\"colorbar\":{\"outlinewidth\":0,\"ticks\":\"\"}},\"type\":\"scattergl\"}],\"scattermapbox\":[{\"marker\":{\"colorbar\":{\"outlinewidth\":0,\"ticks\":\"\"}},\"type\":\"scattermapbox\"}],\"scatterpolar\":[{\"marker\":{\"colorbar\":{\"outlinewidth\":0,\"ticks\":\"\"}},\"type\":\"scatterpolar\"}],\"scatterpolargl\":[{\"marker\":{\"colorbar\":{\"outlinewidth\":0,\"ticks\":\"\"}},\"type\":\"scatterpolargl\"}],\"scatterternary\":[{\"marker\":{\"colorbar\":{\"outlinewidth\":0,\"ticks\":\"\"}},\"type\":\"scatterternary\"}],\"surface\":[{\"colorbar\":{\"outlinewidth\":0,\"ticks\":\"\"},\"colorscale\":[[0.0,\"#0d0887\"],[0.1111111111111111,\"#46039f\"],[0.2222222222222222,\"#7201a8\"],[0.3333333333333333,\"#9c179e\"],[0.4444444444444444,\"#bd3786\"],[0.5555555555555556,\"#d8576b\"],[0.6666666666666666,\"#ed7953\"],[0.7777777777777778,\"#fb9f3a\"],[0.8888888888888888,\"#fdca26\"],[1.0,\"#f0f921\"]],\"type\":\"surface\"}],\"table\":[{\"cells\":{\"fill\":{\"color\":\"#EBF0F8\"},\"line\":{\"color\":\"white\"}},\"header\":{\"fill\":{\"color\":\"#C8D4E3\"},\"line\":{\"color\":\"white\"}},\"type\":\"table\"}]},\"layout\":{\"annotationdefaults\":{\"arrowcolor\":\"#2a3f5f\",\"arrowhead\":0,\"arrowwidth\":1},\"autotypenumbers\":\"strict\",\"coloraxis\":{\"colorbar\":{\"outlinewidth\":0,\"ticks\":\"\"}},\"colorscale\":{\"diverging\":[[0,\"#8e0152\"],[0.1,\"#c51b7d\"],[0.2,\"#de77ae\"],[0.3,\"#f1b6da\"],[0.4,\"#fde0ef\"],[0.5,\"#f7f7f7\"],[0.6,\"#e6f5d0\"],[0.7,\"#b8e186\"],[0.8,\"#7fbc41\"],[0.9,\"#4d9221\"],[1,\"#276419\"]],\"sequential\":[[0.0,\"#0d0887\"],[0.1111111111111111,\"#46039f\"],[0.2222222222222222,\"#7201a8\"],[0.3333333333333333,\"#9c179e\"],[0.4444444444444444,\"#bd3786\"],[0.5555555555555556,\"#d8576b\"],[0.6666666666666666,\"#ed7953\"],[0.7777777777777778,\"#fb9f3a\"],[0.8888888888888888,\"#fdca26\"],[1.0,\"#f0f921\"]],\"sequentialminus\":[[0.0,\"#0d0887\"],[0.1111111111111111,\"#46039f\"],[0.2222222222222222,\"#7201a8\"],[0.3333333333333333,\"#9c179e\"],[0.4444444444444444,\"#bd3786\"],[0.5555555555555556,\"#d8576b\"],[0.6666666666666666,\"#ed7953\"],[0.7777777777777778,\"#fb9f3a\"],[0.8888888888888888,\"#fdca26\"],[1.0,\"#f0f921\"]]},\"colorway\":[\"#636efa\",\"#EF553B\",\"#00cc96\",\"#ab63fa\",\"#FFA15A\",\"#19d3f3\",\"#FF6692\",\"#B6E880\",\"#FF97FF\",\"#FECB52\"],\"font\":{\"color\":\"#2a3f5f\"},\"geo\":{\"bgcolor\":\"white\",\"lakecolor\":\"white\",\"landcolor\":\"#E5ECF6\",\"showlakes\":true,\"showland\":true,\"subunitcolor\":\"white\"},\"hoverlabel\":{\"align\":\"left\"},\"hovermode\":\"closest\",\"mapbox\":{\"style\":\"light\"},\"paper_bgcolor\":\"white\",\"plot_bgcolor\":\"#E5ECF6\",\"polar\":{\"angularaxis\":{\"gridcolor\":\"white\",\"linecolor\":\"white\",\"ticks\":\"\"},\"bgcolor\":\"#E5ECF6\",\"radialaxis\":{\"gridcolor\":\"white\",\"linecolor\":\"white\",\"ticks\":\"\"}},\"scene\":{\"xaxis\":{\"backgroundcolor\":\"#E5ECF6\",\"gridcolor\":\"white\",\"gridwidth\":2,\"linecolor\":\"white\",\"showbackground\":true,\"ticks\":\"\",\"zerolinecolor\":\"white\"},\"yaxis\":{\"backgroundcolor\":\"#E5ECF6\",\"gridcolor\":\"white\",\"gridwidth\":2,\"linecolor\":\"white\",\"showbackground\":true,\"ticks\":\"\",\"zerolinecolor\":\"white\"},\"zaxis\":{\"backgroundcolor\":\"#E5ECF6\",\"gridcolor\":\"white\",\"gridwidth\":2,\"linecolor\":\"white\",\"showbackground\":true,\"ticks\":\"\",\"zerolinecolor\":\"white\"}},\"shapedefaults\":{\"line\":{\"color\":\"#2a3f5f\"}},\"ternary\":{\"aaxis\":{\"gridcolor\":\"white\",\"linecolor\":\"white\",\"ticks\":\"\"},\"baxis\":{\"gridcolor\":\"white\",\"linecolor\":\"white\",\"ticks\":\"\"},\"bgcolor\":\"#E5ECF6\",\"caxis\":{\"gridcolor\":\"white\",\"linecolor\":\"white\",\"ticks\":\"\"}},\"title\":{\"x\":0.05},\"xaxis\":{\"automargin\":true,\"gridcolor\":\"white\",\"linecolor\":\"white\",\"ticks\":\"\",\"title\":{\"standoff\":15},\"zerolinecolor\":\"white\",\"zerolinewidth\":2},\"yaxis\":{\"automargin\":true,\"gridcolor\":\"white\",\"linecolor\":\"white\",\"ticks\":\"\",\"title\":{\"standoff\":15},\"zerolinecolor\":\"white\",\"zerolinewidth\":2}}},\"xaxis\":{\"anchor\":\"y\",\"domain\":[0.0,1.0],\"title\":{\"text\":\"index\"}},\"yaxis\":{\"anchor\":\"x\",\"domain\":[0.0,1.0],\"title\":{\"text\":\"value\"}},\"legend\":{\"title\":{\"text\":\"variable\"},\"tracegroupgap\":0,\"orientation\":\"h\",\"yanchor\":\"bottom\",\"y\":-0.25},\"margin\":{\"t\":60},\"barmode\":\"group\",\"height\":400},                        {\"responsive\": true}                    ).then(function(){\n",
       "                            \n",
       "var gd = document.getElementById('324bed62-be75-4531-9e05-2805d851be77');\n",
       "var x = new MutationObserver(function (mutations, observer) {{\n",
       "        var display = window.getComputedStyle(gd).display;\n",
       "        if (!display || display === 'none') {{\n",
       "            console.log([gd, 'removed!']);\n",
       "            Plotly.purge(gd);\n",
       "            observer.disconnect();\n",
       "        }}\n",
       "}});\n",
       "\n",
       "// Listen for the removal of the full notebook cells\n",
       "var notebookContainer = gd.closest('#notebook-container');\n",
       "if (notebookContainer) {{\n",
       "    x.observe(notebookContainer, {childList: true});\n",
       "}}\n",
       "\n",
       "// Listen for the clearing of the current output cell\n",
       "var outputEl = gd.closest('.output');\n",
       "if (outputEl) {{\n",
       "    x.observe(outputEl, {childList: true});\n",
       "}}\n",
       "\n",
       "                        })                };                });            </script>        </div>"
      ]
     },
     "metadata": {},
     "output_type": "display_data"
    }
   ],
   "source": [
    "draw_plot(percentages_prison_arima['MSE'].iloc[:, 0:11])"
   ]
  },
  {
   "cell_type": "code",
   "execution_count": 43,
   "metadata": {},
   "outputs": [
    {
     "data": {
      "application/vnd.plotly.v1+json": {
       "config": {
        "plotlyServerURL": "https://plot.ly"
       },
       "data": [
        {
         "alignmentgroup": "True",
         "hovertemplate": "variable=BU<br>index=%{x}<br>value=%{y}<extra></extra>",
         "legendgroup": "BU",
         "marker": {
          "color": "#636efa",
          "pattern": {
           "shape": ""
          }
         },
         "name": "BU",
         "offsetgroup": "BU",
         "orientation": "v",
         "showlegend": true,
         "textposition": "auto",
         "type": "bar",
         "x": [
          "Australia",
          "State",
          "Gender",
          "Legal",
          "Indigenous",
          "Overall"
         ],
         "xaxis": "x",
         "y": [
          -1204.9362288888665,
          -0.7413488010581074,
          -4.889860357930405,
          -12.232326305080692,
          0,
          -63.001288492883845
         ],
         "yaxis": "y"
        },
        {
         "alignmentgroup": "True",
         "hovertemplate": "variable=OLS<br>index=%{x}<br>value=%{y}<extra></extra>",
         "legendgroup": "OLS",
         "marker": {
          "color": "#EF553B",
          "pattern": {
           "shape": ""
          }
         },
         "name": "OLS",
         "offsetgroup": "OLS",
         "orientation": "v",
         "showlegend": true,
         "textposition": "auto",
         "type": "bar",
         "x": [
          "Australia",
          "State",
          "Gender",
          "Legal",
          "Indigenous",
          "Overall"
         ],
         "xaxis": "x",
         "y": [
          -13.275846329158883,
          8.906267432822675,
          10.048874153404288,
          -10.070240968662098,
          1.381038892917861,
          3.695151442769997
         ],
         "yaxis": "y"
        },
        {
         "alignmentgroup": "True",
         "hovertemplate": "variable=WLS<br>index=%{x}<br>value=%{y}<extra></extra>",
         "legendgroup": "WLS",
         "marker": {
          "color": "#00cc96",
          "pattern": {
           "shape": ""
          }
         },
         "name": "WLS",
         "offsetgroup": "WLS",
         "orientation": "v",
         "showlegend": true,
         "textposition": "auto",
         "type": "bar",
         "x": [
          "Australia",
          "State",
          "Gender",
          "Legal",
          "Indigenous",
          "Overall"
         ],
         "xaxis": "x",
         "y": [
          -230.43778880289082,
          14.76420227715126,
          13.384368371710364,
          -11.037498420804154,
          1.5718986484262332,
          -4.110239032811701
         ],
         "yaxis": "y"
        },
        {
         "alignmentgroup": "True",
         "hovertemplate": "variable=MinT(Shrink)<br>index=%{x}<br>value=%{y}<extra></extra>",
         "legendgroup": "MinT(Shrink)",
         "marker": {
          "color": "#ab63fa",
          "pattern": {
           "shape": ""
          }
         },
         "name": "MinT(Shrink)",
         "offsetgroup": "MinT(Shrink)",
         "orientation": "v",
         "showlegend": true,
         "textposition": "auto",
         "type": "bar",
         "x": [
          "Australia",
          "State",
          "Gender",
          "Legal",
          "Indigenous",
          "Overall"
         ],
         "xaxis": "x",
         "y": [
          -114.450766065332,
          20.707253446258026,
          19.009191586533568,
          -3.632025759177611,
          8.681384723362186,
          7.575853149938972
         ],
         "yaxis": "y"
        },
        {
         "alignmentgroup": "True",
         "hovertemplate": "variable=ERM<br>index=%{x}<br>value=%{y}<extra></extra>",
         "legendgroup": "ERM",
         "marker": {
          "color": "#FFA15A",
          "pattern": {
           "shape": ""
          }
         },
         "name": "ERM",
         "offsetgroup": "ERM",
         "orientation": "v",
         "showlegend": true,
         "textposition": "auto",
         "type": "bar",
         "x": [
          "Australia",
          "State",
          "Gender",
          "Legal",
          "Indigenous",
          "Overall"
         ],
         "xaxis": "x",
         "y": [
          -150.12657178513936,
          9.486221408612591,
          15.612175622920265,
          -59.5444518694354,
          -36.42984483818597,
          -15.393929505197418
         ],
         "yaxis": "y"
        },
        {
         "alignmentgroup": "True",
         "hovertemplate": "variable=ML_CASE2<br>index=%{x}<br>value=%{y}<extra></extra>",
         "legendgroup": "ML_CASE2",
         "marker": {
          "color": "#19d3f3",
          "pattern": {
           "shape": ""
          }
         },
         "name": "ML_CASE2",
         "offsetgroup": "ML_CASE2",
         "orientation": "v",
         "showlegend": true,
         "textposition": "auto",
         "type": "bar",
         "x": [
          "Australia",
          "State",
          "Gender",
          "Legal",
          "Indigenous",
          "Overall"
         ],
         "xaxis": "x",
         "y": [
          -902.8773814494107,
          6.118457179222045,
          2.4851587773542274,
          -7.105612462016178,
          3.348354358875795,
          -42.29416214040087
         ],
         "yaxis": "y"
        },
        {
         "alignmentgroup": "True",
         "hovertemplate": "variable=ML_CASE2_MEAN<br>index=%{x}<br>value=%{y}<extra></extra>",
         "legendgroup": "ML_CASE2_MEAN",
         "marker": {
          "color": "#FF6692",
          "pattern": {
           "shape": ""
          }
         },
         "name": "ML_CASE2_MEAN",
         "offsetgroup": "ML_CASE2_MEAN",
         "orientation": "v",
         "showlegend": true,
         "textposition": "auto",
         "type": "bar",
         "x": [
          "Australia",
          "State",
          "Gender",
          "Legal",
          "Indigenous",
          "Overall"
         ],
         "xaxis": "x",
         "y": [
          -921.6219922932768,
          4.068816914769825,
          0.41516934533784283,
          -8.635437653348218,
          2.2983867970706786,
          -44.93738081580999
         ],
         "yaxis": "y"
        },
        {
         "alignmentgroup": "True",
         "hovertemplate": "variable=ML_CASE2_Lambda1<br>index=%{x}<br>value=%{y}<extra></extra>",
         "legendgroup": "ML_CASE2_Lambda1",
         "marker": {
          "color": "#B6E880",
          "pattern": {
           "shape": ""
          }
         },
         "name": "ML_CASE2_Lambda1",
         "offsetgroup": "ML_CASE2_Lambda1",
         "orientation": "v",
         "showlegend": true,
         "textposition": "auto",
         "type": "bar",
         "x": [
          "Australia",
          "State",
          "Gender",
          "Legal",
          "Indigenous",
          "Overall"
         ],
         "xaxis": "x",
         "y": [
          -1080.4278816677825,
          1.8307593267484181,
          -1.1799694762402964,
          -8.213584575079953,
          2.5584763498483203,
          -53.86763735373391
         ],
         "yaxis": "y"
        },
        {
         "alignmentgroup": "True",
         "hovertemplate": "variable=ML_CASE2_Lambda1_MEAN<br>index=%{x}<br>value=%{y}<extra></extra>",
         "legendgroup": "ML_CASE2_Lambda1_MEAN",
         "marker": {
          "color": "#FF97FF",
          "pattern": {
           "shape": ""
          }
         },
         "name": "ML_CASE2_Lambda1_MEAN",
         "offsetgroup": "ML_CASE2_Lambda1_MEAN",
         "orientation": "v",
         "showlegend": true,
         "textposition": "auto",
         "type": "bar",
         "x": [
          "Australia",
          "State",
          "Gender",
          "Legal",
          "Indigenous",
          "Overall"
         ],
         "xaxis": "x",
         "y": [
          -1171.742917341485,
          -5.693207980106035,
          -7.740838086171946,
          -13.391705398522538,
          -0.7513344255785012,
          -64.23591194513644
         ],
         "yaxis": "y"
        },
        {
         "alignmentgroup": "True",
         "hovertemplate": "variable=ML_CASE2_Lambda2<br>index=%{x}<br>value=%{y}<extra></extra>",
         "legendgroup": "ML_CASE2_Lambda2",
         "marker": {
          "color": "#FECB52",
          "pattern": {
           "shape": ""
          }
         },
         "name": "ML_CASE2_Lambda2",
         "offsetgroup": "ML_CASE2_Lambda2",
         "orientation": "v",
         "showlegend": true,
         "textposition": "auto",
         "type": "bar",
         "x": [
          "Australia",
          "State",
          "Gender",
          "Legal",
          "Indigenous",
          "Overall"
         ],
         "xaxis": "x",
         "y": [
          -965.2376146900606,
          3.3058968623048863,
          2.2245763352264127,
          -8.302539014448802,
          2.6956617763389117,
          -46.738537431615384
         ],
         "yaxis": "y"
        },
        {
         "alignmentgroup": "True",
         "hovertemplate": "variable=ML_CASE2_Lambda2_MEAN<br>index=%{x}<br>value=%{y}<extra></extra>",
         "legendgroup": "ML_CASE2_Lambda2_MEAN",
         "marker": {
          "color": "#636efa",
          "pattern": {
           "shape": ""
          }
         },
         "name": "ML_CASE2_Lambda2_MEAN",
         "offsetgroup": "ML_CASE2_Lambda2_MEAN",
         "orientation": "v",
         "showlegend": true,
         "textposition": "auto",
         "type": "bar",
         "x": [
          "Australia",
          "State",
          "Gender",
          "Legal",
          "Indigenous",
          "Overall"
         ],
         "xaxis": "x",
         "y": [
          -970.9699273888575,
          2.3364241565604376,
          2.061136319196766,
          -8.382620866662672,
          2.4793186598725194,
          -47.455759221162666
         ],
         "yaxis": "y"
        }
       ],
       "layout": {
        "barmode": "group",
        "height": 400,
        "legend": {
         "orientation": "h",
         "title": {
          "text": "variable"
         },
         "tracegroupgap": 0,
         "y": -0.25,
         "yanchor": "bottom"
        },
        "margin": {
         "t": 60
        },
        "template": {
         "data": {
          "bar": [
           {
            "error_x": {
             "color": "#2a3f5f"
            },
            "error_y": {
             "color": "#2a3f5f"
            },
            "marker": {
             "line": {
              "color": "#E5ECF6",
              "width": 0.5
             },
             "pattern": {
              "fillmode": "overlay",
              "size": 10,
              "solidity": 0.2
             }
            },
            "type": "bar"
           }
          ],
          "barpolar": [
           {
            "marker": {
             "line": {
              "color": "#E5ECF6",
              "width": 0.5
             },
             "pattern": {
              "fillmode": "overlay",
              "size": 10,
              "solidity": 0.2
             }
            },
            "type": "barpolar"
           }
          ],
          "carpet": [
           {
            "aaxis": {
             "endlinecolor": "#2a3f5f",
             "gridcolor": "white",
             "linecolor": "white",
             "minorgridcolor": "white",
             "startlinecolor": "#2a3f5f"
            },
            "baxis": {
             "endlinecolor": "#2a3f5f",
             "gridcolor": "white",
             "linecolor": "white",
             "minorgridcolor": "white",
             "startlinecolor": "#2a3f5f"
            },
            "type": "carpet"
           }
          ],
          "choropleth": [
           {
            "colorbar": {
             "outlinewidth": 0,
             "ticks": ""
            },
            "type": "choropleth"
           }
          ],
          "contour": [
           {
            "colorbar": {
             "outlinewidth": 0,
             "ticks": ""
            },
            "colorscale": [
             [
              0,
              "#0d0887"
             ],
             [
              0.1111111111111111,
              "#46039f"
             ],
             [
              0.2222222222222222,
              "#7201a8"
             ],
             [
              0.3333333333333333,
              "#9c179e"
             ],
             [
              0.4444444444444444,
              "#bd3786"
             ],
             [
              0.5555555555555556,
              "#d8576b"
             ],
             [
              0.6666666666666666,
              "#ed7953"
             ],
             [
              0.7777777777777778,
              "#fb9f3a"
             ],
             [
              0.8888888888888888,
              "#fdca26"
             ],
             [
              1,
              "#f0f921"
             ]
            ],
            "type": "contour"
           }
          ],
          "contourcarpet": [
           {
            "colorbar": {
             "outlinewidth": 0,
             "ticks": ""
            },
            "type": "contourcarpet"
           }
          ],
          "heatmap": [
           {
            "colorbar": {
             "outlinewidth": 0,
             "ticks": ""
            },
            "colorscale": [
             [
              0,
              "#0d0887"
             ],
             [
              0.1111111111111111,
              "#46039f"
             ],
             [
              0.2222222222222222,
              "#7201a8"
             ],
             [
              0.3333333333333333,
              "#9c179e"
             ],
             [
              0.4444444444444444,
              "#bd3786"
             ],
             [
              0.5555555555555556,
              "#d8576b"
             ],
             [
              0.6666666666666666,
              "#ed7953"
             ],
             [
              0.7777777777777778,
              "#fb9f3a"
             ],
             [
              0.8888888888888888,
              "#fdca26"
             ],
             [
              1,
              "#f0f921"
             ]
            ],
            "type": "heatmap"
           }
          ],
          "heatmapgl": [
           {
            "colorbar": {
             "outlinewidth": 0,
             "ticks": ""
            },
            "colorscale": [
             [
              0,
              "#0d0887"
             ],
             [
              0.1111111111111111,
              "#46039f"
             ],
             [
              0.2222222222222222,
              "#7201a8"
             ],
             [
              0.3333333333333333,
              "#9c179e"
             ],
             [
              0.4444444444444444,
              "#bd3786"
             ],
             [
              0.5555555555555556,
              "#d8576b"
             ],
             [
              0.6666666666666666,
              "#ed7953"
             ],
             [
              0.7777777777777778,
              "#fb9f3a"
             ],
             [
              0.8888888888888888,
              "#fdca26"
             ],
             [
              1,
              "#f0f921"
             ]
            ],
            "type": "heatmapgl"
           }
          ],
          "histogram": [
           {
            "marker": {
             "pattern": {
              "fillmode": "overlay",
              "size": 10,
              "solidity": 0.2
             }
            },
            "type": "histogram"
           }
          ],
          "histogram2d": [
           {
            "colorbar": {
             "outlinewidth": 0,
             "ticks": ""
            },
            "colorscale": [
             [
              0,
              "#0d0887"
             ],
             [
              0.1111111111111111,
              "#46039f"
             ],
             [
              0.2222222222222222,
              "#7201a8"
             ],
             [
              0.3333333333333333,
              "#9c179e"
             ],
             [
              0.4444444444444444,
              "#bd3786"
             ],
             [
              0.5555555555555556,
              "#d8576b"
             ],
             [
              0.6666666666666666,
              "#ed7953"
             ],
             [
              0.7777777777777778,
              "#fb9f3a"
             ],
             [
              0.8888888888888888,
              "#fdca26"
             ],
             [
              1,
              "#f0f921"
             ]
            ],
            "type": "histogram2d"
           }
          ],
          "histogram2dcontour": [
           {
            "colorbar": {
             "outlinewidth": 0,
             "ticks": ""
            },
            "colorscale": [
             [
              0,
              "#0d0887"
             ],
             [
              0.1111111111111111,
              "#46039f"
             ],
             [
              0.2222222222222222,
              "#7201a8"
             ],
             [
              0.3333333333333333,
              "#9c179e"
             ],
             [
              0.4444444444444444,
              "#bd3786"
             ],
             [
              0.5555555555555556,
              "#d8576b"
             ],
             [
              0.6666666666666666,
              "#ed7953"
             ],
             [
              0.7777777777777778,
              "#fb9f3a"
             ],
             [
              0.8888888888888888,
              "#fdca26"
             ],
             [
              1,
              "#f0f921"
             ]
            ],
            "type": "histogram2dcontour"
           }
          ],
          "mesh3d": [
           {
            "colorbar": {
             "outlinewidth": 0,
             "ticks": ""
            },
            "type": "mesh3d"
           }
          ],
          "parcoords": [
           {
            "line": {
             "colorbar": {
              "outlinewidth": 0,
              "ticks": ""
             }
            },
            "type": "parcoords"
           }
          ],
          "pie": [
           {
            "automargin": true,
            "type": "pie"
           }
          ],
          "scatter": [
           {
            "marker": {
             "colorbar": {
              "outlinewidth": 0,
              "ticks": ""
             }
            },
            "type": "scatter"
           }
          ],
          "scatter3d": [
           {
            "line": {
             "colorbar": {
              "outlinewidth": 0,
              "ticks": ""
             }
            },
            "marker": {
             "colorbar": {
              "outlinewidth": 0,
              "ticks": ""
             }
            },
            "type": "scatter3d"
           }
          ],
          "scattercarpet": [
           {
            "marker": {
             "colorbar": {
              "outlinewidth": 0,
              "ticks": ""
             }
            },
            "type": "scattercarpet"
           }
          ],
          "scattergeo": [
           {
            "marker": {
             "colorbar": {
              "outlinewidth": 0,
              "ticks": ""
             }
            },
            "type": "scattergeo"
           }
          ],
          "scattergl": [
           {
            "marker": {
             "colorbar": {
              "outlinewidth": 0,
              "ticks": ""
             }
            },
            "type": "scattergl"
           }
          ],
          "scattermapbox": [
           {
            "marker": {
             "colorbar": {
              "outlinewidth": 0,
              "ticks": ""
             }
            },
            "type": "scattermapbox"
           }
          ],
          "scatterpolar": [
           {
            "marker": {
             "colorbar": {
              "outlinewidth": 0,
              "ticks": ""
             }
            },
            "type": "scatterpolar"
           }
          ],
          "scatterpolargl": [
           {
            "marker": {
             "colorbar": {
              "outlinewidth": 0,
              "ticks": ""
             }
            },
            "type": "scatterpolargl"
           }
          ],
          "scatterternary": [
           {
            "marker": {
             "colorbar": {
              "outlinewidth": 0,
              "ticks": ""
             }
            },
            "type": "scatterternary"
           }
          ],
          "surface": [
           {
            "colorbar": {
             "outlinewidth": 0,
             "ticks": ""
            },
            "colorscale": [
             [
              0,
              "#0d0887"
             ],
             [
              0.1111111111111111,
              "#46039f"
             ],
             [
              0.2222222222222222,
              "#7201a8"
             ],
             [
              0.3333333333333333,
              "#9c179e"
             ],
             [
              0.4444444444444444,
              "#bd3786"
             ],
             [
              0.5555555555555556,
              "#d8576b"
             ],
             [
              0.6666666666666666,
              "#ed7953"
             ],
             [
              0.7777777777777778,
              "#fb9f3a"
             ],
             [
              0.8888888888888888,
              "#fdca26"
             ],
             [
              1,
              "#f0f921"
             ]
            ],
            "type": "surface"
           }
          ],
          "table": [
           {
            "cells": {
             "fill": {
              "color": "#EBF0F8"
             },
             "line": {
              "color": "white"
             }
            },
            "header": {
             "fill": {
              "color": "#C8D4E3"
             },
             "line": {
              "color": "white"
             }
            },
            "type": "table"
           }
          ]
         },
         "layout": {
          "annotationdefaults": {
           "arrowcolor": "#2a3f5f",
           "arrowhead": 0,
           "arrowwidth": 1
          },
          "autotypenumbers": "strict",
          "coloraxis": {
           "colorbar": {
            "outlinewidth": 0,
            "ticks": ""
           }
          },
          "colorscale": {
           "diverging": [
            [
             0,
             "#8e0152"
            ],
            [
             0.1,
             "#c51b7d"
            ],
            [
             0.2,
             "#de77ae"
            ],
            [
             0.3,
             "#f1b6da"
            ],
            [
             0.4,
             "#fde0ef"
            ],
            [
             0.5,
             "#f7f7f7"
            ],
            [
             0.6,
             "#e6f5d0"
            ],
            [
             0.7,
             "#b8e186"
            ],
            [
             0.8,
             "#7fbc41"
            ],
            [
             0.9,
             "#4d9221"
            ],
            [
             1,
             "#276419"
            ]
           ],
           "sequential": [
            [
             0,
             "#0d0887"
            ],
            [
             0.1111111111111111,
             "#46039f"
            ],
            [
             0.2222222222222222,
             "#7201a8"
            ],
            [
             0.3333333333333333,
             "#9c179e"
            ],
            [
             0.4444444444444444,
             "#bd3786"
            ],
            [
             0.5555555555555556,
             "#d8576b"
            ],
            [
             0.6666666666666666,
             "#ed7953"
            ],
            [
             0.7777777777777778,
             "#fb9f3a"
            ],
            [
             0.8888888888888888,
             "#fdca26"
            ],
            [
             1,
             "#f0f921"
            ]
           ],
           "sequentialminus": [
            [
             0,
             "#0d0887"
            ],
            [
             0.1111111111111111,
             "#46039f"
            ],
            [
             0.2222222222222222,
             "#7201a8"
            ],
            [
             0.3333333333333333,
             "#9c179e"
            ],
            [
             0.4444444444444444,
             "#bd3786"
            ],
            [
             0.5555555555555556,
             "#d8576b"
            ],
            [
             0.6666666666666666,
             "#ed7953"
            ],
            [
             0.7777777777777778,
             "#fb9f3a"
            ],
            [
             0.8888888888888888,
             "#fdca26"
            ],
            [
             1,
             "#f0f921"
            ]
           ]
          },
          "colorway": [
           "#636efa",
           "#EF553B",
           "#00cc96",
           "#ab63fa",
           "#FFA15A",
           "#19d3f3",
           "#FF6692",
           "#B6E880",
           "#FF97FF",
           "#FECB52"
          ],
          "font": {
           "color": "#2a3f5f"
          },
          "geo": {
           "bgcolor": "white",
           "lakecolor": "white",
           "landcolor": "#E5ECF6",
           "showlakes": true,
           "showland": true,
           "subunitcolor": "white"
          },
          "hoverlabel": {
           "align": "left"
          },
          "hovermode": "closest",
          "mapbox": {
           "style": "light"
          },
          "paper_bgcolor": "white",
          "plot_bgcolor": "#E5ECF6",
          "polar": {
           "angularaxis": {
            "gridcolor": "white",
            "linecolor": "white",
            "ticks": ""
           },
           "bgcolor": "#E5ECF6",
           "radialaxis": {
            "gridcolor": "white",
            "linecolor": "white",
            "ticks": ""
           }
          },
          "scene": {
           "xaxis": {
            "backgroundcolor": "#E5ECF6",
            "gridcolor": "white",
            "gridwidth": 2,
            "linecolor": "white",
            "showbackground": true,
            "ticks": "",
            "zerolinecolor": "white"
           },
           "yaxis": {
            "backgroundcolor": "#E5ECF6",
            "gridcolor": "white",
            "gridwidth": 2,
            "linecolor": "white",
            "showbackground": true,
            "ticks": "",
            "zerolinecolor": "white"
           },
           "zaxis": {
            "backgroundcolor": "#E5ECF6",
            "gridcolor": "white",
            "gridwidth": 2,
            "linecolor": "white",
            "showbackground": true,
            "ticks": "",
            "zerolinecolor": "white"
           }
          },
          "shapedefaults": {
           "line": {
            "color": "#2a3f5f"
           }
          },
          "ternary": {
           "aaxis": {
            "gridcolor": "white",
            "linecolor": "white",
            "ticks": ""
           },
           "baxis": {
            "gridcolor": "white",
            "linecolor": "white",
            "ticks": ""
           },
           "bgcolor": "#E5ECF6",
           "caxis": {
            "gridcolor": "white",
            "linecolor": "white",
            "ticks": ""
           }
          },
          "title": {
           "x": 0.05
          },
          "xaxis": {
           "automargin": true,
           "gridcolor": "white",
           "linecolor": "white",
           "ticks": "",
           "title": {
            "standoff": 15
           },
           "zerolinecolor": "white",
           "zerolinewidth": 2
          },
          "yaxis": {
           "automargin": true,
           "gridcolor": "white",
           "linecolor": "white",
           "ticks": "",
           "title": {
            "standoff": 15
           },
           "zerolinecolor": "white",
           "zerolinewidth": 2
          }
         }
        },
        "xaxis": {
         "anchor": "y",
         "domain": [
          0,
          1
         ],
         "title": {
          "text": "index"
         }
        },
        "yaxis": {
         "anchor": "x",
         "domain": [
          0,
          1
         ],
         "title": {
          "text": "value"
         }
        }
       }
      },
      "text/html": [
       "<div>                            <div id=\"756534e7-afc0-4f39-aac0-e9f1734a339f\" class=\"plotly-graph-div\" style=\"height:400px; width:100%;\"></div>            <script type=\"text/javascript\">                require([\"plotly\"], function(Plotly) {                    window.PLOTLYENV=window.PLOTLYENV || {};                                    if (document.getElementById(\"756534e7-afc0-4f39-aac0-e9f1734a339f\")) {                    Plotly.newPlot(                        \"756534e7-afc0-4f39-aac0-e9f1734a339f\",                        [{\"alignmentgroup\":\"True\",\"hovertemplate\":\"variable=BU<br>index=%{x}<br>value=%{y}<extra></extra>\",\"legendgroup\":\"BU\",\"marker\":{\"color\":\"#636efa\",\"pattern\":{\"shape\":\"\"}},\"name\":\"BU\",\"offsetgroup\":\"BU\",\"orientation\":\"v\",\"showlegend\":true,\"textposition\":\"auto\",\"x\":[\"Australia\",\"State\",\"Gender\",\"Legal\",\"Indigenous\",\"Overall\"],\"xaxis\":\"x\",\"y\":[-1204.9362288888665,-0.7413488010581074,-4.889860357930405,-12.232326305080692,0.0,-63.001288492883845],\"yaxis\":\"y\",\"type\":\"bar\"},{\"alignmentgroup\":\"True\",\"hovertemplate\":\"variable=OLS<br>index=%{x}<br>value=%{y}<extra></extra>\",\"legendgroup\":\"OLS\",\"marker\":{\"color\":\"#EF553B\",\"pattern\":{\"shape\":\"\"}},\"name\":\"OLS\",\"offsetgroup\":\"OLS\",\"orientation\":\"v\",\"showlegend\":true,\"textposition\":\"auto\",\"x\":[\"Australia\",\"State\",\"Gender\",\"Legal\",\"Indigenous\",\"Overall\"],\"xaxis\":\"x\",\"y\":[-13.275846329158883,8.906267432822675,10.048874153404288,-10.070240968662098,1.381038892917861,3.695151442769997],\"yaxis\":\"y\",\"type\":\"bar\"},{\"alignmentgroup\":\"True\",\"hovertemplate\":\"variable=WLS<br>index=%{x}<br>value=%{y}<extra></extra>\",\"legendgroup\":\"WLS\",\"marker\":{\"color\":\"#00cc96\",\"pattern\":{\"shape\":\"\"}},\"name\":\"WLS\",\"offsetgroup\":\"WLS\",\"orientation\":\"v\",\"showlegend\":true,\"textposition\":\"auto\",\"x\":[\"Australia\",\"State\",\"Gender\",\"Legal\",\"Indigenous\",\"Overall\"],\"xaxis\":\"x\",\"y\":[-230.43778880289082,14.76420227715126,13.384368371710364,-11.037498420804154,1.5718986484262332,-4.110239032811701],\"yaxis\":\"y\",\"type\":\"bar\"},{\"alignmentgroup\":\"True\",\"hovertemplate\":\"variable=MinT(Shrink)<br>index=%{x}<br>value=%{y}<extra></extra>\",\"legendgroup\":\"MinT(Shrink)\",\"marker\":{\"color\":\"#ab63fa\",\"pattern\":{\"shape\":\"\"}},\"name\":\"MinT(Shrink)\",\"offsetgroup\":\"MinT(Shrink)\",\"orientation\":\"v\",\"showlegend\":true,\"textposition\":\"auto\",\"x\":[\"Australia\",\"State\",\"Gender\",\"Legal\",\"Indigenous\",\"Overall\"],\"xaxis\":\"x\",\"y\":[-114.450766065332,20.707253446258026,19.009191586533568,-3.632025759177611,8.681384723362186,7.575853149938972],\"yaxis\":\"y\",\"type\":\"bar\"},{\"alignmentgroup\":\"True\",\"hovertemplate\":\"variable=ERM<br>index=%{x}<br>value=%{y}<extra></extra>\",\"legendgroup\":\"ERM\",\"marker\":{\"color\":\"#FFA15A\",\"pattern\":{\"shape\":\"\"}},\"name\":\"ERM\",\"offsetgroup\":\"ERM\",\"orientation\":\"v\",\"showlegend\":true,\"textposition\":\"auto\",\"x\":[\"Australia\",\"State\",\"Gender\",\"Legal\",\"Indigenous\",\"Overall\"],\"xaxis\":\"x\",\"y\":[-150.12657178513936,9.486221408612591,15.612175622920265,-59.5444518694354,-36.42984483818597,-15.393929505197418],\"yaxis\":\"y\",\"type\":\"bar\"},{\"alignmentgroup\":\"True\",\"hovertemplate\":\"variable=ML_CASE2<br>index=%{x}<br>value=%{y}<extra></extra>\",\"legendgroup\":\"ML_CASE2\",\"marker\":{\"color\":\"#19d3f3\",\"pattern\":{\"shape\":\"\"}},\"name\":\"ML_CASE2\",\"offsetgroup\":\"ML_CASE2\",\"orientation\":\"v\",\"showlegend\":true,\"textposition\":\"auto\",\"x\":[\"Australia\",\"State\",\"Gender\",\"Legal\",\"Indigenous\",\"Overall\"],\"xaxis\":\"x\",\"y\":[-902.8773814494107,6.118457179222045,2.4851587773542274,-7.105612462016178,3.348354358875795,-42.29416214040087],\"yaxis\":\"y\",\"type\":\"bar\"},{\"alignmentgroup\":\"True\",\"hovertemplate\":\"variable=ML_CASE2_MEAN<br>index=%{x}<br>value=%{y}<extra></extra>\",\"legendgroup\":\"ML_CASE2_MEAN\",\"marker\":{\"color\":\"#FF6692\",\"pattern\":{\"shape\":\"\"}},\"name\":\"ML_CASE2_MEAN\",\"offsetgroup\":\"ML_CASE2_MEAN\",\"orientation\":\"v\",\"showlegend\":true,\"textposition\":\"auto\",\"x\":[\"Australia\",\"State\",\"Gender\",\"Legal\",\"Indigenous\",\"Overall\"],\"xaxis\":\"x\",\"y\":[-921.6219922932768,4.068816914769825,0.41516934533784283,-8.635437653348218,2.2983867970706786,-44.93738081580999],\"yaxis\":\"y\",\"type\":\"bar\"},{\"alignmentgroup\":\"True\",\"hovertemplate\":\"variable=ML_CASE2_Lambda1<br>index=%{x}<br>value=%{y}<extra></extra>\",\"legendgroup\":\"ML_CASE2_Lambda1\",\"marker\":{\"color\":\"#B6E880\",\"pattern\":{\"shape\":\"\"}},\"name\":\"ML_CASE2_Lambda1\",\"offsetgroup\":\"ML_CASE2_Lambda1\",\"orientation\":\"v\",\"showlegend\":true,\"textposition\":\"auto\",\"x\":[\"Australia\",\"State\",\"Gender\",\"Legal\",\"Indigenous\",\"Overall\"],\"xaxis\":\"x\",\"y\":[-1080.4278816677825,1.8307593267484181,-1.1799694762402964,-8.213584575079953,2.5584763498483203,-53.86763735373391],\"yaxis\":\"y\",\"type\":\"bar\"},{\"alignmentgroup\":\"True\",\"hovertemplate\":\"variable=ML_CASE2_Lambda1_MEAN<br>index=%{x}<br>value=%{y}<extra></extra>\",\"legendgroup\":\"ML_CASE2_Lambda1_MEAN\",\"marker\":{\"color\":\"#FF97FF\",\"pattern\":{\"shape\":\"\"}},\"name\":\"ML_CASE2_Lambda1_MEAN\",\"offsetgroup\":\"ML_CASE2_Lambda1_MEAN\",\"orientation\":\"v\",\"showlegend\":true,\"textposition\":\"auto\",\"x\":[\"Australia\",\"State\",\"Gender\",\"Legal\",\"Indigenous\",\"Overall\"],\"xaxis\":\"x\",\"y\":[-1171.742917341485,-5.693207980106035,-7.740838086171946,-13.391705398522538,-0.7513344255785012,-64.23591194513644],\"yaxis\":\"y\",\"type\":\"bar\"},{\"alignmentgroup\":\"True\",\"hovertemplate\":\"variable=ML_CASE2_Lambda2<br>index=%{x}<br>value=%{y}<extra></extra>\",\"legendgroup\":\"ML_CASE2_Lambda2\",\"marker\":{\"color\":\"#FECB52\",\"pattern\":{\"shape\":\"\"}},\"name\":\"ML_CASE2_Lambda2\",\"offsetgroup\":\"ML_CASE2_Lambda2\",\"orientation\":\"v\",\"showlegend\":true,\"textposition\":\"auto\",\"x\":[\"Australia\",\"State\",\"Gender\",\"Legal\",\"Indigenous\",\"Overall\"],\"xaxis\":\"x\",\"y\":[-965.2376146900606,3.3058968623048863,2.2245763352264127,-8.302539014448802,2.6956617763389117,-46.738537431615384],\"yaxis\":\"y\",\"type\":\"bar\"},{\"alignmentgroup\":\"True\",\"hovertemplate\":\"variable=ML_CASE2_Lambda2_MEAN<br>index=%{x}<br>value=%{y}<extra></extra>\",\"legendgroup\":\"ML_CASE2_Lambda2_MEAN\",\"marker\":{\"color\":\"#636efa\",\"pattern\":{\"shape\":\"\"}},\"name\":\"ML_CASE2_Lambda2_MEAN\",\"offsetgroup\":\"ML_CASE2_Lambda2_MEAN\",\"orientation\":\"v\",\"showlegend\":true,\"textposition\":\"auto\",\"x\":[\"Australia\",\"State\",\"Gender\",\"Legal\",\"Indigenous\",\"Overall\"],\"xaxis\":\"x\",\"y\":[-970.9699273888575,2.3364241565604376,2.061136319196766,-8.382620866662672,2.4793186598725194,-47.455759221162666],\"yaxis\":\"y\",\"type\":\"bar\"}],                        {\"template\":{\"data\":{\"bar\":[{\"error_x\":{\"color\":\"#2a3f5f\"},\"error_y\":{\"color\":\"#2a3f5f\"},\"marker\":{\"line\":{\"color\":\"#E5ECF6\",\"width\":0.5},\"pattern\":{\"fillmode\":\"overlay\",\"size\":10,\"solidity\":0.2}},\"type\":\"bar\"}],\"barpolar\":[{\"marker\":{\"line\":{\"color\":\"#E5ECF6\",\"width\":0.5},\"pattern\":{\"fillmode\":\"overlay\",\"size\":10,\"solidity\":0.2}},\"type\":\"barpolar\"}],\"carpet\":[{\"aaxis\":{\"endlinecolor\":\"#2a3f5f\",\"gridcolor\":\"white\",\"linecolor\":\"white\",\"minorgridcolor\":\"white\",\"startlinecolor\":\"#2a3f5f\"},\"baxis\":{\"endlinecolor\":\"#2a3f5f\",\"gridcolor\":\"white\",\"linecolor\":\"white\",\"minorgridcolor\":\"white\",\"startlinecolor\":\"#2a3f5f\"},\"type\":\"carpet\"}],\"choropleth\":[{\"colorbar\":{\"outlinewidth\":0,\"ticks\":\"\"},\"type\":\"choropleth\"}],\"contour\":[{\"colorbar\":{\"outlinewidth\":0,\"ticks\":\"\"},\"colorscale\":[[0.0,\"#0d0887\"],[0.1111111111111111,\"#46039f\"],[0.2222222222222222,\"#7201a8\"],[0.3333333333333333,\"#9c179e\"],[0.4444444444444444,\"#bd3786\"],[0.5555555555555556,\"#d8576b\"],[0.6666666666666666,\"#ed7953\"],[0.7777777777777778,\"#fb9f3a\"],[0.8888888888888888,\"#fdca26\"],[1.0,\"#f0f921\"]],\"type\":\"contour\"}],\"contourcarpet\":[{\"colorbar\":{\"outlinewidth\":0,\"ticks\":\"\"},\"type\":\"contourcarpet\"}],\"heatmap\":[{\"colorbar\":{\"outlinewidth\":0,\"ticks\":\"\"},\"colorscale\":[[0.0,\"#0d0887\"],[0.1111111111111111,\"#46039f\"],[0.2222222222222222,\"#7201a8\"],[0.3333333333333333,\"#9c179e\"],[0.4444444444444444,\"#bd3786\"],[0.5555555555555556,\"#d8576b\"],[0.6666666666666666,\"#ed7953\"],[0.7777777777777778,\"#fb9f3a\"],[0.8888888888888888,\"#fdca26\"],[1.0,\"#f0f921\"]],\"type\":\"heatmap\"}],\"heatmapgl\":[{\"colorbar\":{\"outlinewidth\":0,\"ticks\":\"\"},\"colorscale\":[[0.0,\"#0d0887\"],[0.1111111111111111,\"#46039f\"],[0.2222222222222222,\"#7201a8\"],[0.3333333333333333,\"#9c179e\"],[0.4444444444444444,\"#bd3786\"],[0.5555555555555556,\"#d8576b\"],[0.6666666666666666,\"#ed7953\"],[0.7777777777777778,\"#fb9f3a\"],[0.8888888888888888,\"#fdca26\"],[1.0,\"#f0f921\"]],\"type\":\"heatmapgl\"}],\"histogram\":[{\"marker\":{\"pattern\":{\"fillmode\":\"overlay\",\"size\":10,\"solidity\":0.2}},\"type\":\"histogram\"}],\"histogram2d\":[{\"colorbar\":{\"outlinewidth\":0,\"ticks\":\"\"},\"colorscale\":[[0.0,\"#0d0887\"],[0.1111111111111111,\"#46039f\"],[0.2222222222222222,\"#7201a8\"],[0.3333333333333333,\"#9c179e\"],[0.4444444444444444,\"#bd3786\"],[0.5555555555555556,\"#d8576b\"],[0.6666666666666666,\"#ed7953\"],[0.7777777777777778,\"#fb9f3a\"],[0.8888888888888888,\"#fdca26\"],[1.0,\"#f0f921\"]],\"type\":\"histogram2d\"}],\"histogram2dcontour\":[{\"colorbar\":{\"outlinewidth\":0,\"ticks\":\"\"},\"colorscale\":[[0.0,\"#0d0887\"],[0.1111111111111111,\"#46039f\"],[0.2222222222222222,\"#7201a8\"],[0.3333333333333333,\"#9c179e\"],[0.4444444444444444,\"#bd3786\"],[0.5555555555555556,\"#d8576b\"],[0.6666666666666666,\"#ed7953\"],[0.7777777777777778,\"#fb9f3a\"],[0.8888888888888888,\"#fdca26\"],[1.0,\"#f0f921\"]],\"type\":\"histogram2dcontour\"}],\"mesh3d\":[{\"colorbar\":{\"outlinewidth\":0,\"ticks\":\"\"},\"type\":\"mesh3d\"}],\"parcoords\":[{\"line\":{\"colorbar\":{\"outlinewidth\":0,\"ticks\":\"\"}},\"type\":\"parcoords\"}],\"pie\":[{\"automargin\":true,\"type\":\"pie\"}],\"scatter\":[{\"marker\":{\"colorbar\":{\"outlinewidth\":0,\"ticks\":\"\"}},\"type\":\"scatter\"}],\"scatter3d\":[{\"line\":{\"colorbar\":{\"outlinewidth\":0,\"ticks\":\"\"}},\"marker\":{\"colorbar\":{\"outlinewidth\":0,\"ticks\":\"\"}},\"type\":\"scatter3d\"}],\"scattercarpet\":[{\"marker\":{\"colorbar\":{\"outlinewidth\":0,\"ticks\":\"\"}},\"type\":\"scattercarpet\"}],\"scattergeo\":[{\"marker\":{\"colorbar\":{\"outlinewidth\":0,\"ticks\":\"\"}},\"type\":\"scattergeo\"}],\"scattergl\":[{\"marker\":{\"colorbar\":{\"outlinewidth\":0,\"ticks\":\"\"}},\"type\":\"scattergl\"}],\"scattermapbox\":[{\"marker\":{\"colorbar\":{\"outlinewidth\":0,\"ticks\":\"\"}},\"type\":\"scattermapbox\"}],\"scatterpolar\":[{\"marker\":{\"colorbar\":{\"outlinewidth\":0,\"ticks\":\"\"}},\"type\":\"scatterpolar\"}],\"scatterpolargl\":[{\"marker\":{\"colorbar\":{\"outlinewidth\":0,\"ticks\":\"\"}},\"type\":\"scatterpolargl\"}],\"scatterternary\":[{\"marker\":{\"colorbar\":{\"outlinewidth\":0,\"ticks\":\"\"}},\"type\":\"scatterternary\"}],\"surface\":[{\"colorbar\":{\"outlinewidth\":0,\"ticks\":\"\"},\"colorscale\":[[0.0,\"#0d0887\"],[0.1111111111111111,\"#46039f\"],[0.2222222222222222,\"#7201a8\"],[0.3333333333333333,\"#9c179e\"],[0.4444444444444444,\"#bd3786\"],[0.5555555555555556,\"#d8576b\"],[0.6666666666666666,\"#ed7953\"],[0.7777777777777778,\"#fb9f3a\"],[0.8888888888888888,\"#fdca26\"],[1.0,\"#f0f921\"]],\"type\":\"surface\"}],\"table\":[{\"cells\":{\"fill\":{\"color\":\"#EBF0F8\"},\"line\":{\"color\":\"white\"}},\"header\":{\"fill\":{\"color\":\"#C8D4E3\"},\"line\":{\"color\":\"white\"}},\"type\":\"table\"}]},\"layout\":{\"annotationdefaults\":{\"arrowcolor\":\"#2a3f5f\",\"arrowhead\":0,\"arrowwidth\":1},\"autotypenumbers\":\"strict\",\"coloraxis\":{\"colorbar\":{\"outlinewidth\":0,\"ticks\":\"\"}},\"colorscale\":{\"diverging\":[[0,\"#8e0152\"],[0.1,\"#c51b7d\"],[0.2,\"#de77ae\"],[0.3,\"#f1b6da\"],[0.4,\"#fde0ef\"],[0.5,\"#f7f7f7\"],[0.6,\"#e6f5d0\"],[0.7,\"#b8e186\"],[0.8,\"#7fbc41\"],[0.9,\"#4d9221\"],[1,\"#276419\"]],\"sequential\":[[0.0,\"#0d0887\"],[0.1111111111111111,\"#46039f\"],[0.2222222222222222,\"#7201a8\"],[0.3333333333333333,\"#9c179e\"],[0.4444444444444444,\"#bd3786\"],[0.5555555555555556,\"#d8576b\"],[0.6666666666666666,\"#ed7953\"],[0.7777777777777778,\"#fb9f3a\"],[0.8888888888888888,\"#fdca26\"],[1.0,\"#f0f921\"]],\"sequentialminus\":[[0.0,\"#0d0887\"],[0.1111111111111111,\"#46039f\"],[0.2222222222222222,\"#7201a8\"],[0.3333333333333333,\"#9c179e\"],[0.4444444444444444,\"#bd3786\"],[0.5555555555555556,\"#d8576b\"],[0.6666666666666666,\"#ed7953\"],[0.7777777777777778,\"#fb9f3a\"],[0.8888888888888888,\"#fdca26\"],[1.0,\"#f0f921\"]]},\"colorway\":[\"#636efa\",\"#EF553B\",\"#00cc96\",\"#ab63fa\",\"#FFA15A\",\"#19d3f3\",\"#FF6692\",\"#B6E880\",\"#FF97FF\",\"#FECB52\"],\"font\":{\"color\":\"#2a3f5f\"},\"geo\":{\"bgcolor\":\"white\",\"lakecolor\":\"white\",\"landcolor\":\"#E5ECF6\",\"showlakes\":true,\"showland\":true,\"subunitcolor\":\"white\"},\"hoverlabel\":{\"align\":\"left\"},\"hovermode\":\"closest\",\"mapbox\":{\"style\":\"light\"},\"paper_bgcolor\":\"white\",\"plot_bgcolor\":\"#E5ECF6\",\"polar\":{\"angularaxis\":{\"gridcolor\":\"white\",\"linecolor\":\"white\",\"ticks\":\"\"},\"bgcolor\":\"#E5ECF6\",\"radialaxis\":{\"gridcolor\":\"white\",\"linecolor\":\"white\",\"ticks\":\"\"}},\"scene\":{\"xaxis\":{\"backgroundcolor\":\"#E5ECF6\",\"gridcolor\":\"white\",\"gridwidth\":2,\"linecolor\":\"white\",\"showbackground\":true,\"ticks\":\"\",\"zerolinecolor\":\"white\"},\"yaxis\":{\"backgroundcolor\":\"#E5ECF6\",\"gridcolor\":\"white\",\"gridwidth\":2,\"linecolor\":\"white\",\"showbackground\":true,\"ticks\":\"\",\"zerolinecolor\":\"white\"},\"zaxis\":{\"backgroundcolor\":\"#E5ECF6\",\"gridcolor\":\"white\",\"gridwidth\":2,\"linecolor\":\"white\",\"showbackground\":true,\"ticks\":\"\",\"zerolinecolor\":\"white\"}},\"shapedefaults\":{\"line\":{\"color\":\"#2a3f5f\"}},\"ternary\":{\"aaxis\":{\"gridcolor\":\"white\",\"linecolor\":\"white\",\"ticks\":\"\"},\"baxis\":{\"gridcolor\":\"white\",\"linecolor\":\"white\",\"ticks\":\"\"},\"bgcolor\":\"#E5ECF6\",\"caxis\":{\"gridcolor\":\"white\",\"linecolor\":\"white\",\"ticks\":\"\"}},\"title\":{\"x\":0.05},\"xaxis\":{\"automargin\":true,\"gridcolor\":\"white\",\"linecolor\":\"white\",\"ticks\":\"\",\"title\":{\"standoff\":15},\"zerolinecolor\":\"white\",\"zerolinewidth\":2},\"yaxis\":{\"automargin\":true,\"gridcolor\":\"white\",\"linecolor\":\"white\",\"ticks\":\"\",\"title\":{\"standoff\":15},\"zerolinecolor\":\"white\",\"zerolinewidth\":2}}},\"xaxis\":{\"anchor\":\"y\",\"domain\":[0.0,1.0],\"title\":{\"text\":\"index\"}},\"yaxis\":{\"anchor\":\"x\",\"domain\":[0.0,1.0],\"title\":{\"text\":\"value\"}},\"legend\":{\"title\":{\"text\":\"variable\"},\"tracegroupgap\":0,\"orientation\":\"h\",\"yanchor\":\"bottom\",\"y\":-0.25},\"margin\":{\"t\":60},\"barmode\":\"group\",\"height\":400},                        {\"responsive\": true}                    ).then(function(){\n",
       "                            \n",
       "var gd = document.getElementById('756534e7-afc0-4f39-aac0-e9f1734a339f');\n",
       "var x = new MutationObserver(function (mutations, observer) {{\n",
       "        var display = window.getComputedStyle(gd).display;\n",
       "        if (!display || display === 'none') {{\n",
       "            console.log([gd, 'removed!']);\n",
       "            Plotly.purge(gd);\n",
       "            observer.disconnect();\n",
       "        }}\n",
       "}});\n",
       "\n",
       "// Listen for the removal of the full notebook cells\n",
       "var notebookContainer = gd.closest('#notebook-container');\n",
       "if (notebookContainer) {{\n",
       "    x.observe(notebookContainer, {childList: true});\n",
       "}}\n",
       "\n",
       "// Listen for the clearing of the current output cell\n",
       "var outputEl = gd.closest('.output');\n",
       "if (outputEl) {{\n",
       "    x.observe(outputEl, {childList: true});\n",
       "}}\n",
       "\n",
       "                        })                };                });            </script>        </div>"
      ]
     },
     "metadata": {},
     "output_type": "display_data"
    }
   ],
   "source": [
    "draw_plot(percentages_prison_arima['MSE'].iloc[:, [0, 1, 2, 3, 4, 11, 12, 13, 14, 15, 16]])"
   ]
  },
  {
   "cell_type": "code",
   "execution_count": 38,
   "metadata": {},
   "outputs": [],
   "source": [
    "# percentages_prison_arima['MSE'].iloc[:, 5:].style.highlight_max(color = 'lightgreen', axis = 1)"
   ]
  },
  {
   "cell_type": "markdown",
   "metadata": {},
   "source": [
    "ETS"
   ]
  },
  {
   "cell_type": "code",
   "execution_count": 8,
   "metadata": {},
   "outputs": [
    {
     "data": {
      "text/html": [
       "<style type=\"text/css\">\n",
       "#T_23159_row0_col1, #T_23159_row1_col12, #T_23159_row2_col12, #T_23159_row3_col14, #T_23159_row4_col14, #T_23159_row5_col1 {\n",
       "  background-color: lightgreen;\n",
       "}\n",
       "</style>\n",
       "<table id=\"T_23159_\">\n",
       "  <thead>\n",
       "    <tr>\n",
       "      <th class=\"blank level0\" >&nbsp;</th>\n",
       "      <th class=\"col_heading level0 col0\" >BU</th>\n",
       "      <th class=\"col_heading level0 col1\" >OLS</th>\n",
       "      <th class=\"col_heading level0 col2\" >WLS</th>\n",
       "      <th class=\"col_heading level0 col3\" >MinT(Shrink)</th>\n",
       "      <th class=\"col_heading level0 col4\" >ERM</th>\n",
       "      <th class=\"col_heading level0 col5\" >ML_CASE1</th>\n",
       "      <th class=\"col_heading level0 col6\" >ML_CASE1_MEAN</th>\n",
       "      <th class=\"col_heading level0 col7\" >ML_CASE1_Lambda1</th>\n",
       "      <th class=\"col_heading level0 col8\" >ML_CASE1_Lambda1_MEAN</th>\n",
       "      <th class=\"col_heading level0 col9\" >ML_CASE1_Lambda2</th>\n",
       "      <th class=\"col_heading level0 col10\" >ML_CASE1_Lambda2_MEAN</th>\n",
       "      <th class=\"col_heading level0 col11\" >ML_CASE2</th>\n",
       "      <th class=\"col_heading level0 col12\" >ML_CASE2_MEAN</th>\n",
       "      <th class=\"col_heading level0 col13\" >ML_CASE2_Lambda1</th>\n",
       "      <th class=\"col_heading level0 col14\" >ML_CASE2_Lambda1_MEAN</th>\n",
       "      <th class=\"col_heading level0 col15\" >ML_CASE2_Lambda2</th>\n",
       "      <th class=\"col_heading level0 col16\" >ML_CASE2_Lambda2_MEAN</th>\n",
       "    </tr>\n",
       "  </thead>\n",
       "  <tbody>\n",
       "    <tr>\n",
       "      <th id=\"T_23159_level0_row0\" class=\"row_heading level0 row0\" >Australia</th>\n",
       "      <td id=\"T_23159_row0_col0\" class=\"data row0 col0\" >-3671.615741</td>\n",
       "      <td id=\"T_23159_row0_col1\" class=\"data row0 col1\" >-95.390013</td>\n",
       "      <td id=\"T_23159_row0_col2\" class=\"data row0 col2\" >-1439.641421</td>\n",
       "      <td id=\"T_23159_row0_col3\" class=\"data row0 col3\" >-932.717901</td>\n",
       "      <td id=\"T_23159_row0_col4\" class=\"data row0 col4\" >-5300.929077</td>\n",
       "      <td id=\"T_23159_row0_col5\" class=\"data row0 col5\" >-1958.030614</td>\n",
       "      <td id=\"T_23159_row0_col6\" class=\"data row0 col6\" >-1981.595850</td>\n",
       "      <td id=\"T_23159_row0_col7\" class=\"data row0 col7\" >-2866.015061</td>\n",
       "      <td id=\"T_23159_row0_col8\" class=\"data row0 col8\" >-2777.025390</td>\n",
       "      <td id=\"T_23159_row0_col9\" class=\"data row0 col9\" >-2695.406140</td>\n",
       "      <td id=\"T_23159_row0_col10\" class=\"data row0 col10\" >-2602.944786</td>\n",
       "      <td id=\"T_23159_row0_col11\" class=\"data row0 col11\" >-2621.183024</td>\n",
       "      <td id=\"T_23159_row0_col12\" class=\"data row0 col12\" >-2374.934330</td>\n",
       "      <td id=\"T_23159_row0_col13\" class=\"data row0 col13\" >-2510.402668</td>\n",
       "      <td id=\"T_23159_row0_col14\" class=\"data row0 col14\" >-2141.728770</td>\n",
       "      <td id=\"T_23159_row0_col15\" class=\"data row0 col15\" >-1995.221168</td>\n",
       "      <td id=\"T_23159_row0_col16\" class=\"data row0 col16\" >-1876.807859</td>\n",
       "    </tr>\n",
       "    <tr>\n",
       "      <th id=\"T_23159_level0_row1\" class=\"row_heading level0 row1\" >State</th>\n",
       "      <td id=\"T_23159_row1_col0\" class=\"data row1 col0\" >23.569975</td>\n",
       "      <td id=\"T_23159_row1_col1\" class=\"data row1 col1\" >14.275249</td>\n",
       "      <td id=\"T_23159_row1_col2\" class=\"data row1 col2\" >20.715633</td>\n",
       "      <td id=\"T_23159_row1_col3\" class=\"data row1 col3\" >20.751485</td>\n",
       "      <td id=\"T_23159_row1_col4\" class=\"data row1 col4\" >-14.648431</td>\n",
       "      <td id=\"T_23159_row1_col5\" class=\"data row1 col5\" >25.886796</td>\n",
       "      <td id=\"T_23159_row1_col6\" class=\"data row1 col6\" >22.040608</td>\n",
       "      <td id=\"T_23159_row1_col7\" class=\"data row1 col7\" >28.262217</td>\n",
       "      <td id=\"T_23159_row1_col8\" class=\"data row1 col8\" >28.678703</td>\n",
       "      <td id=\"T_23159_row1_col9\" class=\"data row1 col9\" >30.734136</td>\n",
       "      <td id=\"T_23159_row1_col10\" class=\"data row1 col10\" >30.717010</td>\n",
       "      <td id=\"T_23159_row1_col11\" class=\"data row1 col11\" >31.086332</td>\n",
       "      <td id=\"T_23159_row1_col12\" class=\"data row1 col12\" >34.127619</td>\n",
       "      <td id=\"T_23159_row1_col13\" class=\"data row1 col13\" >31.363202</td>\n",
       "      <td id=\"T_23159_row1_col14\" class=\"data row1 col14\" >33.554561</td>\n",
       "      <td id=\"T_23159_row1_col15\" class=\"data row1 col15\" >31.707028</td>\n",
       "      <td id=\"T_23159_row1_col16\" class=\"data row1 col16\" >33.080479</td>\n",
       "    </tr>\n",
       "    <tr>\n",
       "      <th id=\"T_23159_level0_row2\" class=\"row_heading level0 row2\" >Gender</th>\n",
       "      <td id=\"T_23159_row2_col0\" class=\"data row2 col0\" >12.276370</td>\n",
       "      <td id=\"T_23159_row2_col1\" class=\"data row2 col1\" >3.129698</td>\n",
       "      <td id=\"T_23159_row2_col2\" class=\"data row2 col2\" >7.906455</td>\n",
       "      <td id=\"T_23159_row2_col3\" class=\"data row2 col3\" >7.916996</td>\n",
       "      <td id=\"T_23159_row2_col4\" class=\"data row2 col4\" >-34.866193</td>\n",
       "      <td id=\"T_23159_row2_col5\" class=\"data row2 col5\" >14.878043</td>\n",
       "      <td id=\"T_23159_row2_col6\" class=\"data row2 col6\" >13.873077</td>\n",
       "      <td id=\"T_23159_row2_col7\" class=\"data row2 col7\" >17.463679</td>\n",
       "      <td id=\"T_23159_row2_col8\" class=\"data row2 col8\" >17.865566</td>\n",
       "      <td id=\"T_23159_row2_col9\" class=\"data row2 col9\" >20.315925</td>\n",
       "      <td id=\"T_23159_row2_col10\" class=\"data row2 col10\" >20.539995</td>\n",
       "      <td id=\"T_23159_row2_col11\" class=\"data row2 col11\" >20.648621</td>\n",
       "      <td id=\"T_23159_row2_col12\" class=\"data row2 col12\" >24.094080</td>\n",
       "      <td id=\"T_23159_row2_col13\" class=\"data row2 col13\" >20.306030</td>\n",
       "      <td id=\"T_23159_row2_col14\" class=\"data row2 col14\" >23.024502</td>\n",
       "      <td id=\"T_23159_row2_col15\" class=\"data row2 col15\" >21.897108</td>\n",
       "      <td id=\"T_23159_row2_col16\" class=\"data row2 col16\" >22.999930</td>\n",
       "    </tr>\n",
       "    <tr>\n",
       "      <th id=\"T_23159_level0_row3\" class=\"row_heading level0 row3\" >Legal</th>\n",
       "      <td id=\"T_23159_row3_col0\" class=\"data row3 col0\" >6.081990</td>\n",
       "      <td id=\"T_23159_row3_col1\" class=\"data row3 col1\" >-0.466017</td>\n",
       "      <td id=\"T_23159_row3_col2\" class=\"data row3 col2\" >-4.214015</td>\n",
       "      <td id=\"T_23159_row3_col3\" class=\"data row3 col3\" >0.125546</td>\n",
       "      <td id=\"T_23159_row3_col4\" class=\"data row3 col4\" >-24.828064</td>\n",
       "      <td id=\"T_23159_row3_col5\" class=\"data row3 col5\" >6.036338</td>\n",
       "      <td id=\"T_23159_row3_col6\" class=\"data row3 col6\" >2.840160</td>\n",
       "      <td id=\"T_23159_row3_col7\" class=\"data row3 col7\" >7.897161</td>\n",
       "      <td id=\"T_23159_row3_col8\" class=\"data row3 col8\" >8.169145</td>\n",
       "      <td id=\"T_23159_row3_col9\" class=\"data row3 col9\" >9.665087</td>\n",
       "      <td id=\"T_23159_row3_col10\" class=\"data row3 col10\" >9.240427</td>\n",
       "      <td id=\"T_23159_row3_col11\" class=\"data row3 col11\" >9.598000</td>\n",
       "      <td id=\"T_23159_row3_col12\" class=\"data row3 col12\" >9.309613</td>\n",
       "      <td id=\"T_23159_row3_col13\" class=\"data row3 col13\" >9.479742</td>\n",
       "      <td id=\"T_23159_row3_col14\" class=\"data row3 col14\" >10.485179</td>\n",
       "      <td id=\"T_23159_row3_col15\" class=\"data row3 col15\" >8.563508</td>\n",
       "      <td id=\"T_23159_row3_col16\" class=\"data row3 col16\" >9.372716</td>\n",
       "    </tr>\n",
       "    <tr>\n",
       "      <th id=\"T_23159_level0_row4\" class=\"row_heading level0 row4\" >Indigenous</th>\n",
       "      <td id=\"T_23159_row4_col0\" class=\"data row4 col0\" >0.000000</td>\n",
       "      <td id=\"T_23159_row4_col1\" class=\"data row4 col1\" >-5.287354</td>\n",
       "      <td id=\"T_23159_row4_col2\" class=\"data row4 col2\" >-14.794398</td>\n",
       "      <td id=\"T_23159_row4_col3\" class=\"data row4 col3\" >-7.243976</td>\n",
       "      <td id=\"T_23159_row4_col4\" class=\"data row4 col4\" >-86.333464</td>\n",
       "      <td id=\"T_23159_row4_col5\" class=\"data row4 col5\" >0.197037</td>\n",
       "      <td id=\"T_23159_row4_col6\" class=\"data row4 col6\" >-2.656325</td>\n",
       "      <td id=\"T_23159_row4_col7\" class=\"data row4 col7\" >1.481197</td>\n",
       "      <td id=\"T_23159_row4_col8\" class=\"data row4 col8\" >1.695622</td>\n",
       "      <td id=\"T_23159_row4_col9\" class=\"data row4 col9\" >2.874767</td>\n",
       "      <td id=\"T_23159_row4_col10\" class=\"data row4 col10\" >2.517540</td>\n",
       "      <td id=\"T_23159_row4_col11\" class=\"data row4 col11\" >2.690033</td>\n",
       "      <td id=\"T_23159_row4_col12\" class=\"data row4 col12\" >2.435687</td>\n",
       "      <td id=\"T_23159_row4_col13\" class=\"data row4 col13\" >2.664046</td>\n",
       "      <td id=\"T_23159_row4_col14\" class=\"data row4 col14\" >3.436501</td>\n",
       "      <td id=\"T_23159_row4_col15\" class=\"data row4 col15\" >2.089130</td>\n",
       "      <td id=\"T_23159_row4_col16\" class=\"data row4 col16\" >2.645780</td>\n",
       "    </tr>\n",
       "    <tr>\n",
       "      <th id=\"T_23159_level0_row5\" class=\"row_heading level0 row5\" >Overall</th>\n",
       "      <td id=\"T_23159_row5_col0\" class=\"data row5 col0\" >-35.948105</td>\n",
       "      <td id=\"T_23159_row5_col1\" class=\"data row5 col1\" >4.501743</td>\n",
       "      <td id=\"T_23159_row5_col2\" class=\"data row5 col2\" >-11.767894</td>\n",
       "      <td id=\"T_23159_row5_col3\" class=\"data row5 col3\" >-3.108093</td>\n",
       "      <td id=\"T_23159_row5_col4\" class=\"data row5 col4\" >-102.595354</td>\n",
       "      <td id=\"T_23159_row5_col5\" class=\"data row5 col5\" >-11.035594</td>\n",
       "      <td id=\"T_23159_row5_col6\" class=\"data row5 col6\" >-14.127090</td>\n",
       "      <td id=\"T_23159_row5_col7\" class=\"data row5 col7\" >-21.195871</td>\n",
       "      <td id=\"T_23159_row5_col8\" class=\"data row5 col8\" >-19.633368</td>\n",
       "      <td id=\"T_23159_row5_col9\" class=\"data row5 col9\" >-16.604960</td>\n",
       "      <td id=\"T_23159_row5_col10\" class=\"data row5 col10\" >-15.421260</td>\n",
       "      <td id=\"T_23159_row5_col11\" class=\"data row5 col11\" >-15.401837</td>\n",
       "      <td id=\"T_23159_row5_col12\" class=\"data row5 col12\" >-9.996316</td>\n",
       "      <td id=\"T_23159_row5_col13\" class=\"data row5 col13\" >-13.907386</td>\n",
       "      <td id=\"T_23159_row5_col14\" class=\"data row5 col14\" >-6.999108</td>\n",
       "      <td id=\"T_23159_row5_col15\" class=\"data row5 col15\" >-6.589738</td>\n",
       "      <td id=\"T_23159_row5_col16\" class=\"data row5 col16\" >-3.909893</td>\n",
       "    </tr>\n",
       "  </tbody>\n",
       "</table>\n"
      ],
      "text/plain": [
       "<pandas.io.formats.style.Styler at 0x122e3ffd0>"
      ]
     },
     "execution_count": 8,
     "metadata": {},
     "output_type": "execute_result"
    }
   ],
   "source": [
    "model_ets ='ets'\n",
    "base_errors_prison_ets, percentages_prison_ets = get_results(data_prison, model_ets, LEVELS_prison, FC_TYPE, column_order_1)\n",
    "percentages_prison_ets['MSE'].style.highlight_max(color = 'lightgreen', axis = 1)"
   ]
  },
  {
   "cell_type": "code",
   "execution_count": 41,
   "metadata": {},
   "outputs": [],
   "source": [
    "# percentages_prison_ets['MSE'].iloc[:, 5:].style.highlight_max(color = 'lightgreen', axis = 1)"
   ]
  },
  {
   "cell_type": "markdown",
   "metadata": {},
   "source": [
    "### Short horizon"
   ]
  },
  {
   "cell_type": "markdown",
   "metadata": {},
   "source": [
    "ARIMA"
   ]
  },
  {
   "cell_type": "code",
   "execution_count": 11,
   "metadata": {},
   "outputs": [],
   "source": [
    "model_arima ='arima'\n",
    "base_errors_prison_arima, percentages_prison_arima = get_results(data_prison, model_arima, LEVELS_prison, FC_TYPE, column_order_1, True)\n"
   ]
  },
  {
   "cell_type": "code",
   "execution_count": 12,
   "metadata": {},
   "outputs": [
    {
     "data": {
      "text/html": [
       "<style type=\"text/css\">\n",
       "#T_ed4e9_row0_col1, #T_ed4e9_row1_col9, #T_ed4e9_row2_col9, #T_ed4e9_row3_col9, #T_ed4e9_row4_col9, #T_ed4e9_row5_col9 {\n",
       "  background-color: lightgreen;\n",
       "}\n",
       "</style>\n",
       "<table id=\"T_ed4e9_\">\n",
       "  <thead>\n",
       "    <tr>\n",
       "      <th class=\"blank level0\" >&nbsp;</th>\n",
       "      <th class=\"col_heading level0 col0\" >BU</th>\n",
       "      <th class=\"col_heading level0 col1\" >OLS</th>\n",
       "      <th class=\"col_heading level0 col2\" >WLS</th>\n",
       "      <th class=\"col_heading level0 col3\" >MinT(Shrink)</th>\n",
       "      <th class=\"col_heading level0 col4\" >ERM</th>\n",
       "      <th class=\"col_heading level0 col5\" >ML_CASE1</th>\n",
       "      <th class=\"col_heading level0 col6\" >ML_CASE1_MEAN</th>\n",
       "      <th class=\"col_heading level0 col7\" >ML_CASE1_Lambda1</th>\n",
       "      <th class=\"col_heading level0 col8\" >ML_CASE1_Lambda1_MEAN</th>\n",
       "      <th class=\"col_heading level0 col9\" >ML_CASE1_Lambda2</th>\n",
       "      <th class=\"col_heading level0 col10\" >ML_CASE1_Lambda2_MEAN</th>\n",
       "      <th class=\"col_heading level0 col11\" >ML_CASE2</th>\n",
       "      <th class=\"col_heading level0 col12\" >ML_CASE2_MEAN</th>\n",
       "      <th class=\"col_heading level0 col13\" >ML_CASE2_Lambda1</th>\n",
       "      <th class=\"col_heading level0 col14\" >ML_CASE2_Lambda1_MEAN</th>\n",
       "      <th class=\"col_heading level0 col15\" >ML_CASE2_Lambda2</th>\n",
       "      <th class=\"col_heading level0 col16\" >ML_CASE2_Lambda2_MEAN</th>\n",
       "    </tr>\n",
       "  </thead>\n",
       "  <tbody>\n",
       "    <tr>\n",
       "      <th id=\"T_ed4e9_level0_row0\" class=\"row_heading level0 row0\" >Australia</th>\n",
       "      <td id=\"T_ed4e9_row0_col0\" class=\"data row0 col0\" >-3404.582840</td>\n",
       "      <td id=\"T_ed4e9_row0_col1\" class=\"data row0 col1\" >-19.775671</td>\n",
       "      <td id=\"T_ed4e9_row0_col2\" class=\"data row0 col2\" >-471.969377</td>\n",
       "      <td id=\"T_ed4e9_row0_col3\" class=\"data row0 col3\" >-191.504184</td>\n",
       "      <td id=\"T_ed4e9_row0_col4\" class=\"data row0 col4\" >-1519.071403</td>\n",
       "      <td id=\"T_ed4e9_row0_col5\" class=\"data row0 col5\" >-1836.213430</td>\n",
       "      <td id=\"T_ed4e9_row0_col6\" class=\"data row0 col6\" >-1919.672613</td>\n",
       "      <td id=\"T_ed4e9_row0_col7\" class=\"data row0 col7\" >-3336.420326</td>\n",
       "      <td id=\"T_ed4e9_row0_col8\" class=\"data row0 col8\" >-3138.158949</td>\n",
       "      <td id=\"T_ed4e9_row0_col9\" class=\"data row0 col9\" >-1714.203104</td>\n",
       "      <td id=\"T_ed4e9_row0_col10\" class=\"data row0 col10\" >-3942.554463</td>\n",
       "      <td id=\"T_ed4e9_row0_col11\" class=\"data row0 col11\" >-1836.213430</td>\n",
       "      <td id=\"T_ed4e9_row0_col12\" class=\"data row0 col12\" >-1919.672613</td>\n",
       "      <td id=\"T_ed4e9_row0_col13\" class=\"data row0 col13\" >-2726.500329</td>\n",
       "      <td id=\"T_ed4e9_row0_col14\" class=\"data row0 col14\" >-3228.850633</td>\n",
       "      <td id=\"T_ed4e9_row0_col15\" class=\"data row0 col15\" >-2254.661185</td>\n",
       "      <td id=\"T_ed4e9_row0_col16\" class=\"data row0 col16\" >-2275.492901</td>\n",
       "    </tr>\n",
       "    <tr>\n",
       "      <th id=\"T_ed4e9_level0_row1\" class=\"row_heading level0 row1\" >State</th>\n",
       "      <td id=\"T_ed4e9_row1_col0\" class=\"data row1 col0\" >12.879618</td>\n",
       "      <td id=\"T_ed4e9_row1_col1\" class=\"data row1 col1\" >6.734478</td>\n",
       "      <td id=\"T_ed4e9_row1_col2\" class=\"data row1 col2\" >14.029956</td>\n",
       "      <td id=\"T_ed4e9_row1_col3\" class=\"data row1 col3\" >17.439712</td>\n",
       "      <td id=\"T_ed4e9_row1_col4\" class=\"data row1 col4\" >9.036993</td>\n",
       "      <td id=\"T_ed4e9_row1_col5\" class=\"data row1 col5\" >17.408518</td>\n",
       "      <td id=\"T_ed4e9_row1_col6\" class=\"data row1 col6\" >15.087357</td>\n",
       "      <td id=\"T_ed4e9_row1_col7\" class=\"data row1 col7\" >-2.149563</td>\n",
       "      <td id=\"T_ed4e9_row1_col8\" class=\"data row1 col8\" >-1.271665</td>\n",
       "      <td id=\"T_ed4e9_row1_col9\" class=\"data row1 col9\" >41.724570</td>\n",
       "      <td id=\"T_ed4e9_row1_col10\" class=\"data row1 col10\" >27.309656</td>\n",
       "      <td id=\"T_ed4e9_row1_col11\" class=\"data row1 col11\" >17.408518</td>\n",
       "      <td id=\"T_ed4e9_row1_col12\" class=\"data row1 col12\" >15.087357</td>\n",
       "      <td id=\"T_ed4e9_row1_col13\" class=\"data row1 col13\" >13.692283</td>\n",
       "      <td id=\"T_ed4e9_row1_col14\" class=\"data row1 col14\" >4.917550</td>\n",
       "      <td id=\"T_ed4e9_row1_col15\" class=\"data row1 col15\" >12.616933</td>\n",
       "      <td id=\"T_ed4e9_row1_col16\" class=\"data row1 col16\" >11.161647</td>\n",
       "    </tr>\n",
       "    <tr>\n",
       "      <th id=\"T_ed4e9_level0_row2\" class=\"row_heading level0 row2\" >Gender</th>\n",
       "      <td id=\"T_ed4e9_row2_col0\" class=\"data row2 col0\" >13.392442</td>\n",
       "      <td id=\"T_ed4e9_row2_col1\" class=\"data row2 col1\" >10.023429</td>\n",
       "      <td id=\"T_ed4e9_row2_col2\" class=\"data row2 col2\" >14.739694</td>\n",
       "      <td id=\"T_ed4e9_row2_col3\" class=\"data row2 col3\" >18.102436</td>\n",
       "      <td id=\"T_ed4e9_row2_col4\" class=\"data row2 col4\" >16.442747</td>\n",
       "      <td id=\"T_ed4e9_row2_col5\" class=\"data row2 col5\" >18.810520</td>\n",
       "      <td id=\"T_ed4e9_row2_col6\" class=\"data row2 col6\" >16.596383</td>\n",
       "      <td id=\"T_ed4e9_row2_col7\" class=\"data row2 col7\" >2.475224</td>\n",
       "      <td id=\"T_ed4e9_row2_col8\" class=\"data row2 col8\" >3.517781</td>\n",
       "      <td id=\"T_ed4e9_row2_col9\" class=\"data row2 col9\" >43.294603</td>\n",
       "      <td id=\"T_ed4e9_row2_col10\" class=\"data row2 col10\" >28.176441</td>\n",
       "      <td id=\"T_ed4e9_row2_col11\" class=\"data row2 col11\" >18.810520</td>\n",
       "      <td id=\"T_ed4e9_row2_col12\" class=\"data row2 col12\" >16.596383</td>\n",
       "      <td id=\"T_ed4e9_row2_col13\" class=\"data row2 col13\" >15.252492</td>\n",
       "      <td id=\"T_ed4e9_row2_col14\" class=\"data row2 col14\" >8.191159</td>\n",
       "      <td id=\"T_ed4e9_row2_col15\" class=\"data row2 col15\" >16.633475</td>\n",
       "      <td id=\"T_ed4e9_row2_col16\" class=\"data row2 col16\" >16.112409</td>\n",
       "    </tr>\n",
       "    <tr>\n",
       "      <th id=\"T_ed4e9_level0_row3\" class=\"row_heading level0 row3\" >Legal</th>\n",
       "      <td id=\"T_ed4e9_row3_col0\" class=\"data row3 col0\" >-5.374847</td>\n",
       "      <td id=\"T_ed4e9_row3_col1\" class=\"data row3 col1\" >-14.083709</td>\n",
       "      <td id=\"T_ed4e9_row3_col2\" class=\"data row3 col2\" >-11.962387</td>\n",
       "      <td id=\"T_ed4e9_row3_col3\" class=\"data row3 col3\" >-7.717306</td>\n",
       "      <td id=\"T_ed4e9_row3_col4\" class=\"data row3 col4\" >-63.458886</td>\n",
       "      <td id=\"T_ed4e9_row3_col5\" class=\"data row3 col5\" >-0.870457</td>\n",
       "      <td id=\"T_ed4e9_row3_col6\" class=\"data row3 col6\" >-2.983930</td>\n",
       "      <td id=\"T_ed4e9_row3_col7\" class=\"data row3 col7\" >-17.800227</td>\n",
       "      <td id=\"T_ed4e9_row3_col8\" class=\"data row3 col8\" >-14.823122</td>\n",
       "      <td id=\"T_ed4e9_row3_col9\" class=\"data row3 col9\" >15.010035</td>\n",
       "      <td id=\"T_ed4e9_row3_col10\" class=\"data row3 col10\" >-9.642062</td>\n",
       "      <td id=\"T_ed4e9_row3_col11\" class=\"data row3 col11\" >-0.870457</td>\n",
       "      <td id=\"T_ed4e9_row3_col12\" class=\"data row3 col12\" >-2.983930</td>\n",
       "      <td id=\"T_ed4e9_row3_col13\" class=\"data row3 col13\" >-1.918467</td>\n",
       "      <td id=\"T_ed4e9_row3_col14\" class=\"data row3 col14\" >-9.126515</td>\n",
       "      <td id=\"T_ed4e9_row3_col15\" class=\"data row3 col15\" >-5.234346</td>\n",
       "      <td id=\"T_ed4e9_row3_col16\" class=\"data row3 col16\" >-5.439736</td>\n",
       "    </tr>\n",
       "    <tr>\n",
       "      <th id=\"T_ed4e9_level0_row4\" class=\"row_heading level0 row4\" >Indigenous</th>\n",
       "      <td id=\"T_ed4e9_row4_col0\" class=\"data row4 col0\" >0.000000</td>\n",
       "      <td id=\"T_ed4e9_row4_col1\" class=\"data row4 col1\" >-5.975455</td>\n",
       "      <td id=\"T_ed4e9_row4_col2\" class=\"data row4 col2\" >-5.263362</td>\n",
       "      <td id=\"T_ed4e9_row4_col3\" class=\"data row4 col3\" >-0.729488</td>\n",
       "      <td id=\"T_ed4e9_row4_col4\" class=\"data row4 col4\" >-54.737655</td>\n",
       "      <td id=\"T_ed4e9_row4_col5\" class=\"data row4 col5\" >3.125744</td>\n",
       "      <td id=\"T_ed4e9_row4_col6\" class=\"data row4 col6\" >1.636931</td>\n",
       "      <td id=\"T_ed4e9_row4_col7\" class=\"data row4 col7\" >-8.619112</td>\n",
       "      <td id=\"T_ed4e9_row4_col8\" class=\"data row4 col8\" >-6.481494</td>\n",
       "      <td id=\"T_ed4e9_row4_col9\" class=\"data row4 col9\" >14.020959</td>\n",
       "      <td id=\"T_ed4e9_row4_col10\" class=\"data row4 col10\" >-2.333504</td>\n",
       "      <td id=\"T_ed4e9_row4_col11\" class=\"data row4 col11\" >3.125744</td>\n",
       "      <td id=\"T_ed4e9_row4_col12\" class=\"data row4 col12\" >1.636931</td>\n",
       "      <td id=\"T_ed4e9_row4_col13\" class=\"data row4 col13\" >2.325743</td>\n",
       "      <td id=\"T_ed4e9_row4_col14\" class=\"data row4 col14\" >-2.616495</td>\n",
       "      <td id=\"T_ed4e9_row4_col15\" class=\"data row4 col15\" >0.326744</td>\n",
       "      <td id=\"T_ed4e9_row4_col16\" class=\"data row4 col16\" >-0.033986</td>\n",
       "    </tr>\n",
       "    <tr>\n",
       "      <th id=\"T_ed4e9_level0_row5\" class=\"row_heading level0 row5\" >Overall</th>\n",
       "      <td id=\"T_ed4e9_row5_col0\" class=\"data row5 col0\" >-19.319347</td>\n",
       "      <td id=\"T_ed4e9_row5_col1\" class=\"data row5 col1\" >2.554334</td>\n",
       "      <td id=\"T_ed4e9_row5_col2\" class=\"data row5 col2\" >3.647937</td>\n",
       "      <td id=\"T_ed4e9_row5_col3\" class=\"data row5 col3\" >9.568925</td>\n",
       "      <td id=\"T_ed4e9_row5_col4\" class=\"data row5 col4\" >-20.821806</td>\n",
       "      <td id=\"T_ed4e9_row5_col5\" class=\"data row5 col5\" >-1.978749</td>\n",
       "      <td id=\"T_ed4e9_row5_col6\" class=\"data row5 col6\" >-4.790131</td>\n",
       "      <td id=\"T_ed4e9_row5_col7\" class=\"data row5 col7\" >-31.170117</td>\n",
       "      <td id=\"T_ed4e9_row5_col8\" class=\"data row5 col8\" >-28.135235</td>\n",
       "      <td id=\"T_ed4e9_row5_col9\" class=\"data row5 col9\" >20.156545</td>\n",
       "      <td id=\"T_ed4e9_row5_col10\" class=\"data row5 col10\" >-14.403940</td>\n",
       "      <td id=\"T_ed4e9_row5_col11\" class=\"data row5 col11\" >-1.978749</td>\n",
       "      <td id=\"T_ed4e9_row5_col12\" class=\"data row5 col12\" >-4.790131</td>\n",
       "      <td id=\"T_ed4e9_row5_col13\" class=\"data row5 col13\" >-12.051874</td>\n",
       "      <td id=\"T_ed4e9_row5_col14\" class=\"data row5 col14\" >-23.573353</td>\n",
       "      <td id=\"T_ed4e9_row5_col15\" class=\"data row5 col15\" >-8.996404</td>\n",
       "      <td id=\"T_ed4e9_row5_col16\" class=\"data row5 col16\" >-9.974963</td>\n",
       "    </tr>\n",
       "  </tbody>\n",
       "</table>\n"
      ],
      "text/plain": [
       "<pandas.io.formats.style.Styler at 0x12b16e7c0>"
      ]
     },
     "execution_count": 12,
     "metadata": {},
     "output_type": "execute_result"
    }
   ],
   "source": [
    "percentages_prison_arima['MSE'].style.highlight_max(color = 'lightgreen', axis = 1)"
   ]
  },
  {
   "cell_type": "code",
   "execution_count": 40,
   "metadata": {},
   "outputs": [],
   "source": [
    "# percentages_prison_arima['MSE'].iloc[:, 5:].style.highlight_max(color = 'lightgreen', axis = 1)"
   ]
  },
  {
   "cell_type": "markdown",
   "metadata": {},
   "source": [
    "ETS"
   ]
  },
  {
   "cell_type": "code",
   "execution_count": 14,
   "metadata": {},
   "outputs": [
    {
     "data": {
      "text/html": [
       "<style type=\"text/css\">\n",
       "#T_95216_row0_col1, #T_95216_row1_col12, #T_95216_row2_col12, #T_95216_row3_col11, #T_95216_row4_col11, #T_95216_row5_col14 {\n",
       "  background-color: lightgreen;\n",
       "}\n",
       "</style>\n",
       "<table id=\"T_95216_\">\n",
       "  <thead>\n",
       "    <tr>\n",
       "      <th class=\"blank level0\" >&nbsp;</th>\n",
       "      <th class=\"col_heading level0 col0\" >BU</th>\n",
       "      <th class=\"col_heading level0 col1\" >OLS</th>\n",
       "      <th class=\"col_heading level0 col2\" >WLS</th>\n",
       "      <th class=\"col_heading level0 col3\" >MinT(Shrink)</th>\n",
       "      <th class=\"col_heading level0 col4\" >ERM</th>\n",
       "      <th class=\"col_heading level0 col5\" >ML_CASE1</th>\n",
       "      <th class=\"col_heading level0 col6\" >ML_CASE1_MEAN</th>\n",
       "      <th class=\"col_heading level0 col7\" >ML_CASE1_Lambda1</th>\n",
       "      <th class=\"col_heading level0 col8\" >ML_CASE1_Lambda1_MEAN</th>\n",
       "      <th class=\"col_heading level0 col9\" >ML_CASE1_Lambda2</th>\n",
       "      <th class=\"col_heading level0 col10\" >ML_CASE1_Lambda2_MEAN</th>\n",
       "      <th class=\"col_heading level0 col11\" >ML_CASE2</th>\n",
       "      <th class=\"col_heading level0 col12\" >ML_CASE2_MEAN</th>\n",
       "      <th class=\"col_heading level0 col13\" >ML_CASE2_Lambda1</th>\n",
       "      <th class=\"col_heading level0 col14\" >ML_CASE2_Lambda1_MEAN</th>\n",
       "      <th class=\"col_heading level0 col15\" >ML_CASE2_Lambda2</th>\n",
       "      <th class=\"col_heading level0 col16\" >ML_CASE2_Lambda2_MEAN</th>\n",
       "    </tr>\n",
       "  </thead>\n",
       "  <tbody>\n",
       "    <tr>\n",
       "      <th id=\"T_95216_level0_row0\" class=\"row_heading level0 row0\" >Australia</th>\n",
       "      <td id=\"T_95216_row0_col0\" class=\"data row0 col0\" >-3033.353567</td>\n",
       "      <td id=\"T_95216_row0_col1\" class=\"data row0 col1\" >-15.322609</td>\n",
       "      <td id=\"T_95216_row0_col2\" class=\"data row0 col2\" >-1002.874308</td>\n",
       "      <td id=\"T_95216_row0_col3\" class=\"data row0 col3\" >-565.991246</td>\n",
       "      <td id=\"T_95216_row0_col4\" class=\"data row0 col4\" >-2921.571633</td>\n",
       "      <td id=\"T_95216_row0_col5\" class=\"data row0 col5\" >-641.821581</td>\n",
       "      <td id=\"T_95216_row0_col6\" class=\"data row0 col6\" >-639.992423</td>\n",
       "      <td id=\"T_95216_row0_col7\" class=\"data row0 col7\" >-1741.339062</td>\n",
       "      <td id=\"T_95216_row0_col8\" class=\"data row0 col8\" >-1626.389271</td>\n",
       "      <td id=\"T_95216_row0_col9\" class=\"data row0 col9\" >-1531.972284</td>\n",
       "      <td id=\"T_95216_row0_col10\" class=\"data row0 col10\" >-1392.616576</td>\n",
       "      <td id=\"T_95216_row0_col11\" class=\"data row0 col11\" >-1427.920894</td>\n",
       "      <td id=\"T_95216_row0_col12\" class=\"data row0 col12\" >-1079.833761</td>\n",
       "      <td id=\"T_95216_row0_col13\" class=\"data row0 col13\" >-1253.757484</td>\n",
       "      <td id=\"T_95216_row0_col14\" class=\"data row0 col14\" >-835.870255</td>\n",
       "      <td id=\"T_95216_row0_col15\" class=\"data row0 col15\" >-705.844348</td>\n",
       "      <td id=\"T_95216_row0_col16\" class=\"data row0 col16\" >-625.051447</td>\n",
       "    </tr>\n",
       "    <tr>\n",
       "      <th id=\"T_95216_level0_row1\" class=\"row_heading level0 row1\" >State</th>\n",
       "      <td id=\"T_95216_row1_col0\" class=\"data row1 col0\" >25.769501</td>\n",
       "      <td id=\"T_95216_row1_col1\" class=\"data row1 col1\" >10.728614</td>\n",
       "      <td id=\"T_95216_row1_col2\" class=\"data row1 col2\" >18.853948</td>\n",
       "      <td id=\"T_95216_row1_col3\" class=\"data row1 col3\" >17.545933</td>\n",
       "      <td id=\"T_95216_row1_col4\" class=\"data row1 col4\" >15.893155</td>\n",
       "      <td id=\"T_95216_row1_col5\" class=\"data row1 col5\" >19.603229</td>\n",
       "      <td id=\"T_95216_row1_col6\" class=\"data row1 col6\" >13.689340</td>\n",
       "      <td id=\"T_95216_row1_col7\" class=\"data row1 col7\" >29.315392</td>\n",
       "      <td id=\"T_95216_row1_col8\" class=\"data row1 col8\" >29.521898</td>\n",
       "      <td id=\"T_95216_row1_col9\" class=\"data row1 col9\" >31.403147</td>\n",
       "      <td id=\"T_95216_row1_col10\" class=\"data row1 col10\" >30.709172</td>\n",
       "      <td id=\"T_95216_row1_col11\" class=\"data row1 col11\" >32.430924</td>\n",
       "      <td id=\"T_95216_row1_col12\" class=\"data row1 col12\" >34.462417</td>\n",
       "      <td id=\"T_95216_row1_col13\" class=\"data row1 col13\" >32.294343</td>\n",
       "      <td id=\"T_95216_row1_col14\" class=\"data row1 col14\" >33.385164</td>\n",
       "      <td id=\"T_95216_row1_col15\" class=\"data row1 col15\" >29.124148</td>\n",
       "      <td id=\"T_95216_row1_col16\" class=\"data row1 col16\" >30.425919</td>\n",
       "    </tr>\n",
       "    <tr>\n",
       "      <th id=\"T_95216_level0_row2\" class=\"row_heading level0 row2\" >Gender</th>\n",
       "      <td id=\"T_95216_row2_col0\" class=\"data row2 col0\" >17.187082</td>\n",
       "      <td id=\"T_95216_row2_col1\" class=\"data row2 col1\" >3.108864</td>\n",
       "      <td id=\"T_95216_row2_col2\" class=\"data row2 col2\" >8.698361</td>\n",
       "      <td id=\"T_95216_row2_col3\" class=\"data row2 col3\" >7.558099</td>\n",
       "      <td id=\"T_95216_row2_col4\" class=\"data row2 col4\" >8.613978</td>\n",
       "      <td id=\"T_95216_row2_col5\" class=\"data row2 col5\" >11.124900</td>\n",
       "      <td id=\"T_95216_row2_col6\" class=\"data row2 col6\" >8.321485</td>\n",
       "      <td id=\"T_95216_row2_col7\" class=\"data row2 col7\" >21.014729</td>\n",
       "      <td id=\"T_95216_row2_col8\" class=\"data row2 col8\" >21.238537</td>\n",
       "      <td id=\"T_95216_row2_col9\" class=\"data row2 col9\" >23.285472</td>\n",
       "      <td id=\"T_95216_row2_col10\" class=\"data row2 col10\" >22.769527</td>\n",
       "      <td id=\"T_95216_row2_col11\" class=\"data row2 col11\" >24.339031</td>\n",
       "      <td id=\"T_95216_row2_col12\" class=\"data row2 col12\" >26.000879</td>\n",
       "      <td id=\"T_95216_row2_col13\" class=\"data row2 col13\" >23.915694</td>\n",
       "      <td id=\"T_95216_row2_col14\" class=\"data row2 col14\" >25.314284</td>\n",
       "      <td id=\"T_95216_row2_col15\" class=\"data row2 col15\" >21.474946</td>\n",
       "      <td id=\"T_95216_row2_col16\" class=\"data row2 col16\" >22.625923</td>\n",
       "    </tr>\n",
       "    <tr>\n",
       "      <th id=\"T_95216_level0_row3\" class=\"row_heading level0 row3\" >Legal</th>\n",
       "      <td id=\"T_95216_row3_col0\" class=\"data row3 col0\" >6.290859</td>\n",
       "      <td id=\"T_95216_row3_col1\" class=\"data row3 col1\" >-7.167135</td>\n",
       "      <td id=\"T_95216_row3_col2\" class=\"data row3 col2\" >-6.374773</td>\n",
       "      <td id=\"T_95216_row3_col3\" class=\"data row3 col3\" >-4.674812</td>\n",
       "      <td id=\"T_95216_row3_col4\" class=\"data row3 col4\" >-6.987274</td>\n",
       "      <td id=\"T_95216_row3_col5\" class=\"data row3 col5\" >-1.883968</td>\n",
       "      <td id=\"T_95216_row3_col6\" class=\"data row3 col6\" >-10.531003</td>\n",
       "      <td id=\"T_95216_row3_col7\" class=\"data row3 col7\" >6.920080</td>\n",
       "      <td id=\"T_95216_row3_col8\" class=\"data row3 col8\" >7.132614</td>\n",
       "      <td id=\"T_95216_row3_col9\" class=\"data row3 col9\" >8.513593</td>\n",
       "      <td id=\"T_95216_row3_col10\" class=\"data row3 col10\" >7.146450</td>\n",
       "      <td id=\"T_95216_row3_col11\" class=\"data row3 col11\" >9.016492</td>\n",
       "      <td id=\"T_95216_row3_col12\" class=\"data row3 col12\" >6.163635</td>\n",
       "      <td id=\"T_95216_row3_col13\" class=\"data row3 col13\" >8.568799</td>\n",
       "      <td id=\"T_95216_row3_col14\" class=\"data row3 col14\" >8.719007</td>\n",
       "      <td id=\"T_95216_row3_col15\" class=\"data row3 col15\" >3.575771</td>\n",
       "      <td id=\"T_95216_row3_col16\" class=\"data row3 col16\" >4.606311</td>\n",
       "    </tr>\n",
       "    <tr>\n",
       "      <th id=\"T_95216_level0_row4\" class=\"row_heading level0 row4\" >Indigenous</th>\n",
       "      <td id=\"T_95216_row4_col0\" class=\"data row4 col0\" >0.000000</td>\n",
       "      <td id=\"T_95216_row4_col1\" class=\"data row4 col1\" >-10.983168</td>\n",
       "      <td id=\"T_95216_row4_col2\" class=\"data row4 col2\" >-17.938420</td>\n",
       "      <td id=\"T_95216_row4_col3\" class=\"data row4 col3\" >-12.922318</td>\n",
       "      <td id=\"T_95216_row4_col4\" class=\"data row4 col4\" >-39.317612</td>\n",
       "      <td id=\"T_95216_row4_col5\" class=\"data row4 col5\" >-6.945100</td>\n",
       "      <td id=\"T_95216_row4_col6\" class=\"data row4 col6\" >-14.722589</td>\n",
       "      <td id=\"T_95216_row4_col7\" class=\"data row4 col7\" >0.526532</td>\n",
       "      <td id=\"T_95216_row4_col8\" class=\"data row4 col8\" >0.699836</td>\n",
       "      <td id=\"T_95216_row4_col9\" class=\"data row4 col9\" >1.811305</td>\n",
       "      <td id=\"T_95216_row4_col10\" class=\"data row4 col10\" >0.670265</td>\n",
       "      <td id=\"T_95216_row4_col11\" class=\"data row4 col11\" >1.837639</td>\n",
       "      <td id=\"T_95216_row4_col12\" class=\"data row4 col12\" >-0.860635</td>\n",
       "      <td id=\"T_95216_row4_col13\" class=\"data row4 col13\" >1.735540</td>\n",
       "      <td id=\"T_95216_row4_col14\" class=\"data row4 col14\" >1.805273</td>\n",
       "      <td id=\"T_95216_row4_col15\" class=\"data row4 col15\" >-2.074350</td>\n",
       "      <td id=\"T_95216_row4_col16\" class=\"data row4 col16\" >-1.388049</td>\n",
       "    </tr>\n",
       "    <tr>\n",
       "      <th id=\"T_95216_level0_row5\" class=\"row_heading level0 row5\" >Overall</th>\n",
       "      <td id=\"T_95216_row5_col0\" class=\"data row5 col0\" >-6.138350</td>\n",
       "      <td id=\"T_95216_row5_col1\" class=\"data row5 col1\" >2.815010</td>\n",
       "      <td id=\"T_95216_row5_col2\" class=\"data row5 col2\" >-0.256886</td>\n",
       "      <td id=\"T_95216_row5_col3\" class=\"data row5 col3\" >3.008417</td>\n",
       "      <td id=\"T_95216_row5_col4\" class=\"data row5 col4\" >-18.444188</td>\n",
       "      <td id=\"T_95216_row5_col5\" class=\"data row5 col5\" >5.472439</td>\n",
       "      <td id=\"T_95216_row5_col6\" class=\"data row5 col6\" >-0.131030</td>\n",
       "      <td id=\"T_95216_row5_col7\" class=\"data row5 col7\" >6.429279</td>\n",
       "      <td id=\"T_95216_row5_col8\" class=\"data row5 col8\" >7.508467</td>\n",
       "      <td id=\"T_95216_row5_col9\" class=\"data row5 col9\" >9.971181</td>\n",
       "      <td id=\"T_95216_row5_col10\" class=\"data row5 col10\" >10.226937</td>\n",
       "      <td id=\"T_95216_row5_col11\" class=\"data row5 col11\" >11.589174</td>\n",
       "      <td id=\"T_95216_row5_col12\" class=\"data row5 col12\" >14.776460</td>\n",
       "      <td id=\"T_95216_row5_col13\" class=\"data row5 col13\" >12.638035</td>\n",
       "      <td id=\"T_95216_row5_col14\" class=\"data row5 col14\" >16.707593</td>\n",
       "      <td id=\"T_95216_row5_col15\" class=\"data row5 col15\" >13.477374</td>\n",
       "      <td id=\"T_95216_row5_col16\" class=\"data row5 col16\" >15.223780</td>\n",
       "    </tr>\n",
       "  </tbody>\n",
       "</table>\n"
      ],
      "text/plain": [
       "<pandas.io.formats.style.Styler at 0x12b149340>"
      ]
     },
     "execution_count": 14,
     "metadata": {},
     "output_type": "execute_result"
    }
   ],
   "source": [
    "model_ets ='ets'\n",
    "base_errors_prison_ets, percentages_prison_ets = get_results(data_prison, model_ets, LEVELS_prison, FC_TYPE, column_order_1,\n",
    "                                                            True)\n",
    "percentages_prison_ets['MSE'].style.highlight_max(color = 'lightgreen', axis = 1)"
   ]
  },
  {
   "cell_type": "code",
   "execution_count": 39,
   "metadata": {},
   "outputs": [],
   "source": [
    "# percentages_prison_ets['MSE'].iloc[:, 5:].style.highlight_max(color = 'lightgreen', axis = 1)"
   ]
  },
  {
   "cell_type": "markdown",
   "metadata": {},
   "source": [
    "## Tourism"
   ]
  },
  {
   "cell_type": "code",
   "execution_count": 16,
   "metadata": {},
   "outputs": [],
   "source": [
    "LEVELS_tourism = ['Australia', 'States', 'Regions']\n",
    "data_tourism = 'tourism'\n",
    "\n",
    "FC_TYPE = ['base', 'bottomup', 'ols', 'wls', 'mintsample', 'mintshrink', 'erm',\n",
    "               'case1', 'case1_mean', 'case1_lambda1', 'case1_lambda1_mean', 'case1_lambda2', 'case1_lambda2_mean',\n",
    "               'case2', 'case2_mean', 'case2_lambda1', 'case2_lambda1_mean', 'case2_lambda2', 'case2_lambda2_mean']\n",
    "column_order_1 = ['BU', 'OLS', 'WLS', 'MinT(Sample)','MinT(Shrink)', 'ERM', 'ML_CASE1', 'ML_CASE1_MEAN',\n",
    "                 'ML_CASE1_Lambda1','ML_CASE1_Lambda1_MEAN','ML_CASE1_Lambda2','ML_CASE1_Lambda2_MEAN',\n",
    "                  'ML_CASE2','ML_CASE2_MEAN','ML_CASE2_Lambda1','ML_CASE2_Lambda1_MEAN',\n",
    "                  'ML_CASE2_Lambda2', 'ML_CASE2_Lambda2_MEAN',]\n",
    "\n",
    "\n",
    "model_arima ='arima'\n",
    "base_errors_tourism_arima, percentages_tourism_arima = get_results(data_tourism, model_arima, LEVELS_tourism, FC_TYPE, column_order_1)"
   ]
  },
  {
   "cell_type": "markdown",
   "metadata": {},
   "source": [
    "ARIMA"
   ]
  },
  {
   "cell_type": "code",
   "execution_count": 17,
   "metadata": {},
   "outputs": [
    {
     "data": {
      "text/html": [
       "<style type=\"text/css\">\n",
       "#T_c6ca9_row0_col9, #T_c6ca9_row1_col9, #T_c6ca9_row2_col3, #T_c6ca9_row3_col9 {\n",
       "  background-color: lightgreen;\n",
       "}\n",
       "</style>\n",
       "<table id=\"T_c6ca9_\">\n",
       "  <thead>\n",
       "    <tr>\n",
       "      <th class=\"blank level0\" >&nbsp;</th>\n",
       "      <th class=\"col_heading level0 col0\" >BU</th>\n",
       "      <th class=\"col_heading level0 col1\" >OLS</th>\n",
       "      <th class=\"col_heading level0 col2\" >WLS</th>\n",
       "      <th class=\"col_heading level0 col3\" >MinT(Sample)</th>\n",
       "      <th class=\"col_heading level0 col4\" >MinT(Shrink)</th>\n",
       "      <th class=\"col_heading level0 col5\" >ERM</th>\n",
       "      <th class=\"col_heading level0 col6\" >ML_CASE1</th>\n",
       "      <th class=\"col_heading level0 col7\" >ML_CASE1_MEAN</th>\n",
       "      <th class=\"col_heading level0 col8\" >ML_CASE1_Lambda1</th>\n",
       "      <th class=\"col_heading level0 col9\" >ML_CASE1_Lambda1_MEAN</th>\n",
       "      <th class=\"col_heading level0 col10\" >ML_CASE1_Lambda2</th>\n",
       "      <th class=\"col_heading level0 col11\" >ML_CASE1_Lambda2_MEAN</th>\n",
       "      <th class=\"col_heading level0 col12\" >ML_CASE2</th>\n",
       "      <th class=\"col_heading level0 col13\" >ML_CASE2_MEAN</th>\n",
       "      <th class=\"col_heading level0 col14\" >ML_CASE2_Lambda1</th>\n",
       "      <th class=\"col_heading level0 col15\" >ML_CASE2_Lambda1_MEAN</th>\n",
       "      <th class=\"col_heading level0 col16\" >ML_CASE2_Lambda2</th>\n",
       "      <th class=\"col_heading level0 col17\" >ML_CASE2_Lambda2_MEAN</th>\n",
       "    </tr>\n",
       "  </thead>\n",
       "  <tbody>\n",
       "    <tr>\n",
       "      <th id=\"T_c6ca9_level0_row0\" class=\"row_heading level0 row0\" >Australia</th>\n",
       "      <td id=\"T_c6ca9_row0_col0\" class=\"data row0 col0\" >-336.612973</td>\n",
       "      <td id=\"T_c6ca9_row0_col1\" class=\"data row0 col1\" >-15.402187</td>\n",
       "      <td id=\"T_c6ca9_row0_col2\" class=\"data row0 col2\" >-186.242951</td>\n",
       "      <td id=\"T_c6ca9_row0_col3\" class=\"data row0 col3\" >-32.443611</td>\n",
       "      <td id=\"T_c6ca9_row0_col4\" class=\"data row0 col4\" >-102.650850</td>\n",
       "      <td id=\"T_c6ca9_row0_col5\" class=\"data row0 col5\" >-0.952876</td>\n",
       "      <td id=\"T_c6ca9_row0_col6\" class=\"data row0 col6\" >-102.773745</td>\n",
       "      <td id=\"T_c6ca9_row0_col7\" class=\"data row0 col7\" >-100.625579</td>\n",
       "      <td id=\"T_c6ca9_row0_col8\" class=\"data row0 col8\" >-2.588107</td>\n",
       "      <td id=\"T_c6ca9_row0_col9\" class=\"data row0 col9\" >9.933037</td>\n",
       "      <td id=\"T_c6ca9_row0_col10\" class=\"data row0 col10\" >-145.526787</td>\n",
       "      <td id=\"T_c6ca9_row0_col11\" class=\"data row0 col11\" >-143.375279</td>\n",
       "      <td id=\"T_c6ca9_row0_col12\" class=\"data row0 col12\" >-35.991282</td>\n",
       "      <td id=\"T_c6ca9_row0_col13\" class=\"data row0 col13\" >-35.882361</td>\n",
       "      <td id=\"T_c6ca9_row0_col14\" class=\"data row0 col14\" >-146.752803</td>\n",
       "      <td id=\"T_c6ca9_row0_col15\" class=\"data row0 col15\" >-145.250560</td>\n",
       "      <td id=\"T_c6ca9_row0_col16\" class=\"data row0 col16\" >-66.593739</td>\n",
       "      <td id=\"T_c6ca9_row0_col17\" class=\"data row0 col17\" >-71.240518</td>\n",
       "    </tr>\n",
       "    <tr>\n",
       "      <th id=\"T_c6ca9_level0_row1\" class=\"row_heading level0 row1\" >States</th>\n",
       "      <td id=\"T_c6ca9_row1_col0\" class=\"data row1 col0\" >-69.790932</td>\n",
       "      <td id=\"T_c6ca9_row1_col1\" class=\"data row1 col1\" >28.159025</td>\n",
       "      <td id=\"T_c6ca9_row1_col2\" class=\"data row1 col2\" >-13.739921</td>\n",
       "      <td id=\"T_c6ca9_row1_col3\" class=\"data row1 col3\" >35.504637</td>\n",
       "      <td id=\"T_c6ca9_row1_col4\" class=\"data row1 col4\" >12.530673</td>\n",
       "      <td id=\"T_c6ca9_row1_col5\" class=\"data row1 col5\" >42.812455</td>\n",
       "      <td id=\"T_c6ca9_row1_col6\" class=\"data row1 col6\" >14.346513</td>\n",
       "      <td id=\"T_c6ca9_row1_col7\" class=\"data row1 col7\" >14.649768</td>\n",
       "      <td id=\"T_c6ca9_row1_col8\" class=\"data row1 col8\" >37.068438</td>\n",
       "      <td id=\"T_c6ca9_row1_col9\" class=\"data row1 col9\" >44.279364</td>\n",
       "      <td id=\"T_c6ca9_row1_col10\" class=\"data row1 col10\" >-5.844932</td>\n",
       "      <td id=\"T_c6ca9_row1_col11\" class=\"data row1 col11\" >-5.333560</td>\n",
       "      <td id=\"T_c6ca9_row1_col12\" class=\"data row1 col12\" >28.957981</td>\n",
       "      <td id=\"T_c6ca9_row1_col13\" class=\"data row1 col13\" >28.615112</td>\n",
       "      <td id=\"T_c6ca9_row1_col14\" class=\"data row1 col14\" >-11.822863</td>\n",
       "      <td id=\"T_c6ca9_row1_col15\" class=\"data row1 col15\" >-11.772848</td>\n",
       "      <td id=\"T_c6ca9_row1_col16\" class=\"data row1 col16\" >25.943950</td>\n",
       "      <td id=\"T_c6ca9_row1_col17\" class=\"data row1 col17\" >24.399927</td>\n",
       "    </tr>\n",
       "    <tr>\n",
       "      <th id=\"T_c6ca9_level0_row2\" class=\"row_heading level0 row2\" >Regions</th>\n",
       "      <td id=\"T_c6ca9_row2_col0\" class=\"data row2 col0\" >0.000000</td>\n",
       "      <td id=\"T_c6ca9_row2_col1\" class=\"data row2 col1\" >16.233769</td>\n",
       "      <td id=\"T_c6ca9_row2_col2\" class=\"data row2 col2\" >17.287729</td>\n",
       "      <td id=\"T_c6ca9_row2_col3\" class=\"data row2 col3\" >23.978228</td>\n",
       "      <td id=\"T_c6ca9_row2_col4\" class=\"data row2 col4\" >20.335997</td>\n",
       "      <td id=\"T_c6ca9_row2_col5\" class=\"data row2 col5\" >14.419214</td>\n",
       "      <td id=\"T_c6ca9_row2_col6\" class=\"data row2 col6\" >14.572254</td>\n",
       "      <td id=\"T_c6ca9_row2_col7\" class=\"data row2 col7\" >14.605292</td>\n",
       "      <td id=\"T_c6ca9_row2_col8\" class=\"data row2 col8\" >18.613858</td>\n",
       "      <td id=\"T_c6ca9_row2_col9\" class=\"data row2 col9\" >19.651973</td>\n",
       "      <td id=\"T_c6ca9_row2_col10\" class=\"data row2 col10\" >10.721102</td>\n",
       "      <td id=\"T_c6ca9_row2_col11\" class=\"data row2 col11\" >10.846287</td>\n",
       "      <td id=\"T_c6ca9_row2_col12\" class=\"data row2 col12\" >17.002606</td>\n",
       "      <td id=\"T_c6ca9_row2_col13\" class=\"data row2 col13\" >16.892998</td>\n",
       "      <td id=\"T_c6ca9_row2_col14\" class=\"data row2 col14\" >9.323549</td>\n",
       "      <td id=\"T_c6ca9_row2_col15\" class=\"data row2 col15\" >9.507608</td>\n",
       "      <td id=\"T_c6ca9_row2_col16\" class=\"data row2 col16\" >15.627896</td>\n",
       "      <td id=\"T_c6ca9_row2_col17\" class=\"data row2 col17\" >15.283159</td>\n",
       "    </tr>\n",
       "    <tr>\n",
       "      <th id=\"T_c6ca9_level0_row3\" class=\"row_heading level0 row3\" >Overall</th>\n",
       "      <td id=\"T_c6ca9_row3_col0\" class=\"data row3 col0\" >-198.046179</td>\n",
       "      <td id=\"T_c6ca9_row3_col1\" class=\"data row3 col1\" >3.605229</td>\n",
       "      <td id=\"T_c6ca9_row3_col2\" class=\"data row3 col2\" >-98.842832</td>\n",
       "      <td id=\"T_c6ca9_row3_col3\" class=\"data row3 col3\" >-1.698437</td>\n",
       "      <td id=\"T_c6ca9_row3_col4\" class=\"data row3 col4\" >-46.294762</td>\n",
       "      <td id=\"T_c6ca9_row3_col5\" class=\"data row3 col5\" >15.599435</td>\n",
       "      <td id=\"T_c6ca9_row3_col6\" class=\"data row3 col6\" >-46.664407</td>\n",
       "      <td id=\"T_c6ca9_row3_col7\" class=\"data row3 col7\" >-45.441436</td>\n",
       "      <td id=\"T_c6ca9_row3_col8\" class=\"data row3 col8\" >13.537692</td>\n",
       "      <td id=\"T_c6ca9_row3_col9\" class=\"data row3 col9\" >22.559528</td>\n",
       "      <td id=\"T_c6ca9_row3_col10\" class=\"data row3 col10\" >-76.082462</td>\n",
       "      <td id=\"T_c6ca9_row3_col11\" class=\"data row3 col11\" >-74.776077</td>\n",
       "      <td id=\"T_c6ca9_row3_col12\" class=\"data row3 col12\" >-6.748451</td>\n",
       "      <td id=\"T_c6ca9_row3_col13\" class=\"data row3 col13\" >-6.819672</td>\n",
       "      <td id=\"T_c6ca9_row3_col14\" class=\"data row3 col14\" >-78.873542</td>\n",
       "      <td id=\"T_c6ca9_row3_col15\" class=\"data row3 col15\" >-78.045812</td>\n",
       "      <td id=\"T_c6ca9_row3_col16\" class=\"data row3 col16\" >-23.888113</td>\n",
       "      <td id=\"T_c6ca9_row3_col17\" class=\"data row3 col17\" >-26.863459</td>\n",
       "    </tr>\n",
       "  </tbody>\n",
       "</table>\n"
      ],
      "text/plain": [
       "<pandas.io.formats.style.Styler at 0x12b1657f0>"
      ]
     },
     "execution_count": 17,
     "metadata": {},
     "output_type": "execute_result"
    }
   ],
   "source": [
    "percentages_tourism_arima ['MSE'].style.highlight_max(color = 'lightgreen', axis = 1)"
   ]
  },
  {
   "cell_type": "code",
   "execution_count": 38,
   "metadata": {},
   "outputs": [],
   "source": [
    "# percentages_tourism_arima ['MSE'].iloc[:, 6:].style.highlight_max(color = 'lightgreen', axis = 1)"
   ]
  },
  {
   "cell_type": "markdown",
   "metadata": {},
   "source": [
    "ETS"
   ]
  },
  {
   "cell_type": "code",
   "execution_count": 19,
   "metadata": {},
   "outputs": [],
   "source": [
    "model_ets ='ets'\n",
    "base_errors_tourism_ets, percentages_tourism_ets = get_results(data_tourism, model_ets, LEVELS_tourism, FC_TYPE, column_order_1)"
   ]
  },
  {
   "cell_type": "code",
   "execution_count": 20,
   "metadata": {},
   "outputs": [
    {
     "data": {
      "text/html": [
       "<style type=\"text/css\">\n",
       "#T_0e787_row0_col11, #T_0e787_row1_col12, #T_0e787_row2_col12, #T_0e787_row3_col16 {\n",
       "  background-color: lightgreen;\n",
       "}\n",
       "</style>\n",
       "<table id=\"T_0e787_\">\n",
       "  <thead>\n",
       "    <tr>\n",
       "      <th class=\"blank level0\" >&nbsp;</th>\n",
       "      <th class=\"col_heading level0 col0\" >BU</th>\n",
       "      <th class=\"col_heading level0 col1\" >OLS</th>\n",
       "      <th class=\"col_heading level0 col2\" >WLS</th>\n",
       "      <th class=\"col_heading level0 col3\" >MinT(Sample)</th>\n",
       "      <th class=\"col_heading level0 col4\" >MinT(Shrink)</th>\n",
       "      <th class=\"col_heading level0 col5\" >ERM</th>\n",
       "      <th class=\"col_heading level0 col6\" >ML_CASE1</th>\n",
       "      <th class=\"col_heading level0 col7\" >ML_CASE1_MEAN</th>\n",
       "      <th class=\"col_heading level0 col8\" >ML_CASE1_Lambda1</th>\n",
       "      <th class=\"col_heading level0 col9\" >ML_CASE1_Lambda1_MEAN</th>\n",
       "      <th class=\"col_heading level0 col10\" >ML_CASE1_Lambda2</th>\n",
       "      <th class=\"col_heading level0 col11\" >ML_CASE1_Lambda2_MEAN</th>\n",
       "      <th class=\"col_heading level0 col12\" >ML_CASE2</th>\n",
       "      <th class=\"col_heading level0 col13\" >ML_CASE2_MEAN</th>\n",
       "      <th class=\"col_heading level0 col14\" >ML_CASE2_Lambda1</th>\n",
       "      <th class=\"col_heading level0 col15\" >ML_CASE2_Lambda1_MEAN</th>\n",
       "      <th class=\"col_heading level0 col16\" >ML_CASE2_Lambda2</th>\n",
       "      <th class=\"col_heading level0 col17\" >ML_CASE2_Lambda2_MEAN</th>\n",
       "    </tr>\n",
       "  </thead>\n",
       "  <tbody>\n",
       "    <tr>\n",
       "      <th id=\"T_0e787_level0_row0\" class=\"row_heading level0 row0\" >Australia</th>\n",
       "      <td id=\"T_0e787_row0_col0\" class=\"data row0 col0\" >-74.350078</td>\n",
       "      <td id=\"T_0e787_row0_col1\" class=\"data row0 col1\" >0.996985</td>\n",
       "      <td id=\"T_0e787_row0_col2\" class=\"data row0 col2\" >-32.792912</td>\n",
       "      <td id=\"T_0e787_row0_col3\" class=\"data row0 col3\" >26.454736</td>\n",
       "      <td id=\"T_0e787_row0_col4\" class=\"data row0 col4\" >-23.578552</td>\n",
       "      <td id=\"T_0e787_row0_col5\" class=\"data row0 col5\" >34.256214</td>\n",
       "      <td id=\"T_0e787_row0_col6\" class=\"data row0 col6\" >-18.335489</td>\n",
       "      <td id=\"T_0e787_row0_col7\" class=\"data row0 col7\" >-2.190778</td>\n",
       "      <td id=\"T_0e787_row0_col8\" class=\"data row0 col8\" >-4.950822</td>\n",
       "      <td id=\"T_0e787_row0_col9\" class=\"data row0 col9\" >-20.597527</td>\n",
       "      <td id=\"T_0e787_row0_col10\" class=\"data row0 col10\" >53.852066</td>\n",
       "      <td id=\"T_0e787_row0_col11\" class=\"data row0 col11\" >54.328059</td>\n",
       "      <td id=\"T_0e787_row0_col12\" class=\"data row0 col12\" >53.659942</td>\n",
       "      <td id=\"T_0e787_row0_col13\" class=\"data row0 col13\" >51.467112</td>\n",
       "      <td id=\"T_0e787_row0_col14\" class=\"data row0 col14\" >14.134104</td>\n",
       "      <td id=\"T_0e787_row0_col15\" class=\"data row0 col15\" >36.120810</td>\n",
       "      <td id=\"T_0e787_row0_col16\" class=\"data row0 col16\" >54.117239</td>\n",
       "      <td id=\"T_0e787_row0_col17\" class=\"data row0 col17\" >52.622808</td>\n",
       "    </tr>\n",
       "    <tr>\n",
       "      <th id=\"T_0e787_level0_row1\" class=\"row_heading level0 row1\" >States</th>\n",
       "      <td id=\"T_0e787_row1_col0\" class=\"data row1 col0\" >-37.322787</td>\n",
       "      <td id=\"T_0e787_row1_col1\" class=\"data row1 col1\" >2.967490</td>\n",
       "      <td id=\"T_0e787_row1_col2\" class=\"data row1 col2\" >-8.087188</td>\n",
       "      <td id=\"T_0e787_row1_col3\" class=\"data row1 col3\" >31.235177</td>\n",
       "      <td id=\"T_0e787_row1_col4\" class=\"data row1 col4\" >-2.283716</td>\n",
       "      <td id=\"T_0e787_row1_col5\" class=\"data row1 col5\" >-36.878294</td>\n",
       "      <td id=\"T_0e787_row1_col6\" class=\"data row1 col6\" >0.220360</td>\n",
       "      <td id=\"T_0e787_row1_col7\" class=\"data row1 col7\" >10.019350</td>\n",
       "      <td id=\"T_0e787_row1_col8\" class=\"data row1 col8\" >0.350575</td>\n",
       "      <td id=\"T_0e787_row1_col9\" class=\"data row1 col9\" >-8.348524</td>\n",
       "      <td id=\"T_0e787_row1_col10\" class=\"data row1 col10\" >41.213899</td>\n",
       "      <td id=\"T_0e787_row1_col11\" class=\"data row1 col11\" >41.980650</td>\n",
       "      <td id=\"T_0e787_row1_col12\" class=\"data row1 col12\" >42.963272</td>\n",
       "      <td id=\"T_0e787_row1_col13\" class=\"data row1 col13\" >40.862065</td>\n",
       "      <td id=\"T_0e787_row1_col14\" class=\"data row1 col14\" >17.746094</td>\n",
       "      <td id=\"T_0e787_row1_col15\" class=\"data row1 col15\" >32.378966</td>\n",
       "      <td id=\"T_0e787_row1_col16\" class=\"data row1 col16\" >42.727274</td>\n",
       "      <td id=\"T_0e787_row1_col17\" class=\"data row1 col17\" >41.504603</td>\n",
       "    </tr>\n",
       "    <tr>\n",
       "      <th id=\"T_0e787_level0_row2\" class=\"row_heading level0 row2\" >Regions</th>\n",
       "      <td id=\"T_0e787_row2_col0\" class=\"data row2 col0\" >0.000000</td>\n",
       "      <td id=\"T_0e787_row2_col1\" class=\"data row2 col1\" >6.104559</td>\n",
       "      <td id=\"T_0e787_row2_col2\" class=\"data row2 col2\" >10.261384</td>\n",
       "      <td id=\"T_0e787_row2_col3\" class=\"data row2 col3\" >7.754256</td>\n",
       "      <td id=\"T_0e787_row2_col4\" class=\"data row2 col4\" >10.001538</td>\n",
       "      <td id=\"T_0e787_row2_col5\" class=\"data row2 col5\" >-111.025210</td>\n",
       "      <td id=\"T_0e787_row2_col6\" class=\"data row2 col6\" >7.162891</td>\n",
       "      <td id=\"T_0e787_row2_col7\" class=\"data row2 col7\" >8.995216</td>\n",
       "      <td id=\"T_0e787_row2_col8\" class=\"data row2 col8\" >6.332391</td>\n",
       "      <td id=\"T_0e787_row2_col9\" class=\"data row2 col9\" >4.867548</td>\n",
       "      <td id=\"T_0e787_row2_col10\" class=\"data row2 col10\" >13.697656</td>\n",
       "      <td id=\"T_0e787_row2_col11\" class=\"data row2 col11\" >13.811089</td>\n",
       "      <td id=\"T_0e787_row2_col12\" class=\"data row2 col12\" >14.894083</td>\n",
       "      <td id=\"T_0e787_row2_col13\" class=\"data row2 col13\" >14.428712</td>\n",
       "      <td id=\"T_0e787_row2_col14\" class=\"data row2 col14\" >9.489702</td>\n",
       "      <td id=\"T_0e787_row2_col15\" class=\"data row2 col15\" >12.094508</td>\n",
       "      <td id=\"T_0e787_row2_col16\" class=\"data row2 col16\" >13.985230</td>\n",
       "      <td id=\"T_0e787_row2_col17\" class=\"data row2 col17\" >13.737063</td>\n",
       "    </tr>\n",
       "    <tr>\n",
       "      <th id=\"T_0e787_level0_row3\" class=\"row_heading level0 row3\" >Overall</th>\n",
       "      <td id=\"T_0e787_row3_col0\" class=\"data row3 col0\" >-58.869128</td>\n",
       "      <td id=\"T_0e787_row3_col1\" class=\"data row3 col1\" >1.931734</td>\n",
       "      <td id=\"T_0e787_row3_col2\" class=\"data row3 col2\" >-23.095100</td>\n",
       "      <td id=\"T_0e787_row3_col3\" class=\"data row3 col3\" >25.726605</td>\n",
       "      <td id=\"T_0e787_row3_col4\" class=\"data row3 col4\" >-15.559769</td>\n",
       "      <td id=\"T_0e787_row3_col5\" class=\"data row3 col5\" >4.279624</td>\n",
       "      <td id=\"T_0e787_row3_col6\" class=\"data row3 col6\" >-11.710646</td>\n",
       "      <td id=\"T_0e787_row3_col7\" class=\"data row3 col7\" >1.629641</td>\n",
       "      <td id=\"T_0e787_row3_col8\" class=\"data row3 col8\" >-2.672845</td>\n",
       "      <td id=\"T_0e787_row3_col9\" class=\"data row3 col9\" >-15.392506</td>\n",
       "      <td id=\"T_0e787_row3_col10\" class=\"data row3 col10\" >47.144240</td>\n",
       "      <td id=\"T_0e787_row3_col11\" class=\"data row3 col11\" >47.650606</td>\n",
       "      <td id=\"T_0e787_row3_col12\" class=\"data row3 col12\" >47.522001</td>\n",
       "      <td id=\"T_0e787_row3_col13\" class=\"data row3 col13\" >45.516199</td>\n",
       "      <td id=\"T_0e787_row3_col14\" class=\"data row3 col14\" >14.497903</td>\n",
       "      <td id=\"T_0e787_row3_col15\" class=\"data row3 col15\" >32.965267</td>\n",
       "      <td id=\"T_0e787_row3_col16\" class=\"data row3 col16\" >47.691937</td>\n",
       "      <td id=\"T_0e787_row3_col17\" class=\"data row3 col17\" >46.378631</td>\n",
       "    </tr>\n",
       "  </tbody>\n",
       "</table>\n"
      ],
      "text/plain": [
       "<pandas.io.formats.style.Styler at 0x12b191f10>"
      ]
     },
     "execution_count": 20,
     "metadata": {},
     "output_type": "execute_result"
    }
   ],
   "source": [
    "percentages_tourism_ets['MSE'].style.highlight_max(color = 'lightgreen', axis = 1)"
   ]
  },
  {
   "cell_type": "code",
   "execution_count": 37,
   "metadata": {},
   "outputs": [],
   "source": [
    "# percentages_tourism_ets['MSE'].iloc[:, 6:].style.highlight_max(color = 'lightgreen', axis = 1)"
   ]
  },
  {
   "cell_type": "markdown",
   "metadata": {},
   "source": [
    "### Short Horizon"
   ]
  },
  {
   "cell_type": "markdown",
   "metadata": {},
   "source": [
    "ARIMA"
   ]
  },
  {
   "cell_type": "code",
   "execution_count": 22,
   "metadata": {},
   "outputs": [],
   "source": [
    "base_errors_tourism_arima, percentages_tourism_arima = get_results(data_tourism, model_arima, LEVELS_tourism, FC_TYPE, \n",
    "                                                                   column_order_1, True)"
   ]
  },
  {
   "cell_type": "code",
   "execution_count": 23,
   "metadata": {},
   "outputs": [
    {
     "data": {
      "text/html": [
       "<style type=\"text/css\">\n",
       "#T_f5a33_row0_col9, #T_f5a33_row1_col9, #T_f5a33_row2_col3, #T_f5a33_row3_col9 {\n",
       "  background-color: lightgreen;\n",
       "}\n",
       "</style>\n",
       "<table id=\"T_f5a33_\">\n",
       "  <thead>\n",
       "    <tr>\n",
       "      <th class=\"blank level0\" >&nbsp;</th>\n",
       "      <th class=\"col_heading level0 col0\" >BU</th>\n",
       "      <th class=\"col_heading level0 col1\" >OLS</th>\n",
       "      <th class=\"col_heading level0 col2\" >WLS</th>\n",
       "      <th class=\"col_heading level0 col3\" >MinT(Sample)</th>\n",
       "      <th class=\"col_heading level0 col4\" >MinT(Shrink)</th>\n",
       "      <th class=\"col_heading level0 col5\" >ERM</th>\n",
       "      <th class=\"col_heading level0 col6\" >ML_CASE1</th>\n",
       "      <th class=\"col_heading level0 col7\" >ML_CASE1_MEAN</th>\n",
       "      <th class=\"col_heading level0 col8\" >ML_CASE1_Lambda1</th>\n",
       "      <th class=\"col_heading level0 col9\" >ML_CASE1_Lambda1_MEAN</th>\n",
       "      <th class=\"col_heading level0 col10\" >ML_CASE1_Lambda2</th>\n",
       "      <th class=\"col_heading level0 col11\" >ML_CASE1_Lambda2_MEAN</th>\n",
       "      <th class=\"col_heading level0 col12\" >ML_CASE2</th>\n",
       "      <th class=\"col_heading level0 col13\" >ML_CASE2_MEAN</th>\n",
       "      <th class=\"col_heading level0 col14\" >ML_CASE2_Lambda1</th>\n",
       "      <th class=\"col_heading level0 col15\" >ML_CASE2_Lambda1_MEAN</th>\n",
       "      <th class=\"col_heading level0 col16\" >ML_CASE2_Lambda2</th>\n",
       "      <th class=\"col_heading level0 col17\" >ML_CASE2_Lambda2_MEAN</th>\n",
       "    </tr>\n",
       "  </thead>\n",
       "  <tbody>\n",
       "    <tr>\n",
       "      <th id=\"T_f5a33_level0_row0\" class=\"row_heading level0 row0\" >Australia</th>\n",
       "      <td id=\"T_f5a33_row0_col0\" class=\"data row0 col0\" >-270.441142</td>\n",
       "      <td id=\"T_f5a33_row0_col1\" class=\"data row0 col1\" >-14.214972</td>\n",
       "      <td id=\"T_f5a33_row0_col2\" class=\"data row0 col2\" >-156.302629</td>\n",
       "      <td id=\"T_f5a33_row0_col3\" class=\"data row0 col3\" >-21.756588</td>\n",
       "      <td id=\"T_f5a33_row0_col4\" class=\"data row0 col4\" >-86.739568</td>\n",
       "      <td id=\"T_f5a33_row0_col5\" class=\"data row0 col5\" >-2.155216</td>\n",
       "      <td id=\"T_f5a33_row0_col6\" class=\"data row0 col6\" >-77.919881</td>\n",
       "      <td id=\"T_f5a33_row0_col7\" class=\"data row0 col7\" >-72.419089</td>\n",
       "      <td id=\"T_f5a33_row0_col8\" class=\"data row0 col8\" >1.581177</td>\n",
       "      <td id=\"T_f5a33_row0_col9\" class=\"data row0 col9\" >11.818582</td>\n",
       "      <td id=\"T_f5a33_row0_col10\" class=\"data row0 col10\" >-119.559186</td>\n",
       "      <td id=\"T_f5a33_row0_col11\" class=\"data row0 col11\" >-116.296745</td>\n",
       "      <td id=\"T_f5a33_row0_col12\" class=\"data row0 col12\" >-14.959913</td>\n",
       "      <td id=\"T_f5a33_row0_col13\" class=\"data row0 col13\" >-20.537647</td>\n",
       "      <td id=\"T_f5a33_row0_col14\" class=\"data row0 col14\" >-116.690844</td>\n",
       "      <td id=\"T_f5a33_row0_col15\" class=\"data row0 col15\" >-114.601786</td>\n",
       "      <td id=\"T_f5a33_row0_col16\" class=\"data row0 col16\" >-42.955614</td>\n",
       "      <td id=\"T_f5a33_row0_col17\" class=\"data row0 col17\" >-45.076463</td>\n",
       "    </tr>\n",
       "    <tr>\n",
       "      <th id=\"T_f5a33_level0_row1\" class=\"row_heading level0 row1\" >States</th>\n",
       "      <td id=\"T_f5a33_row1_col0\" class=\"data row1 col0\" >-54.708017</td>\n",
       "      <td id=\"T_f5a33_row1_col1\" class=\"data row1 col1\" >29.896808</td>\n",
       "      <td id=\"T_f5a33_row1_col2\" class=\"data row1 col2\" >-7.138181</td>\n",
       "      <td id=\"T_f5a33_row1_col3\" class=\"data row1 col3\" >40.626618</td>\n",
       "      <td id=\"T_f5a33_row1_col4\" class=\"data row1 col4\" >17.024754</td>\n",
       "      <td id=\"T_f5a33_row1_col5\" class=\"data row1 col5\" >44.990441</td>\n",
       "      <td id=\"T_f5a33_row1_col6\" class=\"data row1 col6\" >23.337688</td>\n",
       "      <td id=\"T_f5a33_row1_col7\" class=\"data row1 col7\" >23.890463</td>\n",
       "      <td id=\"T_f5a33_row1_col8\" class=\"data row1 col8\" >41.929774</td>\n",
       "      <td id=\"T_f5a33_row1_col9\" class=\"data row1 col9\" >48.345707</td>\n",
       "      <td id=\"T_f5a33_row1_col10\" class=\"data row1 col10\" >0.770110</td>\n",
       "      <td id=\"T_f5a33_row1_col11\" class=\"data row1 col11\" >1.842440</td>\n",
       "      <td id=\"T_f5a33_row1_col12\" class=\"data row1 col12\" >38.932495</td>\n",
       "      <td id=\"T_f5a33_row1_col13\" class=\"data row1 col13\" >36.737117</td>\n",
       "      <td id=\"T_f5a33_row1_col14\" class=\"data row1 col14\" >-0.912410</td>\n",
       "      <td id=\"T_f5a33_row1_col15\" class=\"data row1 col15\" >-0.740975</td>\n",
       "      <td id=\"T_f5a33_row1_col16\" class=\"data row1 col16\" >34.409654</td>\n",
       "      <td id=\"T_f5a33_row1_col17\" class=\"data row1 col17\" >33.854381</td>\n",
       "    </tr>\n",
       "    <tr>\n",
       "      <th id=\"T_f5a33_level0_row2\" class=\"row_heading level0 row2\" >Regions</th>\n",
       "      <td id=\"T_f5a33_row2_col0\" class=\"data row2 col0\" >0.000000</td>\n",
       "      <td id=\"T_f5a33_row2_col1\" class=\"data row2 col1\" >12.421302</td>\n",
       "      <td id=\"T_f5a33_row2_col2\" class=\"data row2 col2\" >14.706956</td>\n",
       "      <td id=\"T_f5a33_row2_col3\" class=\"data row2 col3\" >21.072981</td>\n",
       "      <td id=\"T_f5a33_row2_col4\" class=\"data row2 col4\" >16.879456</td>\n",
       "      <td id=\"T_f5a33_row2_col5\" class=\"data row2 col5\" >13.058881</td>\n",
       "      <td id=\"T_f5a33_row2_col6\" class=\"data row2 col6\" >12.530202</td>\n",
       "      <td id=\"T_f5a33_row2_col7\" class=\"data row2 col7\" >12.603748</td>\n",
       "      <td id=\"T_f5a33_row2_col8\" class=\"data row2 col8\" >15.590601</td>\n",
       "      <td id=\"T_f5a33_row2_col9\" class=\"data row2 col9\" >16.477243</td>\n",
       "      <td id=\"T_f5a33_row2_col10\" class=\"data row2 col10\" >8.657997</td>\n",
       "      <td id=\"T_f5a33_row2_col11\" class=\"data row2 col11\" >8.873477</td>\n",
       "      <td id=\"T_f5a33_row2_col12\" class=\"data row2 col12\" >15.121030</td>\n",
       "      <td id=\"T_f5a33_row2_col13\" class=\"data row2 col13\" >14.708536</td>\n",
       "      <td id=\"T_f5a33_row2_col14\" class=\"data row2 col14\" >8.088807</td>\n",
       "      <td id=\"T_f5a33_row2_col15\" class=\"data row2 col15\" >8.264066</td>\n",
       "      <td id=\"T_f5a33_row2_col16\" class=\"data row2 col16\" >13.372659</td>\n",
       "      <td id=\"T_f5a33_row2_col17\" class=\"data row2 col17\" >13.162238</td>\n",
       "    </tr>\n",
       "    <tr>\n",
       "      <th id=\"T_f5a33_level0_row3\" class=\"row_heading level0 row3\" >Overall</th>\n",
       "      <td id=\"T_f5a33_row3_col0\" class=\"data row3 col0\" >-165.095281</td>\n",
       "      <td id=\"T_f5a33_row3_col1\" class=\"data row3 col1\" >3.085456</td>\n",
       "      <td id=\"T_f5a33_row3_col2\" class=\"data row3 col2\" >-85.827512</td>\n",
       "      <td id=\"T_f5a33_row3_col3\" class=\"data row3 col3\" >3.473199</td>\n",
       "      <td id=\"T_f5a33_row3_col4\" class=\"data row3 col4\" >-39.983989</td>\n",
       "      <td id=\"T_f5a33_row3_col5\" class=\"data row3 col5\" >14.374362</td>\n",
       "      <td id=\"T_f5a33_row3_col6\" class=\"data row3 col6\" >-33.871639</td>\n",
       "      <td id=\"T_f5a33_row3_col7\" class=\"data row3 col7\" >-30.672318</td>\n",
       "      <td id=\"T_f5a33_row3_col8\" class=\"data row3 col8\" >15.873930</td>\n",
       "      <td id=\"T_f5a33_row3_col9\" class=\"data row3 col9\" >23.570646</td>\n",
       "      <td id=\"T_f5a33_row3_col10\" class=\"data row3 col10\" >-64.147730</td>\n",
       "      <td id=\"T_f5a33_row3_col11\" class=\"data row3 col11\" >-61.999347</td>\n",
       "      <td id=\"T_f5a33_row3_col12\" class=\"data row3 col12\" >5.812341</td>\n",
       "      <td id=\"T_f5a33_row3_col13\" class=\"data row3 col13\" >2.023119</td>\n",
       "      <td id=\"T_f5a33_row3_col14\" class=\"data row3 col14\" >-63.166218</td>\n",
       "      <td id=\"T_f5a33_row3_col15\" class=\"data row3 col15\" >-61.941064</td>\n",
       "      <td id=\"T_f5a33_row3_col16\" class=\"data row3 col16\" >-11.191335</td>\n",
       "      <td id=\"T_f5a33_row3_col17\" class=\"data row3 col17\" >-12.555407</td>\n",
       "    </tr>\n",
       "  </tbody>\n",
       "</table>\n"
      ],
      "text/plain": [
       "<pandas.io.formats.style.Styler at 0x12b1d1ac0>"
      ]
     },
     "execution_count": 23,
     "metadata": {},
     "output_type": "execute_result"
    }
   ],
   "source": [
    "percentages_tourism_arima ['MSE'].style.highlight_max(color = 'lightgreen', axis = 1)"
   ]
  },
  {
   "cell_type": "markdown",
   "metadata": {},
   "source": [
    "ETS"
   ]
  },
  {
   "cell_type": "code",
   "execution_count": 24,
   "metadata": {},
   "outputs": [
    {
     "data": {
      "text/html": [
       "<style type=\"text/css\">\n",
       "#T_5c8ae_row0_col5, #T_5c8ae_row1_col16, #T_5c8ae_row2_col12, #T_5c8ae_row3_col16 {\n",
       "  background-color: lightgreen;\n",
       "}\n",
       "</style>\n",
       "<table id=\"T_5c8ae_\">\n",
       "  <thead>\n",
       "    <tr>\n",
       "      <th class=\"blank level0\" >&nbsp;</th>\n",
       "      <th class=\"col_heading level0 col0\" >BU</th>\n",
       "      <th class=\"col_heading level0 col1\" >OLS</th>\n",
       "      <th class=\"col_heading level0 col2\" >WLS</th>\n",
       "      <th class=\"col_heading level0 col3\" >MinT(Sample)</th>\n",
       "      <th class=\"col_heading level0 col4\" >MinT(Shrink)</th>\n",
       "      <th class=\"col_heading level0 col5\" >ERM</th>\n",
       "      <th class=\"col_heading level0 col6\" >ML_CASE1</th>\n",
       "      <th class=\"col_heading level0 col7\" >ML_CASE1_MEAN</th>\n",
       "      <th class=\"col_heading level0 col8\" >ML_CASE1_Lambda1</th>\n",
       "      <th class=\"col_heading level0 col9\" >ML_CASE1_Lambda1_MEAN</th>\n",
       "      <th class=\"col_heading level0 col10\" >ML_CASE1_Lambda2</th>\n",
       "      <th class=\"col_heading level0 col11\" >ML_CASE1_Lambda2_MEAN</th>\n",
       "      <th class=\"col_heading level0 col12\" >ML_CASE2</th>\n",
       "      <th class=\"col_heading level0 col13\" >ML_CASE2_MEAN</th>\n",
       "      <th class=\"col_heading level0 col14\" >ML_CASE2_Lambda1</th>\n",
       "      <th class=\"col_heading level0 col15\" >ML_CASE2_Lambda1_MEAN</th>\n",
       "      <th class=\"col_heading level0 col16\" >ML_CASE2_Lambda2</th>\n",
       "      <th class=\"col_heading level0 col17\" >ML_CASE2_Lambda2_MEAN</th>\n",
       "    </tr>\n",
       "  </thead>\n",
       "  <tbody>\n",
       "    <tr>\n",
       "      <th id=\"T_5c8ae_level0_row0\" class=\"row_heading level0 row0\" >Australia</th>\n",
       "      <td id=\"T_5c8ae_row0_col0\" class=\"data row0 col0\" >-75.219439</td>\n",
       "      <td id=\"T_5c8ae_row0_col1\" class=\"data row0 col1\" >2.487777</td>\n",
       "      <td id=\"T_5c8ae_row0_col2\" class=\"data row0 col2\" >-29.676360</td>\n",
       "      <td id=\"T_5c8ae_row0_col3\" class=\"data row0 col3\" >7.617090</td>\n",
       "      <td id=\"T_5c8ae_row0_col4\" class=\"data row0 col4\" >-20.707002</td>\n",
       "      <td id=\"T_5c8ae_row0_col5\" class=\"data row0 col5\" >78.937392</td>\n",
       "      <td id=\"T_5c8ae_row0_col6\" class=\"data row0 col6\" >-9.462032</td>\n",
       "      <td id=\"T_5c8ae_row0_col7\" class=\"data row0 col7\" >0.476217</td>\n",
       "      <td id=\"T_5c8ae_row0_col8\" class=\"data row0 col8\" >-3.766515</td>\n",
       "      <td id=\"T_5c8ae_row0_col9\" class=\"data row0 col9\" >-20.941174</td>\n",
       "      <td id=\"T_5c8ae_row0_col10\" class=\"data row0 col10\" >51.523673</td>\n",
       "      <td id=\"T_5c8ae_row0_col11\" class=\"data row0 col11\" >51.365423</td>\n",
       "      <td id=\"T_5c8ae_row0_col12\" class=\"data row0 col12\" >49.407154</td>\n",
       "      <td id=\"T_5c8ae_row0_col13\" class=\"data row0 col13\" >47.613899</td>\n",
       "      <td id=\"T_5c8ae_row0_col14\" class=\"data row0 col14\" >7.513000</td>\n",
       "      <td id=\"T_5c8ae_row0_col15\" class=\"data row0 col15\" >35.669695</td>\n",
       "      <td id=\"T_5c8ae_row0_col16\" class=\"data row0 col16\" >52.196494</td>\n",
       "      <td id=\"T_5c8ae_row0_col17\" class=\"data row0 col17\" >50.077909</td>\n",
       "    </tr>\n",
       "    <tr>\n",
       "      <th id=\"T_5c8ae_level0_row1\" class=\"row_heading level0 row1\" >States</th>\n",
       "      <td id=\"T_5c8ae_row1_col0\" class=\"data row1 col0\" >-5.809304</td>\n",
       "      <td id=\"T_5c8ae_row1_col1\" class=\"data row1 col1\" >7.375898</td>\n",
       "      <td id=\"T_5c8ae_row1_col2\" class=\"data row1 col2\" >16.004130</td>\n",
       "      <td id=\"T_5c8ae_row1_col3\" class=\"data row1 col3\" >42.280236</td>\n",
       "      <td id=\"T_5c8ae_row1_col4\" class=\"data row1 col4\" >21.730145</td>\n",
       "      <td id=\"T_5c8ae_row1_col5\" class=\"data row1 col5\" >27.476677</td>\n",
       "      <td id=\"T_5c8ae_row1_col6\" class=\"data row1 col6\" >30.805816</td>\n",
       "      <td id=\"T_5c8ae_row1_col7\" class=\"data row1 col7\" >35.913708</td>\n",
       "      <td id=\"T_5c8ae_row1_col8\" class=\"data row1 col8\" >27.987033</td>\n",
       "      <td id=\"T_5c8ae_row1_col9\" class=\"data row1 col9\" >19.662224</td>\n",
       "      <td id=\"T_5c8ae_row1_col10\" class=\"data row1 col10\" >60.154336</td>\n",
       "      <td id=\"T_5c8ae_row1_col11\" class=\"data row1 col11\" >60.003404</td>\n",
       "      <td id=\"T_5c8ae_row1_col12\" class=\"data row1 col12\" >59.693884</td>\n",
       "      <td id=\"T_5c8ae_row1_col13\" class=\"data row1 col13\" >58.383952</td>\n",
       "      <td id=\"T_5c8ae_row1_col14\" class=\"data row1 col14\" >37.951200</td>\n",
       "      <td id=\"T_5c8ae_row1_col15\" class=\"data row1 col15\" >52.979971</td>\n",
       "      <td id=\"T_5c8ae_row1_col16\" class=\"data row1 col16\" >61.142022</td>\n",
       "      <td id=\"T_5c8ae_row1_col17\" class=\"data row1 col17\" >59.717119</td>\n",
       "    </tr>\n",
       "    <tr>\n",
       "      <th id=\"T_5c8ae_level0_row2\" class=\"row_heading level0 row2\" >Regions</th>\n",
       "      <td id=\"T_5c8ae_row2_col0\" class=\"data row2 col0\" >0.000000</td>\n",
       "      <td id=\"T_5c8ae_row2_col1\" class=\"data row2 col1\" >1.256380</td>\n",
       "      <td id=\"T_5c8ae_row2_col2\" class=\"data row2 col2\" >9.847346</td>\n",
       "      <td id=\"T_5c8ae_row2_col3\" class=\"data row2 col3\" >-0.727899</td>\n",
       "      <td id=\"T_5c8ae_row2_col4\" class=\"data row2 col4\" >8.877108</td>\n",
       "      <td id=\"T_5c8ae_row2_col5\" class=\"data row2 col5\" >-85.805523</td>\n",
       "      <td id=\"T_5c8ae_row2_col6\" class=\"data row2 col6\" >7.537024</td>\n",
       "      <td id=\"T_5c8ae_row2_col7\" class=\"data row2 col7\" >8.515361</td>\n",
       "      <td id=\"T_5c8ae_row2_col8\" class=\"data row2 col8\" >5.922127</td>\n",
       "      <td id=\"T_5c8ae_row2_col9\" class=\"data row2 col9\" >4.503460</td>\n",
       "      <td id=\"T_5c8ae_row2_col10\" class=\"data row2 col10\" >12.183010</td>\n",
       "      <td id=\"T_5c8ae_row2_col11\" class=\"data row2 col11\" >12.005577</td>\n",
       "      <td id=\"T_5c8ae_row2_col12\" class=\"data row2 col12\" >12.910993</td>\n",
       "      <td id=\"T_5c8ae_row2_col13\" class=\"data row2 col13\" >12.562378</td>\n",
       "      <td id=\"T_5c8ae_row2_col14\" class=\"data row2 col14\" >7.881863</td>\n",
       "      <td id=\"T_5c8ae_row2_col15\" class=\"data row2 col15\" >10.713450</td>\n",
       "      <td id=\"T_5c8ae_row2_col16\" class=\"data row2 col16\" >12.164591</td>\n",
       "      <td id=\"T_5c8ae_row2_col17\" class=\"data row2 col17\" >11.966809</td>\n",
       "    </tr>\n",
       "    <tr>\n",
       "      <th id=\"T_5c8ae_level0_row3\" class=\"row_heading level0 row3\" >Overall</th>\n",
       "      <td id=\"T_5c8ae_row3_col0\" class=\"data row3 col0\" >-50.104556</td>\n",
       "      <td id=\"T_5c8ae_row3_col1\" class=\"data row3 col1\" >3.602071</td>\n",
       "      <td id=\"T_5c8ae_row3_col2\" class=\"data row3 col2\" >-14.147982</td>\n",
       "      <td id=\"T_5c8ae_row3_col3\" class=\"data row3 col3\" >15.557691</td>\n",
       "      <td id=\"T_5c8ae_row3_col4\" class=\"data row3 col4\" >-6.996159</td>\n",
       "      <td id=\"T_5c8ae_row3_col5\" class=\"data row3 col5\" >49.394179</td>\n",
       "      <td id=\"T_5c8ae_row3_col6\" class=\"data row3 col6\" >2.438070</td>\n",
       "      <td id=\"T_5c8ae_row3_col7\" class=\"data row3 col7\" >10.255136</td>\n",
       "      <td id=\"T_5c8ae_row3_col8\" class=\"data row3 col8\" >5.244934</td>\n",
       "      <td id=\"T_5c8ae_row3_col9\" class=\"data row3 col9\" >-8.109573</td>\n",
       "      <td id=\"T_5c8ae_row3_col10\" class=\"data row3 col10\" >49.765769</td>\n",
       "      <td id=\"T_5c8ae_row3_col11\" class=\"data row3 col11\" >49.607450</td>\n",
       "      <td id=\"T_5c8ae_row3_col12\" class=\"data row3 col12\" >48.353697</td>\n",
       "      <td id=\"T_5c8ae_row3_col13\" class=\"data row3 col13\" >46.827627</td>\n",
       "      <td id=\"T_5c8ae_row3_col14\" class=\"data row3 col14\" >15.257227</td>\n",
       "      <td id=\"T_5c8ae_row3_col15\" class=\"data row3 col15\" >37.551364</td>\n",
       "      <td id=\"T_5c8ae_row3_col16\" class=\"data row3 col16\" >50.449029</td>\n",
       "      <td id=\"T_5c8ae_row3_col17\" class=\"data row3 col17\" >48.698621</td>\n",
       "    </tr>\n",
       "  </tbody>\n",
       "</table>\n"
      ],
      "text/plain": [
       "<pandas.io.formats.style.Styler at 0x12b1e09d0>"
      ]
     },
     "execution_count": 24,
     "metadata": {},
     "output_type": "execute_result"
    }
   ],
   "source": [
    "model_ets ='ets'\n",
    "base_errors_tourism_ets, percentages_tourism_ets = get_results(data_tourism, model_ets, LEVELS_tourism, FC_TYPE, column_order_1,\n",
    "                                                              True)\n",
    "percentages_tourism_ets['MSE'].style.highlight_max(color = 'lightgreen', axis = 1)"
   ]
  },
  {
   "cell_type": "markdown",
   "metadata": {},
   "source": [
    "## Wikipedia"
   ]
  },
  {
   "cell_type": "code",
   "execution_count": 25,
   "metadata": {},
   "outputs": [],
   "source": [
    "LEVELS_wiki = ['Total', 'Language', 'Access', 'Agent', 'Article']\n",
    "\n",
    "data_wiki = 'wikipedia'\n",
    "FC_TYPE = ['base', 'bottomup', 'ols', 'wls', 'mintshrink', 'erm',\n",
    "               'case1', 'case1_mean', 'case1_lambda1', 'case1_lambda1_mean', 'case1_lambda2', 'case1_lambda2_mean',\n",
    "               'case2', 'case2_mean', 'case2_lambda1', 'case2_lambda1_mean', 'case2_lambda2', 'case2_lambda2_mean']\n",
    "column_order_1 = ['BU', 'OLS', 'WLS', 'MinT(Shrink)', 'ERM', 'ML_CASE1', 'ML_CASE1_MEAN',\n",
    "                 'ML_CASE1_Lambda1','ML_CASE1_Lambda1_MEAN','ML_CASE1_Lambda2','ML_CASE1_Lambda2_MEAN',\n",
    "                  'ML_CASE2','ML_CASE2_MEAN','ML_CASE2_Lambda1','ML_CASE2_Lambda1_MEAN',\n",
    "                  'ML_CASE2_Lambda2', 'ML_CASE2_Lambda2_MEAN']\n",
    "\n",
    "model_arima ='arima'\n",
    "base_errors_wiki_arima, percentages_wiki_arima = get_results(data_wiki, model_arima, LEVELS_wiki, FC_TYPE, column_order_1)\n",
    "\n"
   ]
  },
  {
   "cell_type": "markdown",
   "metadata": {},
   "source": [
    "ARIMA"
   ]
  },
  {
   "cell_type": "code",
   "execution_count": 26,
   "metadata": {},
   "outputs": [
    {
     "data": {
      "text/html": [
       "<style type=\"text/css\">\n",
       "#T_a0e1d_row0_col11, #T_a0e1d_row1_col12, #T_a0e1d_row2_col12, #T_a0e1d_row3_col1, #T_a0e1d_row4_col0, #T_a0e1d_row5_col1 {\n",
       "  background-color: lightgreen;\n",
       "}\n",
       "</style>\n",
       "<table id=\"T_a0e1d_\">\n",
       "  <thead>\n",
       "    <tr>\n",
       "      <th class=\"blank level0\" >&nbsp;</th>\n",
       "      <th class=\"col_heading level0 col0\" >BU</th>\n",
       "      <th class=\"col_heading level0 col1\" >OLS</th>\n",
       "      <th class=\"col_heading level0 col2\" >WLS</th>\n",
       "      <th class=\"col_heading level0 col3\" >MinT(Shrink)</th>\n",
       "      <th class=\"col_heading level0 col4\" >ERM</th>\n",
       "      <th class=\"col_heading level0 col5\" >ML_CASE1</th>\n",
       "      <th class=\"col_heading level0 col6\" >ML_CASE1_MEAN</th>\n",
       "      <th class=\"col_heading level0 col7\" >ML_CASE1_Lambda1</th>\n",
       "      <th class=\"col_heading level0 col8\" >ML_CASE1_Lambda1_MEAN</th>\n",
       "      <th class=\"col_heading level0 col9\" >ML_CASE1_Lambda2</th>\n",
       "      <th class=\"col_heading level0 col10\" >ML_CASE1_Lambda2_MEAN</th>\n",
       "      <th class=\"col_heading level0 col11\" >ML_CASE2</th>\n",
       "      <th class=\"col_heading level0 col12\" >ML_CASE2_MEAN</th>\n",
       "      <th class=\"col_heading level0 col13\" >ML_CASE2_Lambda1</th>\n",
       "      <th class=\"col_heading level0 col14\" >ML_CASE2_Lambda1_MEAN</th>\n",
       "      <th class=\"col_heading level0 col15\" >ML_CASE2_Lambda2</th>\n",
       "      <th class=\"col_heading level0 col16\" >ML_CASE2_Lambda2_MEAN</th>\n",
       "    </tr>\n",
       "  </thead>\n",
       "  <tbody>\n",
       "    <tr>\n",
       "      <th id=\"T_a0e1d_level0_row0\" class=\"row_heading level0 row0\" >Total</th>\n",
       "      <td id=\"T_a0e1d_row0_col0\" class=\"data row0 col0\" >30.844347</td>\n",
       "      <td id=\"T_a0e1d_row0_col1\" class=\"data row0 col1\" >5.181596</td>\n",
       "      <td id=\"T_a0e1d_row0_col2\" class=\"data row0 col2\" >55.856905</td>\n",
       "      <td id=\"T_a0e1d_row0_col3\" class=\"data row0 col3\" >-1015.245576</td>\n",
       "      <td id=\"T_a0e1d_row0_col4\" class=\"data row0 col4\" >-58.808207</td>\n",
       "      <td id=\"T_a0e1d_row0_col5\" class=\"data row0 col5\" >49.211134</td>\n",
       "      <td id=\"T_a0e1d_row0_col6\" class=\"data row0 col6\" >48.941658</td>\n",
       "      <td id=\"T_a0e1d_row0_col7\" class=\"data row0 col7\" >43.753214</td>\n",
       "      <td id=\"T_a0e1d_row0_col8\" class=\"data row0 col8\" >48.020864</td>\n",
       "      <td id=\"T_a0e1d_row0_col9\" class=\"data row0 col9\" >59.601223</td>\n",
       "      <td id=\"T_a0e1d_row0_col10\" class=\"data row0 col10\" >59.502469</td>\n",
       "      <td id=\"T_a0e1d_row0_col11\" class=\"data row0 col11\" >69.655092</td>\n",
       "      <td id=\"T_a0e1d_row0_col12\" class=\"data row0 col12\" >69.561335</td>\n",
       "      <td id=\"T_a0e1d_row0_col13\" class=\"data row0 col13\" >45.011288</td>\n",
       "      <td id=\"T_a0e1d_row0_col14\" class=\"data row0 col14\" >49.326788</td>\n",
       "      <td id=\"T_a0e1d_row0_col15\" class=\"data row0 col15\" >51.241818</td>\n",
       "      <td id=\"T_a0e1d_row0_col16\" class=\"data row0 col16\" >56.218813</td>\n",
       "    </tr>\n",
       "    <tr>\n",
       "      <th id=\"T_a0e1d_level0_row1\" class=\"row_heading level0 row1\" >Language</th>\n",
       "      <td id=\"T_a0e1d_row1_col0\" class=\"data row1 col0\" >25.433718</td>\n",
       "      <td id=\"T_a0e1d_row1_col1\" class=\"data row1 col1\" >-4.844533</td>\n",
       "      <td id=\"T_a0e1d_row1_col2\" class=\"data row1 col2\" >37.651617</td>\n",
       "      <td id=\"T_a0e1d_row1_col3\" class=\"data row1 col3\" >-787.849116</td>\n",
       "      <td id=\"T_a0e1d_row1_col4\" class=\"data row1 col4\" >-86.594101</td>\n",
       "      <td id=\"T_a0e1d_row1_col5\" class=\"data row1 col5\" >39.837009</td>\n",
       "      <td id=\"T_a0e1d_row1_col6\" class=\"data row1 col6\" >39.606787</td>\n",
       "      <td id=\"T_a0e1d_row1_col7\" class=\"data row1 col7\" >36.625417</td>\n",
       "      <td id=\"T_a0e1d_row1_col8\" class=\"data row1 col8\" >40.418944</td>\n",
       "      <td id=\"T_a0e1d_row1_col9\" class=\"data row1 col9\" >47.339274</td>\n",
       "      <td id=\"T_a0e1d_row1_col10\" class=\"data row1 col10\" >47.369780</td>\n",
       "      <td id=\"T_a0e1d_row1_col11\" class=\"data row1 col11\" >60.004908</td>\n",
       "      <td id=\"T_a0e1d_row1_col12\" class=\"data row1 col12\" >60.135691</td>\n",
       "      <td id=\"T_a0e1d_row1_col13\" class=\"data row1 col13\" >37.989515</td>\n",
       "      <td id=\"T_a0e1d_row1_col14\" class=\"data row1 col14\" >41.839146</td>\n",
       "      <td id=\"T_a0e1d_row1_col15\" class=\"data row1 col15\" >41.669590</td>\n",
       "      <td id=\"T_a0e1d_row1_col16\" class=\"data row1 col16\" >45.809496</td>\n",
       "    </tr>\n",
       "    <tr>\n",
       "      <th id=\"T_a0e1d_level0_row2\" class=\"row_heading level0 row2\" >Access</th>\n",
       "      <td id=\"T_a0e1d_row2_col0\" class=\"data row2 col0\" >32.080825</td>\n",
       "      <td id=\"T_a0e1d_row2_col1\" class=\"data row2 col1\" >-1.230499</td>\n",
       "      <td id=\"T_a0e1d_row2_col2\" class=\"data row2 col2\" >-129.978518</td>\n",
       "      <td id=\"T_a0e1d_row2_col3\" class=\"data row2 col3\" >-606.638972</td>\n",
       "      <td id=\"T_a0e1d_row2_col4\" class=\"data row2 col4\" >-93.439680</td>\n",
       "      <td id=\"T_a0e1d_row2_col5\" class=\"data row2 col5\" >42.724063</td>\n",
       "      <td id=\"T_a0e1d_row2_col6\" class=\"data row2 col6\" >42.548695</td>\n",
       "      <td id=\"T_a0e1d_row2_col7\" class=\"data row2 col7\" >40.345297</td>\n",
       "      <td id=\"T_a0e1d_row2_col8\" class=\"data row2 col8\" >43.168231</td>\n",
       "      <td id=\"T_a0e1d_row2_col9\" class=\"data row2 col9\" >46.914236</td>\n",
       "      <td id=\"T_a0e1d_row2_col10\" class=\"data row2 col10\" >46.910472</td>\n",
       "      <td id=\"T_a0e1d_row2_col11\" class=\"data row2 col11\" >58.344131</td>\n",
       "      <td id=\"T_a0e1d_row2_col12\" class=\"data row2 col12\" >58.382167</td>\n",
       "      <td id=\"T_a0e1d_row2_col13\" class=\"data row2 col13\" >41.369591</td>\n",
       "      <td id=\"T_a0e1d_row2_col14\" class=\"data row2 col14\" >44.225420</td>\n",
       "      <td id=\"T_a0e1d_row2_col15\" class=\"data row2 col15\" >44.452043</td>\n",
       "      <td id=\"T_a0e1d_row2_col16\" class=\"data row2 col16\" >47.422728</td>\n",
       "    </tr>\n",
       "    <tr>\n",
       "      <th id=\"T_a0e1d_level0_row3\" class=\"row_heading level0 row3\" >Agent</th>\n",
       "      <td id=\"T_a0e1d_row3_col0\" class=\"data row3 col0\" >-896.607505</td>\n",
       "      <td id=\"T_a0e1d_row3_col1\" class=\"data row3 col1\" >1.062973</td>\n",
       "      <td id=\"T_a0e1d_row3_col2\" class=\"data row3 col2\" >-155.517605</td>\n",
       "      <td id=\"T_a0e1d_row3_col3\" class=\"data row3 col3\" >-870.377117</td>\n",
       "      <td id=\"T_a0e1d_row3_col4\" class=\"data row3 col4\" >-467.556773</td>\n",
       "      <td id=\"T_a0e1d_row3_col5\" class=\"data row3 col5\" >-4491.012983</td>\n",
       "      <td id=\"T_a0e1d_row3_col6\" class=\"data row3 col6\" >-4494.224752</td>\n",
       "      <td id=\"T_a0e1d_row3_col7\" class=\"data row3 col7\" >-4496.642105</td>\n",
       "      <td id=\"T_a0e1d_row3_col8\" class=\"data row3 col8\" >-4456.472731</td>\n",
       "      <td id=\"T_a0e1d_row3_col9\" class=\"data row3 col9\" >-4443.350293</td>\n",
       "      <td id=\"T_a0e1d_row3_col10\" class=\"data row3 col10\" >-4443.955338</td>\n",
       "      <td id=\"T_a0e1d_row3_col11\" class=\"data row3 col11\" >-4017.260697</td>\n",
       "      <td id=\"T_a0e1d_row3_col12\" class=\"data row3 col12\" >-4012.599400</td>\n",
       "      <td id=\"T_a0e1d_row3_col13\" class=\"data row3 col13\" >-4474.997103</td>\n",
       "      <td id=\"T_a0e1d_row3_col14\" class=\"data row3 col14\" >-4427.626112</td>\n",
       "      <td id=\"T_a0e1d_row3_col15\" class=\"data row3 col15\" >-4432.211651</td>\n",
       "      <td id=\"T_a0e1d_row3_col16\" class=\"data row3 col16\" >-4368.476816</td>\n",
       "    </tr>\n",
       "    <tr>\n",
       "      <th id=\"T_a0e1d_level0_row4\" class=\"row_heading level0 row4\" >Article</th>\n",
       "      <td id=\"T_a0e1d_row4_col0\" class=\"data row4 col0\" >0.000000</td>\n",
       "      <td id=\"T_a0e1d_row4_col1\" class=\"data row4 col1\" >-23.865074</td>\n",
       "      <td id=\"T_a0e1d_row4_col2\" class=\"data row4 col2\" >-633.396724</td>\n",
       "      <td id=\"T_a0e1d_row4_col3\" class=\"data row4 col3\" >-523.974750</td>\n",
       "      <td id=\"T_a0e1d_row4_col4\" class=\"data row4 col4\" >-545.716574</td>\n",
       "      <td id=\"T_a0e1d_row4_col5\" class=\"data row4 col5\" >-1490.464638</td>\n",
       "      <td id=\"T_a0e1d_row4_col6\" class=\"data row4 col6\" >-1490.473962</td>\n",
       "      <td id=\"T_a0e1d_row4_col7\" class=\"data row4 col7\" >-1490.504926</td>\n",
       "      <td id=\"T_a0e1d_row4_col8\" class=\"data row4 col8\" >-1490.477909</td>\n",
       "      <td id=\"T_a0e1d_row4_col9\" class=\"data row4 col9\" >-1490.450610</td>\n",
       "      <td id=\"T_a0e1d_row4_col10\" class=\"data row4 col10\" >-1490.454954</td>\n",
       "      <td id=\"T_a0e1d_row4_col11\" class=\"data row4 col11\" >-1490.385049</td>\n",
       "      <td id=\"T_a0e1d_row4_col12\" class=\"data row4 col12\" >-1490.348108</td>\n",
       "      <td id=\"T_a0e1d_row4_col13\" class=\"data row4 col13\" >-1490.489342</td>\n",
       "      <td id=\"T_a0e1d_row4_col14\" class=\"data row4 col14\" >-1490.467567</td>\n",
       "      <td id=\"T_a0e1d_row4_col15\" class=\"data row4 col15\" >-1490.464095</td>\n",
       "      <td id=\"T_a0e1d_row4_col16\" class=\"data row4 col16\" >-1490.440613</td>\n",
       "    </tr>\n",
       "    <tr>\n",
       "      <th id=\"T_a0e1d_level0_row5\" class=\"row_heading level0 row5\" >Overall</th>\n",
       "      <td id=\"T_a0e1d_row5_col0\" class=\"data row5 col0\" >-109.520179</td>\n",
       "      <td id=\"T_a0e1d_row5_col1\" class=\"data row5 col1\" >-1.531834</td>\n",
       "      <td id=\"T_a0e1d_row5_col2\" class=\"data row5 col2\" >-73.321581</td>\n",
       "      <td id=\"T_a0e1d_row5_col3\" class=\"data row5 col3\" >-827.643424</td>\n",
       "      <td id=\"T_a0e1d_row5_col4\" class=\"data row5 col4\" >-175.942592</td>\n",
       "      <td id=\"T_a0e1d_row5_col5\" class=\"data row5 col5\" >-763.386431</td>\n",
       "      <td id=\"T_a0e1d_row5_col6\" class=\"data row5 col6\" >-764.040108</td>\n",
       "      <td id=\"T_a0e1d_row5_col7\" class=\"data row5 col7\" >-767.331960</td>\n",
       "      <td id=\"T_a0e1d_row5_col8\" class=\"data row5 col8\" >-758.521637</td>\n",
       "      <td id=\"T_a0e1d_row5_col9\" class=\"data row5 col9\" >-750.170135</td>\n",
       "      <td id=\"T_a0e1d_row5_col10\" class=\"data row5 col10\" >-750.288324</td>\n",
       "      <td id=\"T_a0e1d_row5_col11\" class=\"data row5 col11\" >-678.978224</td>\n",
       "      <td id=\"T_a0e1d_row5_col12\" class=\"data row5 col12\" >-678.285297</td>\n",
       "      <td id=\"T_a0e1d_row5_col13\" class=\"data row5 col13\" >-763.201697</td>\n",
       "      <td id=\"T_a0e1d_row5_col14\" class=\"data row5 col14\" >-753.296424</td>\n",
       "      <td id=\"T_a0e1d_row5_col15\" class=\"data row5 col15\" >-753.286906</td>\n",
       "      <td id=\"T_a0e1d_row5_col16\" class=\"data row5 col16\" >-740.648689</td>\n",
       "    </tr>\n",
       "  </tbody>\n",
       "</table>\n"
      ],
      "text/plain": [
       "<pandas.io.formats.style.Styler at 0x12b059e80>"
      ]
     },
     "execution_count": 26,
     "metadata": {},
     "output_type": "execute_result"
    }
   ],
   "source": [
    "percentages_wiki_arima ['MSE'].style.highlight_max(color = 'lightgreen', axis = 1)"
   ]
  },
  {
   "cell_type": "markdown",
   "metadata": {},
   "source": [
    "ETS"
   ]
  },
  {
   "cell_type": "code",
   "execution_count": 27,
   "metadata": {},
   "outputs": [
    {
     "data": {
      "text/html": [
       "<style type=\"text/css\">\n",
       "#T_8a229_row0_col13, #T_8a229_row1_col16, #T_8a229_row2_col13, #T_8a229_row3_col1, #T_8a229_row4_col0, #T_8a229_row5_col1 {\n",
       "  background-color: lightgreen;\n",
       "}\n",
       "</style>\n",
       "<table id=\"T_8a229_\">\n",
       "  <thead>\n",
       "    <tr>\n",
       "      <th class=\"blank level0\" >&nbsp;</th>\n",
       "      <th class=\"col_heading level0 col0\" >BU</th>\n",
       "      <th class=\"col_heading level0 col1\" >OLS</th>\n",
       "      <th class=\"col_heading level0 col2\" >WLS</th>\n",
       "      <th class=\"col_heading level0 col3\" >MinT(Shrink)</th>\n",
       "      <th class=\"col_heading level0 col4\" >ERM</th>\n",
       "      <th class=\"col_heading level0 col5\" >ML_CASE1</th>\n",
       "      <th class=\"col_heading level0 col6\" >ML_CASE1_MEAN</th>\n",
       "      <th class=\"col_heading level0 col7\" >ML_CASE1_Lambda1</th>\n",
       "      <th class=\"col_heading level0 col8\" >ML_CASE1_Lambda1_MEAN</th>\n",
       "      <th class=\"col_heading level0 col9\" >ML_CASE1_Lambda2</th>\n",
       "      <th class=\"col_heading level0 col10\" >ML_CASE1_Lambda2_MEAN</th>\n",
       "      <th class=\"col_heading level0 col11\" >ML_CASE2</th>\n",
       "      <th class=\"col_heading level0 col12\" >ML_CASE2_MEAN</th>\n",
       "      <th class=\"col_heading level0 col13\" >ML_CASE2_Lambda1</th>\n",
       "      <th class=\"col_heading level0 col14\" >ML_CASE2_Lambda1_MEAN</th>\n",
       "      <th class=\"col_heading level0 col15\" >ML_CASE2_Lambda2</th>\n",
       "      <th class=\"col_heading level0 col16\" >ML_CASE2_Lambda2_MEAN</th>\n",
       "    </tr>\n",
       "  </thead>\n",
       "  <tbody>\n",
       "    <tr>\n",
       "      <th id=\"T_8a229_level0_row0\" class=\"row_heading level0 row0\" >Total</th>\n",
       "      <td id=\"T_8a229_row0_col0\" class=\"data row0 col0\" >25.519796</td>\n",
       "      <td id=\"T_8a229_row0_col1\" class=\"data row0 col1\" >5.902553</td>\n",
       "      <td id=\"T_8a229_row0_col2\" class=\"data row0 col2\" >45.529253</td>\n",
       "      <td id=\"T_8a229_row0_col3\" class=\"data row0 col3\" >-918.177460</td>\n",
       "      <td id=\"T_8a229_row0_col4\" class=\"data row0 col4\" >-195.725711</td>\n",
       "      <td id=\"T_8a229_row0_col5\" class=\"data row0 col5\" >36.030493</td>\n",
       "      <td id=\"T_8a229_row0_col6\" class=\"data row0 col6\" >36.222535</td>\n",
       "      <td id=\"T_8a229_row0_col7\" class=\"data row0 col7\" >26.557528</td>\n",
       "      <td id=\"T_8a229_row0_col8\" class=\"data row0 col8\" >27.786007</td>\n",
       "      <td id=\"T_8a229_row0_col9\" class=\"data row0 col9\" >28.717194</td>\n",
       "      <td id=\"T_8a229_row0_col10\" class=\"data row0 col10\" >28.812484</td>\n",
       "      <td id=\"T_8a229_row0_col11\" class=\"data row0 col11\" >44.701603</td>\n",
       "      <td id=\"T_8a229_row0_col12\" class=\"data row0 col12\" >45.078878</td>\n",
       "      <td id=\"T_8a229_row0_col13\" class=\"data row0 col13\" >52.585191</td>\n",
       "      <td id=\"T_8a229_row0_col14\" class=\"data row0 col14\" >49.908474</td>\n",
       "      <td id=\"T_8a229_row0_col15\" class=\"data row0 col15\" >51.316912</td>\n",
       "      <td id=\"T_8a229_row0_col16\" class=\"data row0 col16\" >52.128466</td>\n",
       "    </tr>\n",
       "    <tr>\n",
       "      <th id=\"T_8a229_level0_row1\" class=\"row_heading level0 row1\" >Language</th>\n",
       "      <td id=\"T_8a229_row1_col0\" class=\"data row1 col0\" >24.042062</td>\n",
       "      <td id=\"T_8a229_row1_col1\" class=\"data row1 col1\" >4.836913</td>\n",
       "      <td id=\"T_8a229_row1_col2\" class=\"data row1 col2\" >34.923472</td>\n",
       "      <td id=\"T_8a229_row1_col3\" class=\"data row1 col3\" >-760.945135</td>\n",
       "      <td id=\"T_8a229_row1_col4\" class=\"data row1 col4\" >-172.020681</td>\n",
       "      <td id=\"T_8a229_row1_col5\" class=\"data row1 col5\" >30.319137</td>\n",
       "      <td id=\"T_8a229_row1_col6\" class=\"data row1 col6\" >30.449109</td>\n",
       "      <td id=\"T_8a229_row1_col7\" class=\"data row1 col7\" >24.674203</td>\n",
       "      <td id=\"T_8a229_row1_col8\" class=\"data row1 col8\" >25.422918</td>\n",
       "      <td id=\"T_8a229_row1_col9\" class=\"data row1 col9\" >26.066765</td>\n",
       "      <td id=\"T_8a229_row1_col10\" class=\"data row1 col10\" >26.112637</td>\n",
       "      <td id=\"T_8a229_row1_col11\" class=\"data row1 col11\" >36.076646</td>\n",
       "      <td id=\"T_8a229_row1_col12\" class=\"data row1 col12\" >36.287792</td>\n",
       "      <td id=\"T_8a229_row1_col13\" class=\"data row1 col13\" >39.663192</td>\n",
       "      <td id=\"T_8a229_row1_col14\" class=\"data row1 col14\" >37.609829</td>\n",
       "      <td id=\"T_8a229_row1_col15\" class=\"data row1 col15\" >40.273182</td>\n",
       "      <td id=\"T_8a229_row1_col16\" class=\"data row1 col16\" >40.825614</td>\n",
       "    </tr>\n",
       "    <tr>\n",
       "      <th id=\"T_8a229_level0_row2\" class=\"row_heading level0 row2\" >Access</th>\n",
       "      <td id=\"T_8a229_row2_col0\" class=\"data row2 col0\" >-19.433570</td>\n",
       "      <td id=\"T_8a229_row2_col1\" class=\"data row2 col1\" >-16.747319</td>\n",
       "      <td id=\"T_8a229_row2_col2\" class=\"data row2 col2\" >-204.655993</td>\n",
       "      <td id=\"T_8a229_row2_col3\" class=\"data row2 col3\" >-773.003755</td>\n",
       "      <td id=\"T_8a229_row2_col4\" class=\"data row2 col4\" >-2265.617677</td>\n",
       "      <td id=\"T_8a229_row2_col5\" class=\"data row2 col5\" >-14.105532</td>\n",
       "      <td id=\"T_8a229_row2_col6\" class=\"data row2 col6\" >-13.983647</td>\n",
       "      <td id=\"T_8a229_row2_col7\" class=\"data row2 col7\" >-18.898840</td>\n",
       "      <td id=\"T_8a229_row2_col8\" class=\"data row2 col8\" >-18.278909</td>\n",
       "      <td id=\"T_8a229_row2_col9\" class=\"data row2 col9\" >-17.439580</td>\n",
       "      <td id=\"T_8a229_row2_col10\" class=\"data row2 col10\" >-17.385724</td>\n",
       "      <td id=\"T_8a229_row2_col11\" class=\"data row2 col11\" >-8.667327</td>\n",
       "      <td id=\"T_8a229_row2_col12\" class=\"data row2 col12\" >-8.503084</td>\n",
       "      <td id=\"T_8a229_row2_col13\" class=\"data row2 col13\" >-1.083176</td>\n",
       "      <td id=\"T_8a229_row2_col14\" class=\"data row2 col14\" >-2.483462</td>\n",
       "      <td id=\"T_8a229_row2_col15\" class=\"data row2 col15\" >-4.924566</td>\n",
       "      <td id=\"T_8a229_row2_col16\" class=\"data row2 col16\" >-4.277183</td>\n",
       "    </tr>\n",
       "    <tr>\n",
       "      <th id=\"T_8a229_level0_row3\" class=\"row_heading level0 row3\" >Agent</th>\n",
       "      <td id=\"T_8a229_row3_col0\" class=\"data row3 col0\" >-944.111416</td>\n",
       "      <td id=\"T_8a229_row3_col1\" class=\"data row3 col1\" >-0.320377</td>\n",
       "      <td id=\"T_8a229_row3_col2\" class=\"data row3 col2\" >-108.777567</td>\n",
       "      <td id=\"T_8a229_row3_col3\" class=\"data row3 col3\" >-548.252168</td>\n",
       "      <td id=\"T_8a229_row3_col4\" class=\"data row3 col4\" >-1328.311923</td>\n",
       "      <td id=\"T_8a229_row3_col5\" class=\"data row3 col5\" >-4490.745352</td>\n",
       "      <td id=\"T_8a229_row3_col6\" class=\"data row3 col6\" >-4489.362125</td>\n",
       "      <td id=\"T_8a229_row3_col7\" class=\"data row3 col7\" >-4568.463024</td>\n",
       "      <td id=\"T_8a229_row3_col8\" class=\"data row3 col8\" >-4559.574144</td>\n",
       "      <td id=\"T_8a229_row3_col9\" class=\"data row3 col9\" >-4549.178649</td>\n",
       "      <td id=\"T_8a229_row3_col10\" class=\"data row3 col10\" >-4548.060118</td>\n",
       "      <td id=\"T_8a229_row3_col11\" class=\"data row3 col11\" >-4411.041402</td>\n",
       "      <td id=\"T_8a229_row3_col12\" class=\"data row3 col12\" >-4407.607438</td>\n",
       "      <td id=\"T_8a229_row3_col13\" class=\"data row3 col13\" >-3861.082993</td>\n",
       "      <td id=\"T_8a229_row3_col14\" class=\"data row3 col14\" >-3844.542966</td>\n",
       "      <td id=\"T_8a229_row3_col15\" class=\"data row3 col15\" >-4305.942031</td>\n",
       "      <td id=\"T_8a229_row3_col16\" class=\"data row3 col16\" >-4297.456445</td>\n",
       "    </tr>\n",
       "    <tr>\n",
       "      <th id=\"T_8a229_level0_row4\" class=\"row_heading level0 row4\" >Article</th>\n",
       "      <td id=\"T_8a229_row4_col0\" class=\"data row4 col0\" >0.000000</td>\n",
       "      <td id=\"T_8a229_row4_col1\" class=\"data row4 col1\" >-26.225274</td>\n",
       "      <td id=\"T_8a229_row4_col2\" class=\"data row4 col2\" >-825.784926</td>\n",
       "      <td id=\"T_8a229_row4_col3\" class=\"data row4 col3\" >-530.736817</td>\n",
       "      <td id=\"T_8a229_row4_col4\" class=\"data row4 col4\" >-1485.045776</td>\n",
       "      <td id=\"T_8a229_row4_col5\" class=\"data row4 col5\" >-1635.668146</td>\n",
       "      <td id=\"T_8a229_row4_col6\" class=\"data row4 col6\" >-1635.658758</td>\n",
       "      <td id=\"T_8a229_row4_col7\" class=\"data row4 col7\" >-1635.713835</td>\n",
       "      <td id=\"T_8a229_row4_col8\" class=\"data row4 col8\" >-1635.708495</td>\n",
       "      <td id=\"T_8a229_row4_col9\" class=\"data row4 col9\" >-1635.708506</td>\n",
       "      <td id=\"T_8a229_row4_col10\" class=\"data row4 col10\" >-1635.707044</td>\n",
       "      <td id=\"T_8a229_row4_col11\" class=\"data row4 col11\" >-1635.623937</td>\n",
       "      <td id=\"T_8a229_row4_col12\" class=\"data row4 col12\" >-1635.613803</td>\n",
       "      <td id=\"T_8a229_row4_col13\" class=\"data row4 col13\" >-1635.563819</td>\n",
       "      <td id=\"T_8a229_row4_col14\" class=\"data row4 col14\" >-1635.577502</td>\n",
       "      <td id=\"T_8a229_row4_col15\" class=\"data row4 col15\" >-1635.583447</td>\n",
       "      <td id=\"T_8a229_row4_col16\" class=\"data row4 col16\" >-1635.580433</td>\n",
       "    </tr>\n",
       "    <tr>\n",
       "      <th id=\"T_8a229_level0_row5\" class=\"row_heading level0 row5\" >Overall</th>\n",
       "      <td id=\"T_8a229_row5_col0\" class=\"data row5 col0\" >-136.236013</td>\n",
       "      <td id=\"T_8a229_row5_col1\" class=\"data row5 col1\" >-1.058154</td>\n",
       "      <td id=\"T_8a229_row5_col2\" class=\"data row5 col2\" >-90.868802</td>\n",
       "      <td id=\"T_8a229_row5_col3\" class=\"data row5 col3\" >-769.777012</td>\n",
       "      <td id=\"T_8a229_row5_col4\" class=\"data row5 col4\" >-745.227696</td>\n",
       "      <td id=\"T_8a229_row5_col5\" class=\"data row5 col5\" >-837.779878</td>\n",
       "      <td id=\"T_8a229_row5_col6\" class=\"data row5 col6\" >-837.439045</td>\n",
       "      <td id=\"T_8a229_row5_col7\" class=\"data row5 col7\" >-855.723283</td>\n",
       "      <td id=\"T_8a229_row5_col8\" class=\"data row5 col8\" >-853.580996</td>\n",
       "      <td id=\"T_8a229_row5_col9\" class=\"data row5 col9\" >-851.314199</td>\n",
       "      <td id=\"T_8a229_row5_col10\" class=\"data row5 col10\" >-851.082164</td>\n",
       "      <td id=\"T_8a229_row5_col11\" class=\"data row5 col11\" >-819.728797</td>\n",
       "      <td id=\"T_8a229_row5_col12\" class=\"data row5 col12\" >-818.966376</td>\n",
       "      <td id=\"T_8a229_row5_col13\" class=\"data row5 col13\" >-727.794215</td>\n",
       "      <td id=\"T_8a229_row5_col14\" class=\"data row5 col14\" >-726.884091</td>\n",
       "      <td id=\"T_8a229_row5_col15\" class=\"data row5 col15\" >-799.043448</td>\n",
       "      <td id=\"T_8a229_row5_col16\" class=\"data row5 col16\" >-797.171133</td>\n",
       "    </tr>\n",
       "  </tbody>\n",
       "</table>\n"
      ],
      "text/plain": [
       "<pandas.io.formats.style.Styler at 0x1111de910>"
      ]
     },
     "execution_count": 27,
     "metadata": {},
     "output_type": "execute_result"
    }
   ],
   "source": [
    "model_ets ='ets'\n",
    "base_errors_wiki_ets, percentages_wiki_ets = get_results(data_wiki, model_ets, LEVELS_wiki, FC_TYPE, column_order_1)\n",
    "percentages_wiki_ets ['MSE'].style.highlight_max(color = 'lightgreen', axis = 1)"
   ]
  },
  {
   "cell_type": "markdown",
   "metadata": {},
   "source": [
    "### Short Horizon"
   ]
  },
  {
   "cell_type": "markdown",
   "metadata": {},
   "source": [
    "ARIMA"
   ]
  },
  {
   "cell_type": "code",
   "execution_count": 28,
   "metadata": {},
   "outputs": [
    {
     "data": {
      "text/html": [
       "<style type=\"text/css\">\n",
       "#T_6f668_row0_col2, #T_6f668_row1_col11, #T_6f668_row2_col12, #T_6f668_row3_col1, #T_6f668_row4_col0, #T_6f668_row5_col2 {\n",
       "  background-color: lightgreen;\n",
       "}\n",
       "</style>\n",
       "<table id=\"T_6f668_\">\n",
       "  <thead>\n",
       "    <tr>\n",
       "      <th class=\"blank level0\" >&nbsp;</th>\n",
       "      <th class=\"col_heading level0 col0\" >BU</th>\n",
       "      <th class=\"col_heading level0 col1\" >OLS</th>\n",
       "      <th class=\"col_heading level0 col2\" >WLS</th>\n",
       "      <th class=\"col_heading level0 col3\" >MinT(Shrink)</th>\n",
       "      <th class=\"col_heading level0 col4\" >ERM</th>\n",
       "      <th class=\"col_heading level0 col5\" >ML_CASE1</th>\n",
       "      <th class=\"col_heading level0 col6\" >ML_CASE1_MEAN</th>\n",
       "      <th class=\"col_heading level0 col7\" >ML_CASE1_Lambda1</th>\n",
       "      <th class=\"col_heading level0 col8\" >ML_CASE1_Lambda1_MEAN</th>\n",
       "      <th class=\"col_heading level0 col9\" >ML_CASE1_Lambda2</th>\n",
       "      <th class=\"col_heading level0 col10\" >ML_CASE1_Lambda2_MEAN</th>\n",
       "      <th class=\"col_heading level0 col11\" >ML_CASE2</th>\n",
       "      <th class=\"col_heading level0 col12\" >ML_CASE2_MEAN</th>\n",
       "      <th class=\"col_heading level0 col13\" >ML_CASE2_Lambda1</th>\n",
       "      <th class=\"col_heading level0 col14\" >ML_CASE2_Lambda1_MEAN</th>\n",
       "      <th class=\"col_heading level0 col15\" >ML_CASE2_Lambda2</th>\n",
       "      <th class=\"col_heading level0 col16\" >ML_CASE2_Lambda2_MEAN</th>\n",
       "    </tr>\n",
       "  </thead>\n",
       "  <tbody>\n",
       "    <tr>\n",
       "      <th id=\"T_6f668_level0_row0\" class=\"row_heading level0 row0\" >Total</th>\n",
       "      <td id=\"T_6f668_row0_col0\" class=\"data row0 col0\" >34.430066</td>\n",
       "      <td id=\"T_6f668_row0_col1\" class=\"data row0 col1\" >5.866183</td>\n",
       "      <td id=\"T_6f668_row0_col2\" class=\"data row0 col2\" >84.643106</td>\n",
       "      <td id=\"T_6f668_row0_col3\" class=\"data row0 col3\" >-306.015140</td>\n",
       "      <td id=\"T_6f668_row0_col4\" class=\"data row0 col4\" >36.706810</td>\n",
       "      <td id=\"T_6f668_row0_col5\" class=\"data row0 col5\" >53.518206</td>\n",
       "      <td id=\"T_6f668_row0_col6\" class=\"data row0 col6\" >53.245146</td>\n",
       "      <td id=\"T_6f668_row0_col7\" class=\"data row0 col7\" >47.750191</td>\n",
       "      <td id=\"T_6f668_row0_col8\" class=\"data row0 col8\" >53.109889</td>\n",
       "      <td id=\"T_6f668_row0_col9\" class=\"data row0 col9\" >66.587319</td>\n",
       "      <td id=\"T_6f668_row0_col10\" class=\"data row0 col10\" >65.374864</td>\n",
       "      <td id=\"T_6f668_row0_col11\" class=\"data row0 col11\" >80.913462</td>\n",
       "      <td id=\"T_6f668_row0_col12\" class=\"data row0 col12\" >80.617839</td>\n",
       "      <td id=\"T_6f668_row0_col13\" class=\"data row0 col13\" >47.742663</td>\n",
       "      <td id=\"T_6f668_row0_col14\" class=\"data row0 col14\" >52.861890</td>\n",
       "      <td id=\"T_6f668_row0_col15\" class=\"data row0 col15\" >55.120517</td>\n",
       "      <td id=\"T_6f668_row0_col16\" class=\"data row0 col16\" >60.980945</td>\n",
       "    </tr>\n",
       "    <tr>\n",
       "      <th id=\"T_6f668_level0_row1\" class=\"row_heading level0 row1\" >Language</th>\n",
       "      <td id=\"T_6f668_row1_col0\" class=\"data row1 col0\" >31.022679</td>\n",
       "      <td id=\"T_6f668_row1_col1\" class=\"data row1 col1\" >-5.687649</td>\n",
       "      <td id=\"T_6f668_row1_col2\" class=\"data row1 col2\" >57.229309</td>\n",
       "      <td id=\"T_6f668_row1_col3\" class=\"data row1 col3\" >-236.753104</td>\n",
       "      <td id=\"T_6f668_row1_col4\" class=\"data row1 col4\" >38.952864</td>\n",
       "      <td id=\"T_6f668_row1_col5\" class=\"data row1 col5\" >47.566566</td>\n",
       "      <td id=\"T_6f668_row1_col6\" class=\"data row1 col6\" >47.308682</td>\n",
       "      <td id=\"T_6f668_row1_col7\" class=\"data row1 col7\" >44.105587</td>\n",
       "      <td id=\"T_6f668_row1_col8\" class=\"data row1 col8\" >49.391283</td>\n",
       "      <td id=\"T_6f668_row1_col9\" class=\"data row1 col9\" >58.313438</td>\n",
       "      <td id=\"T_6f668_row1_col10\" class=\"data row1 col10\" >57.213183</td>\n",
       "      <td id=\"T_6f668_row1_col11\" class=\"data row1 col11\" >76.421166</td>\n",
       "      <td id=\"T_6f668_row1_col12\" class=\"data row1 col12\" >76.416943</td>\n",
       "      <td id=\"T_6f668_row1_col13\" class=\"data row1 col13\" >44.098052</td>\n",
       "      <td id=\"T_6f668_row1_col14\" class=\"data row1 col14\" >49.173359</td>\n",
       "      <td id=\"T_6f668_row1_col15\" class=\"data row1 col15\" >49.145752</td>\n",
       "      <td id=\"T_6f668_row1_col16\" class=\"data row1 col16\" >54.369935</td>\n",
       "    </tr>\n",
       "    <tr>\n",
       "      <th id=\"T_6f668_level0_row2\" class=\"row_heading level0 row2\" >Access</th>\n",
       "      <td id=\"T_6f668_row2_col0\" class=\"data row2 col0\" >39.188540</td>\n",
       "      <td id=\"T_6f668_row2_col1\" class=\"data row2 col1\" >-2.158041</td>\n",
       "      <td id=\"T_6f668_row2_col2\" class=\"data row2 col2\" >-61.066888</td>\n",
       "      <td id=\"T_6f668_row2_col3\" class=\"data row2 col3\" >-207.485717</td>\n",
       "      <td id=\"T_6f668_row2_col4\" class=\"data row2 col4\" >20.910009</td>\n",
       "      <td id=\"T_6f668_row2_col5\" class=\"data row2 col5\" >52.758443</td>\n",
       "      <td id=\"T_6f668_row2_col6\" class=\"data row2 col6\" >52.534104</td>\n",
       "      <td id=\"T_6f668_row2_col7\" class=\"data row2 col7\" >50.033060</td>\n",
       "      <td id=\"T_6f668_row2_col8\" class=\"data row2 col8\" >54.393686</td>\n",
       "      <td id=\"T_6f668_row2_col9\" class=\"data row2 col9\" >59.735477</td>\n",
       "      <td id=\"T_6f668_row2_col10\" class=\"data row2 col10\" >58.875108</td>\n",
       "      <td id=\"T_6f668_row2_col11\" class=\"data row2 col11\" >78.419882</td>\n",
       "      <td id=\"T_6f668_row2_col12\" class=\"data row2 col12\" >78.451370</td>\n",
       "      <td id=\"T_6f668_row2_col13\" class=\"data row2 col13\" >50.033126</td>\n",
       "      <td id=\"T_6f668_row2_col14\" class=\"data row2 col14\" >54.225571</td>\n",
       "      <td id=\"T_6f668_row2_col15\" class=\"data row2 col15\" >54.566869</td>\n",
       "      <td id=\"T_6f668_row2_col16\" class=\"data row2 col16\" >58.769901</td>\n",
       "    </tr>\n",
       "    <tr>\n",
       "      <th id=\"T_6f668_level0_row3\" class=\"row_heading level0 row3\" >Agent</th>\n",
       "      <td id=\"T_6f668_row3_col0\" class=\"data row3 col0\" >-448.207170</td>\n",
       "      <td id=\"T_6f668_row3_col1\" class=\"data row3 col1\" >0.726583</td>\n",
       "      <td id=\"T_6f668_row3_col2\" class=\"data row3 col2\" >-28.733745</td>\n",
       "      <td id=\"T_6f668_row3_col3\" class=\"data row3 col3\" >-356.574686</td>\n",
       "      <td id=\"T_6f668_row3_col4\" class=\"data row3 col4\" >-194.545356</td>\n",
       "      <td id=\"T_6f668_row3_col5\" class=\"data row3 col5\" >-2925.715697</td>\n",
       "      <td id=\"T_6f668_row3_col6\" class=\"data row3 col6\" >-2928.106099</td>\n",
       "      <td id=\"T_6f668_row3_col7\" class=\"data row3 col7\" >-2950.699208</td>\n",
       "      <td id=\"T_6f668_row3_col8\" class=\"data row3 col8\" >-2904.538153</td>\n",
       "      <td id=\"T_6f668_row3_col9\" class=\"data row3 col9\" >-2844.101473</td>\n",
       "      <td id=\"T_6f668_row3_col10\" class=\"data row3 col10\" >-2853.674795</td>\n",
       "      <td id=\"T_6f668_row3_col11\" class=\"data row3 col11\" >-2570.547485</td>\n",
       "      <td id=\"T_6f668_row3_col12\" class=\"data row3 col12\" >-2570.592632</td>\n",
       "      <td id=\"T_6f668_row3_col13\" class=\"data row3 col13\" >-2950.699531</td>\n",
       "      <td id=\"T_6f668_row3_col14\" class=\"data row3 col14\" >-2906.441772</td>\n",
       "      <td id=\"T_6f668_row3_col15\" class=\"data row3 col15\" >-2904.576774</td>\n",
       "      <td id=\"T_6f668_row3_col16\" class=\"data row3 col16\" >-2856.477519</td>\n",
       "    </tr>\n",
       "    <tr>\n",
       "      <th id=\"T_6f668_level0_row4\" class=\"row_heading level0 row4\" >Article</th>\n",
       "      <td id=\"T_6f668_row4_col0\" class=\"data row4 col0\" >0.000000</td>\n",
       "      <td id=\"T_6f668_row4_col1\" class=\"data row4 col1\" >-90.694764</td>\n",
       "      <td id=\"T_6f668_row4_col2\" class=\"data row4 col2\" >-2214.064776</td>\n",
       "      <td id=\"T_6f668_row4_col3\" class=\"data row4 col3\" >-1712.477008</td>\n",
       "      <td id=\"T_6f668_row4_col4\" class=\"data row4 col4\" >-1270.696617</td>\n",
       "      <td id=\"T_6f668_row4_col5\" class=\"data row4 col5\" >-5142.804763</td>\n",
       "      <td id=\"T_6f668_row4_col6\" class=\"data row4 col6\" >-5142.828468</td>\n",
       "      <td id=\"T_6f668_row4_col7\" class=\"data row4 col7\" >-5143.013502</td>\n",
       "      <td id=\"T_6f668_row4_col8\" class=\"data row4 col8\" >-5142.782400</td>\n",
       "      <td id=\"T_6f668_row4_col9\" class=\"data row4 col9\" >-5142.546192</td>\n",
       "      <td id=\"T_6f668_row4_col10\" class=\"data row4 col10\" >-5142.591085</td>\n",
       "      <td id=\"T_6f668_row4_col11\" class=\"data row4 col11\" >-5141.661290</td>\n",
       "      <td id=\"T_6f668_row4_col12\" class=\"data row4 col12\" >-5141.539655</td>\n",
       "      <td id=\"T_6f668_row4_col13\" class=\"data row4 col13\" >-5143.013260</td>\n",
       "      <td id=\"T_6f668_row4_col14\" class=\"data row4 col14\" >-5142.791979</td>\n",
       "      <td id=\"T_6f668_row4_col15\" class=\"data row4 col15\" >-5142.738513</td>\n",
       "      <td id=\"T_6f668_row4_col16\" class=\"data row4 col16\" >-5142.548502</td>\n",
       "    </tr>\n",
       "    <tr>\n",
       "      <th id=\"T_6f668_level0_row5\" class=\"row_heading level0 row5\" >Overall</th>\n",
       "      <td id=\"T_6f668_row5_col0\" class=\"data row5 col0\" >-33.401502</td>\n",
       "      <td id=\"T_6f668_row5_col1\" class=\"data row5 col1\" >-0.687784</td>\n",
       "      <td id=\"T_6f668_row5_col2\" class=\"data row5 col2\" >0.689528</td>\n",
       "      <td id=\"T_6f668_row5_col3\" class=\"data row5 col3\" >-302.958070</td>\n",
       "      <td id=\"T_6f668_row5_col4\" class=\"data row5 col4\" >-19.043749</td>\n",
       "      <td id=\"T_6f668_row5_col5\" class=\"data row5 col5\" >-448.651854</td>\n",
       "      <td id=\"T_6f668_row5_col6\" class=\"data row5 col6\" >-449.203711</td>\n",
       "      <td id=\"T_6f668_row5_col7\" class=\"data row5 col7\" >-455.926408</td>\n",
       "      <td id=\"T_6f668_row5_col8\" class=\"data row5 col8\" >-445.153009</td>\n",
       "      <td id=\"T_6f668_row5_col9\" class=\"data row5 col9\" >-427.820606</td>\n",
       "      <td id=\"T_6f668_row5_col10\" class=\"data row5 col10\" >-430.092229</td>\n",
       "      <td id=\"T_6f668_row5_col11\" class=\"data row5 col11\" >-375.995233</td>\n",
       "      <td id=\"T_6f668_row5_col12\" class=\"data row5 col12\" >-376.122448</td>\n",
       "      <td id=\"T_6f668_row5_col13\" class=\"data row5 col13\" >-455.931604</td>\n",
       "      <td id=\"T_6f668_row5_col14\" class=\"data row5 col14\" >-445.606998</td>\n",
       "      <td id=\"T_6f668_row5_col15\" class=\"data row5 col15\" >-444.330648</td>\n",
       "      <td id=\"T_6f668_row5_col16\" class=\"data row5 col16\" >-433.114205</td>\n",
       "    </tr>\n",
       "  </tbody>\n",
       "</table>\n"
      ],
      "text/plain": [
       "<pandas.io.formats.style.Styler at 0x12b140ca0>"
      ]
     },
     "execution_count": 28,
     "metadata": {},
     "output_type": "execute_result"
    }
   ],
   "source": [
    "model_arima ='arima'\n",
    "base_errors_wiki_arima, percentages_wiki_arima = get_results(data_wiki, model_arima, LEVELS_wiki, FC_TYPE, \n",
    "                                                             column_order_1, True)\n",
    "\n",
    "percentages_wiki_arima ['MSE'].style.highlight_max(color = 'lightgreen', axis = 1)"
   ]
  },
  {
   "cell_type": "markdown",
   "metadata": {},
   "source": [
    "ETS"
   ]
  },
  {
   "cell_type": "code",
   "execution_count": 29,
   "metadata": {},
   "outputs": [
    {
     "data": {
      "text/html": [
       "<style type=\"text/css\">\n",
       "#T_2ba2d_row0_col14, #T_2ba2d_row1_col14, #T_2ba2d_row2_col14, #T_2ba2d_row3_col1, #T_2ba2d_row4_col0, #T_2ba2d_row5_col1 {\n",
       "  background-color: lightgreen;\n",
       "}\n",
       "</style>\n",
       "<table id=\"T_2ba2d_\">\n",
       "  <thead>\n",
       "    <tr>\n",
       "      <th class=\"blank level0\" >&nbsp;</th>\n",
       "      <th class=\"col_heading level0 col0\" >BU</th>\n",
       "      <th class=\"col_heading level0 col1\" >OLS</th>\n",
       "      <th class=\"col_heading level0 col2\" >WLS</th>\n",
       "      <th class=\"col_heading level0 col3\" >MinT(Shrink)</th>\n",
       "      <th class=\"col_heading level0 col4\" >ERM</th>\n",
       "      <th class=\"col_heading level0 col5\" >ML_CASE1</th>\n",
       "      <th class=\"col_heading level0 col6\" >ML_CASE1_MEAN</th>\n",
       "      <th class=\"col_heading level0 col7\" >ML_CASE1_Lambda1</th>\n",
       "      <th class=\"col_heading level0 col8\" >ML_CASE1_Lambda1_MEAN</th>\n",
       "      <th class=\"col_heading level0 col9\" >ML_CASE1_Lambda2</th>\n",
       "      <th class=\"col_heading level0 col10\" >ML_CASE1_Lambda2_MEAN</th>\n",
       "      <th class=\"col_heading level0 col11\" >ML_CASE2</th>\n",
       "      <th class=\"col_heading level0 col12\" >ML_CASE2_MEAN</th>\n",
       "      <th class=\"col_heading level0 col13\" >ML_CASE2_Lambda1</th>\n",
       "      <th class=\"col_heading level0 col14\" >ML_CASE2_Lambda1_MEAN</th>\n",
       "      <th class=\"col_heading level0 col15\" >ML_CASE2_Lambda2</th>\n",
       "      <th class=\"col_heading level0 col16\" >ML_CASE2_Lambda2_MEAN</th>\n",
       "    </tr>\n",
       "  </thead>\n",
       "  <tbody>\n",
       "    <tr>\n",
       "      <th id=\"T_2ba2d_level0_row0\" class=\"row_heading level0 row0\" >Total</th>\n",
       "      <td id=\"T_2ba2d_row0_col0\" class=\"data row0 col0\" >26.404619</td>\n",
       "      <td id=\"T_2ba2d_row0_col1\" class=\"data row0 col1\" >5.910642</td>\n",
       "      <td id=\"T_2ba2d_row0_col2\" class=\"data row0 col2\" >85.715717</td>\n",
       "      <td id=\"T_2ba2d_row0_col3\" class=\"data row0 col3\" >-251.133556</td>\n",
       "      <td id=\"T_2ba2d_row0_col4\" class=\"data row0 col4\" >-58.930852</td>\n",
       "      <td id=\"T_2ba2d_row0_col5\" class=\"data row0 col5\" >38.227349</td>\n",
       "      <td id=\"T_2ba2d_row0_col6\" class=\"data row0 col6\" >38.443728</td>\n",
       "      <td id=\"T_2ba2d_row0_col7\" class=\"data row0 col7\" >27.496807</td>\n",
       "      <td id=\"T_2ba2d_row0_col8\" class=\"data row0 col8\" >28.823778</td>\n",
       "      <td id=\"T_2ba2d_row0_col9\" class=\"data row0 col9\" >29.823569</td>\n",
       "      <td id=\"T_2ba2d_row0_col10\" class=\"data row0 col10\" >29.929454</td>\n",
       "      <td id=\"T_2ba2d_row0_col11\" class=\"data row0 col11\" >48.747595</td>\n",
       "      <td id=\"T_2ba2d_row0_col12\" class=\"data row0 col12\" >49.267094</td>\n",
       "      <td id=\"T_2ba2d_row0_col13\" class=\"data row0 col13\" >85.638664</td>\n",
       "      <td id=\"T_2ba2d_row0_col14\" class=\"data row0 col14\" >86.377985</td>\n",
       "      <td id=\"T_2ba2d_row0_col15\" class=\"data row0 col15\" >60.311464</td>\n",
       "      <td id=\"T_2ba2d_row0_col16\" class=\"data row0 col16\" >61.454495</td>\n",
       "    </tr>\n",
       "    <tr>\n",
       "      <th id=\"T_2ba2d_level0_row1\" class=\"row_heading level0 row1\" >Language</th>\n",
       "      <td id=\"T_2ba2d_row1_col0\" class=\"data row1 col0\" >29.741725</td>\n",
       "      <td id=\"T_2ba2d_row1_col1\" class=\"data row1 col1\" >6.380009</td>\n",
       "      <td id=\"T_2ba2d_row1_col2\" class=\"data row1 col2\" >70.537365</td>\n",
       "      <td id=\"T_2ba2d_row1_col3\" class=\"data row1 col3\" >-203.953709</td>\n",
       "      <td id=\"T_2ba2d_row1_col4\" class=\"data row1 col4\" >-41.085939</td>\n",
       "      <td id=\"T_2ba2d_row1_col5\" class=\"data row1 col5\" >38.606496</td>\n",
       "      <td id=\"T_2ba2d_row1_col6\" class=\"data row1 col6\" >38.775417</td>\n",
       "      <td id=\"T_2ba2d_row1_col7\" class=\"data row1 col7\" >30.581556</td>\n",
       "      <td id=\"T_2ba2d_row1_col8\" class=\"data row1 col8\" >31.584764</td>\n",
       "      <td id=\"T_2ba2d_row1_col9\" class=\"data row1 col9\" >32.481915</td>\n",
       "      <td id=\"T_2ba2d_row1_col10\" class=\"data row1 col10\" >32.560347</td>\n",
       "      <td id=\"T_2ba2d_row1_col11\" class=\"data row1 col11\" >47.038108</td>\n",
       "      <td id=\"T_2ba2d_row1_col12\" class=\"data row1 col12\" >47.391693</td>\n",
       "      <td id=\"T_2ba2d_row1_col13\" class=\"data row1 col13\" >84.674981</td>\n",
       "      <td id=\"T_2ba2d_row1_col14\" class=\"data row1 col14\" >85.135299</td>\n",
       "      <td id=\"T_2ba2d_row1_col15\" class=\"data row1 col15\" >56.327722</td>\n",
       "      <td id=\"T_2ba2d_row1_col16\" class=\"data row1 col16\" >57.194937</td>\n",
       "    </tr>\n",
       "    <tr>\n",
       "      <th id=\"T_2ba2d_level0_row2\" class=\"row_heading level0 row2\" >Access</th>\n",
       "      <td id=\"T_2ba2d_row2_col0\" class=\"data row2 col0\" >-19.452671</td>\n",
       "      <td id=\"T_2ba2d_row2_col1\" class=\"data row2 col1\" >-28.554225</td>\n",
       "      <td id=\"T_2ba2d_row2_col2\" class=\"data row2 col2\" >-126.507773</td>\n",
       "      <td id=\"T_2ba2d_row2_col3\" class=\"data row2 col3\" >-311.965637</td>\n",
       "      <td id=\"T_2ba2d_row2_col4\" class=\"data row2 col4\" >-1395.161529</td>\n",
       "      <td id=\"T_2ba2d_row2_col5\" class=\"data row2 col5\" >-10.131545</td>\n",
       "      <td id=\"T_2ba2d_row2_col6\" class=\"data row2 col6\" >-9.932127</td>\n",
       "      <td id=\"T_2ba2d_row2_col7\" class=\"data row2 col7\" >-18.561395</td>\n",
       "      <td id=\"T_2ba2d_row2_col8\" class=\"data row2 col8\" >-17.518132</td>\n",
       "      <td id=\"T_2ba2d_row2_col9\" class=\"data row2 col9\" >-16.277485</td>\n",
       "      <td id=\"T_2ba2d_row2_col10\" class=\"data row2 col10\" >-16.192674</td>\n",
       "      <td id=\"T_2ba2d_row2_col11\" class=\"data row2 col11\" >-0.683486</td>\n",
       "      <td id=\"T_2ba2d_row2_col12\" class=\"data row2 col12\" >-0.337118</td>\n",
       "      <td id=\"T_2ba2d_row2_col13\" class=\"data row2 col13\" >42.688090</td>\n",
       "      <td id=\"T_2ba2d_row2_col14\" class=\"data row2 col14\" >43.241407</td>\n",
       "      <td id=\"T_2ba2d_row2_col15\" class=\"data row2 col15\" >9.000763</td>\n",
       "      <td id=\"T_2ba2d_row2_col16\" class=\"data row2 col16\" >10.073109</td>\n",
       "    </tr>\n",
       "    <tr>\n",
       "      <th id=\"T_2ba2d_level0_row3\" class=\"row_heading level0 row3\" >Agent</th>\n",
       "      <td id=\"T_2ba2d_row3_col0\" class=\"data row3 col0\" >-537.007796</td>\n",
       "      <td id=\"T_2ba2d_row3_col1\" class=\"data row3 col1\" >-1.972247</td>\n",
       "      <td id=\"T_2ba2d_row3_col2\" class=\"data row3 col2\" >-11.825264</td>\n",
       "      <td id=\"T_2ba2d_row3_col3\" class=\"data row3 col3\" >-198.868422</td>\n",
       "      <td id=\"T_2ba2d_row3_col4\" class=\"data row3 col4\" >-716.532582</td>\n",
       "      <td id=\"T_2ba2d_row3_col5\" class=\"data row3 col5\" >-3342.922595</td>\n",
       "      <td id=\"T_2ba2d_row3_col6\" class=\"data row3 col6\" >-3341.472487</td>\n",
       "      <td id=\"T_2ba2d_row3_col7\" class=\"data row3 col7\" >-3400.234771</td>\n",
       "      <td id=\"T_2ba2d_row3_col8\" class=\"data row3 col8\" >-3393.166533</td>\n",
       "      <td id=\"T_2ba2d_row3_col9\" class=\"data row3 col9\" >-3385.706689</td>\n",
       "      <td id=\"T_2ba2d_row3_col10\" class=\"data row3 col10\" >-3385.199820</td>\n",
       "      <td id=\"T_2ba2d_row3_col11\" class=\"data row3 col11\" >-3275.106781</td>\n",
       "      <td id=\"T_2ba2d_row3_col12\" class=\"data row3 col12\" >-3272.439501</td>\n",
       "      <td id=\"T_2ba2d_row3_col13\" class=\"data row3 col13\" >-2829.162338</td>\n",
       "      <td id=\"T_2ba2d_row3_col14\" class=\"data row3 col14\" >-2822.999335</td>\n",
       "      <td id=\"T_2ba2d_row3_col15\" class=\"data row3 col15\" >-3198.290779</td>\n",
       "      <td id=\"T_2ba2d_row3_col16\" class=\"data row3 col16\" >-3190.071148</td>\n",
       "    </tr>\n",
       "    <tr>\n",
       "      <th id=\"T_2ba2d_level0_row4\" class=\"row_heading level0 row4\" >Article</th>\n",
       "      <td id=\"T_2ba2d_row4_col0\" class=\"data row4 col0\" >0.000000</td>\n",
       "      <td id=\"T_2ba2d_row4_col1\" class=\"data row4 col1\" >-105.110147</td>\n",
       "      <td id=\"T_2ba2d_row4_col2\" class=\"data row4 col2\" >-3038.651520</td>\n",
       "      <td id=\"T_2ba2d_row4_col3\" class=\"data row4 col3\" >-1865.331126</td>\n",
       "      <td id=\"T_2ba2d_row4_col4\" class=\"data row4 col4\" >-6679.504617</td>\n",
       "      <td id=\"T_2ba2d_row4_col5\" class=\"data row4 col5\" >-6016.422864</td>\n",
       "      <td id=\"T_2ba2d_row4_col6\" class=\"data row4 col6\" >-6016.388999</td>\n",
       "      <td id=\"T_2ba2d_row4_col7\" class=\"data row4 col7\" >-6016.790941</td>\n",
       "      <td id=\"T_2ba2d_row4_col8\" class=\"data row4 col8\" >-6016.747341</td>\n",
       "      <td id=\"T_2ba2d_row4_col9\" class=\"data row4 col9\" >-6016.726390</td>\n",
       "      <td id=\"T_2ba2d_row4_col10\" class=\"data row4 col10\" >-6016.712549</td>\n",
       "      <td id=\"T_2ba2d_row4_col11\" class=\"data row4 col11\" >-6016.040282</td>\n",
       "      <td id=\"T_2ba2d_row4_col12\" class=\"data row4 col12\" >-6015.994893</td>\n",
       "      <td id=\"T_2ba2d_row4_col13\" class=\"data row4 col13\" >-6014.372354</td>\n",
       "      <td id=\"T_2ba2d_row4_col14\" class=\"data row4 col14\" >-6014.342308</td>\n",
       "      <td id=\"T_2ba2d_row4_col15\" class=\"data row4 col15\" >-6015.614961</td>\n",
       "      <td id=\"T_2ba2d_row4_col16\" class=\"data row4 col16\" >-6015.581648</td>\n",
       "    </tr>\n",
       "    <tr>\n",
       "      <th id=\"T_2ba2d_level0_row5\" class=\"row_heading level0 row5\" >Overall</th>\n",
       "      <td id=\"T_2ba2d_row5_col0\" class=\"data row5 col0\" >-56.723104</td>\n",
       "      <td id=\"T_2ba2d_row5_col1\" class=\"data row5 col1\" >-0.508650</td>\n",
       "      <td id=\"T_2ba2d_row5_col2\" class=\"data row5 col2\" >-3.705108</td>\n",
       "      <td id=\"T_2ba2d_row5_col3\" class=\"data row5 col3\" >-263.602996</td>\n",
       "      <td id=\"T_2ba2d_row5_col4\" class=\"data row5 col4\" >-393.482510</td>\n",
       "      <td id=\"T_2ba2d_row5_col5\" class=\"data row5 col5\" >-534.154927</td>\n",
       "      <td id=\"T_2ba2d_row5_col6\" class=\"data row5 col6\" >-533.783216</td>\n",
       "      <td id=\"T_2ba2d_row5_col7\" class=\"data row5 col7\" >-550.282528</td>\n",
       "      <td id=\"T_2ba2d_row5_col8\" class=\"data row5 col8\" >-548.287974</td>\n",
       "      <td id=\"T_2ba2d_row5_col9\" class=\"data row5 col9\" >-546.402316</td>\n",
       "      <td id=\"T_2ba2d_row5_col10\" class=\"data row5 col10\" >-546.251225</td>\n",
       "      <td id=\"T_2ba2d_row5_col11\" class=\"data row5 col11\" >-516.447822</td>\n",
       "      <td id=\"T_2ba2d_row5_col12\" class=\"data row5 col12\" >-515.697202</td>\n",
       "      <td id=\"T_2ba2d_row5_col13\" class=\"data row5 col13\" >-422.116635</td>\n",
       "      <td id=\"T_2ba2d_row5_col14\" class=\"data row5 col14\" >-420.723042</td>\n",
       "      <td id=\"T_2ba2d_row5_col15\" class=\"data row5 col15\" >-496.736338</td>\n",
       "      <td id=\"T_2ba2d_row5_col16\" class=\"data row5 col16\" >-494.701394</td>\n",
       "    </tr>\n",
       "  </tbody>\n",
       "</table>\n"
      ],
      "text/plain": [
       "<pandas.io.formats.style.Styler at 0x12b2d20d0>"
      ]
     },
     "execution_count": 29,
     "metadata": {},
     "output_type": "execute_result"
    }
   ],
   "source": [
    "model_ets ='ets'\n",
    "base_errors_wiki_ets, percentages_wiki_ets = get_results(data_wiki, model_ets, LEVELS_wiki, FC_TYPE, \n",
    "                                                         column_order_1, True)\n",
    "percentages_wiki_ets ['MSE'].style.highlight_max(color = 'lightgreen', axis = 1)"
   ]
  },
  {
   "cell_type": "markdown",
   "metadata": {},
   "source": [
    "## Labour Data"
   ]
  },
  {
   "cell_type": "code",
   "execution_count": 30,
   "metadata": {},
   "outputs": [],
   "source": [
    "LEVELS_labour = ['Total Employees', 'Main Occupation', 'Employment Status', 'Gender']\n",
    "\n",
    "data_labour = 'labour'\n",
    "FC_TYPE = ['base', 'bottomup', 'ols', 'wls', 'mintsample', 'mintshrink', 'erm',\n",
    "               'case1', 'case1_mean', 'case1_lambda1', 'case1_lambda1_mean', 'case1_lambda2', 'case1_lambda2_mean',\n",
    "               'case2', 'case2_mean', 'case2_lambda1', 'case2_lambda1_mean', 'case2_lambda2', 'case2_lambda2_mean']\n",
    "column_order_1 = ['BU', 'OLS', 'WLS', 'MinT(Sample)','MinT(Shrink)', 'ERM', 'ML_CASE1', 'ML_CASE1_MEAN',\n",
    "                 'ML_CASE1_Lambda1','ML_CASE1_Lambda1_MEAN','ML_CASE1_Lambda2','ML_CASE1_Lambda2_MEAN',\n",
    "                  'ML_CASE2','ML_CASE2_MEAN','ML_CASE2_Lambda1','ML_CASE2_Lambda1_MEAN',\n",
    "                  'ML_CASE2_Lambda2', 'ML_CASE2_Lambda2_MEAN']"
   ]
  },
  {
   "cell_type": "markdown",
   "metadata": {},
   "source": [
    "ARIMA"
   ]
  },
  {
   "cell_type": "code",
   "execution_count": 32,
   "metadata": {},
   "outputs": [
    {
     "data": {
      "text/html": [
       "<style type=\"text/css\">\n",
       "#T_e3b41_row0_col3, #T_e3b41_row1_col3, #T_e3b41_row2_col3, #T_e3b41_row3_col3, #T_e3b41_row4_col3 {\n",
       "  background-color: lightgreen;\n",
       "}\n",
       "</style>\n",
       "<table id=\"T_e3b41_\">\n",
       "  <thead>\n",
       "    <tr>\n",
       "      <th class=\"blank level0\" >&nbsp;</th>\n",
       "      <th class=\"col_heading level0 col0\" >BU</th>\n",
       "      <th class=\"col_heading level0 col1\" >OLS</th>\n",
       "      <th class=\"col_heading level0 col2\" >WLS</th>\n",
       "      <th class=\"col_heading level0 col3\" >MinT(Sample)</th>\n",
       "      <th class=\"col_heading level0 col4\" >MinT(Shrink)</th>\n",
       "      <th class=\"col_heading level0 col5\" >ERM</th>\n",
       "      <th class=\"col_heading level0 col6\" >ML_CASE1</th>\n",
       "      <th class=\"col_heading level0 col7\" >ML_CASE1_MEAN</th>\n",
       "      <th class=\"col_heading level0 col8\" >ML_CASE1_Lambda1</th>\n",
       "      <th class=\"col_heading level0 col9\" >ML_CASE1_Lambda1_MEAN</th>\n",
       "      <th class=\"col_heading level0 col10\" >ML_CASE1_Lambda2</th>\n",
       "      <th class=\"col_heading level0 col11\" >ML_CASE1_Lambda2_MEAN</th>\n",
       "      <th class=\"col_heading level0 col12\" >ML_CASE2</th>\n",
       "      <th class=\"col_heading level0 col13\" >ML_CASE2_MEAN</th>\n",
       "      <th class=\"col_heading level0 col14\" >ML_CASE2_Lambda1</th>\n",
       "      <th class=\"col_heading level0 col15\" >ML_CASE2_Lambda1_MEAN</th>\n",
       "      <th class=\"col_heading level0 col16\" >ML_CASE2_Lambda2</th>\n",
       "      <th class=\"col_heading level0 col17\" >ML_CASE2_Lambda2_MEAN</th>\n",
       "    </tr>\n",
       "  </thead>\n",
       "  <tbody>\n",
       "    <tr>\n",
       "      <th id=\"T_e3b41_level0_row0\" class=\"row_heading level0 row0\" >Total Employees</th>\n",
       "      <td id=\"T_e3b41_row0_col0\" class=\"data row0 col0\" >-88.715285</td>\n",
       "      <td id=\"T_e3b41_row0_col1\" class=\"data row0 col1\" >-5.150195</td>\n",
       "      <td id=\"T_e3b41_row0_col2\" class=\"data row0 col2\" >-34.669487</td>\n",
       "      <td id=\"T_e3b41_row0_col3\" class=\"data row0 col3\" >14.953236</td>\n",
       "      <td id=\"T_e3b41_row0_col4\" class=\"data row0 col4\" >-11.653076</td>\n",
       "      <td id=\"T_e3b41_row0_col5\" class=\"data row0 col5\" >0.478694</td>\n",
       "      <td id=\"T_e3b41_row0_col6\" class=\"data row0 col6\" >-27.284384</td>\n",
       "      <td id=\"T_e3b41_row0_col7\" class=\"data row0 col7\" >-32.214845</td>\n",
       "      <td id=\"T_e3b41_row0_col8\" class=\"data row0 col8\" >-50.452386</td>\n",
       "      <td id=\"T_e3b41_row0_col9\" class=\"data row0 col9\" >-49.504216</td>\n",
       "      <td id=\"T_e3b41_row0_col10\" class=\"data row0 col10\" >-88.911426</td>\n",
       "      <td id=\"T_e3b41_row0_col11\" class=\"data row0 col11\" >-96.134515</td>\n",
       "      <td id=\"T_e3b41_row0_col12\" class=\"data row0 col12\" >-153.033217</td>\n",
       "      <td id=\"T_e3b41_row0_col13\" class=\"data row0 col13\" >-92.141469</td>\n",
       "      <td id=\"T_e3b41_row0_col14\" class=\"data row0 col14\" >-85.843123</td>\n",
       "      <td id=\"T_e3b41_row0_col15\" class=\"data row0 col15\" >-83.805836</td>\n",
       "      <td id=\"T_e3b41_row0_col16\" class=\"data row0 col16\" >-88.911426</td>\n",
       "      <td id=\"T_e3b41_row0_col17\" class=\"data row0 col17\" >-96.134515</td>\n",
       "    </tr>\n",
       "    <tr>\n",
       "      <th id=\"T_e3b41_level0_row1\" class=\"row_heading level0 row1\" >Main Occupation</th>\n",
       "      <td id=\"T_e3b41_row1_col0\" class=\"data row1 col0\" >16.785035</td>\n",
       "      <td id=\"T_e3b41_row1_col1\" class=\"data row1 col1\" >14.924121</td>\n",
       "      <td id=\"T_e3b41_row1_col2\" class=\"data row1 col2\" >17.425253</td>\n",
       "      <td id=\"T_e3b41_row1_col3\" class=\"data row1 col3\" >34.670086</td>\n",
       "      <td id=\"T_e3b41_row1_col4\" class=\"data row1 col4\" >22.939207</td>\n",
       "      <td id=\"T_e3b41_row1_col5\" class=\"data row1 col5\" >-88.651984</td>\n",
       "      <td id=\"T_e3b41_row1_col6\" class=\"data row1 col6\" >25.919143</td>\n",
       "      <td id=\"T_e3b41_row1_col7\" class=\"data row1 col7\" >26.788656</td>\n",
       "      <td id=\"T_e3b41_row1_col8\" class=\"data row1 col8\" >23.104842</td>\n",
       "      <td id=\"T_e3b41_row1_col9\" class=\"data row1 col9\" >22.604013</td>\n",
       "      <td id=\"T_e3b41_row1_col10\" class=\"data row1 col10\" >15.691658</td>\n",
       "      <td id=\"T_e3b41_row1_col11\" class=\"data row1 col11\" >14.636898</td>\n",
       "      <td id=\"T_e3b41_row1_col12\" class=\"data row1 col12\" >15.707347</td>\n",
       "      <td id=\"T_e3b41_row1_col13\" class=\"data row1 col13\" >21.253884</td>\n",
       "      <td id=\"T_e3b41_row1_col14\" class=\"data row1 col14\" >17.406547</td>\n",
       "      <td id=\"T_e3b41_row1_col15\" class=\"data row1 col15\" >17.697089</td>\n",
       "      <td id=\"T_e3b41_row1_col16\" class=\"data row1 col16\" >15.691658</td>\n",
       "      <td id=\"T_e3b41_row1_col17\" class=\"data row1 col17\" >14.636898</td>\n",
       "    </tr>\n",
       "    <tr>\n",
       "      <th id=\"T_e3b41_level0_row2\" class=\"row_heading level0 row2\" >Employment Status</th>\n",
       "      <td id=\"T_e3b41_row2_col0\" class=\"data row2 col0\" >0.467585</td>\n",
       "      <td id=\"T_e3b41_row2_col1\" class=\"data row2 col1\" >-2.341733</td>\n",
       "      <td id=\"T_e3b41_row2_col2\" class=\"data row2 col2\" >0.894809</td>\n",
       "      <td id=\"T_e3b41_row2_col3\" class=\"data row2 col3\" >24.530701</td>\n",
       "      <td id=\"T_e3b41_row2_col4\" class=\"data row2 col4\" >8.593970</td>\n",
       "      <td id=\"T_e3b41_row2_col5\" class=\"data row2 col5\" >-42.506073</td>\n",
       "      <td id=\"T_e3b41_row2_col6\" class=\"data row2 col6\" >7.085361</td>\n",
       "      <td id=\"T_e3b41_row2_col7\" class=\"data row2 col7\" >7.989308</td>\n",
       "      <td id=\"T_e3b41_row2_col8\" class=\"data row2 col8\" >5.439675</td>\n",
       "      <td id=\"T_e3b41_row2_col9\" class=\"data row2 col9\" >5.813590</td>\n",
       "      <td id=\"T_e3b41_row2_col10\" class=\"data row2 col10\" >-1.689856</td>\n",
       "      <td id=\"T_e3b41_row2_col11\" class=\"data row2 col11\" >-2.608272</td>\n",
       "      <td id=\"T_e3b41_row2_col12\" class=\"data row2 col12\" >-2.013510</td>\n",
       "      <td id=\"T_e3b41_row2_col13\" class=\"data row2 col13\" >2.822264</td>\n",
       "      <td id=\"T_e3b41_row2_col14\" class=\"data row2 col14\" >1.046355</td>\n",
       "      <td id=\"T_e3b41_row2_col15\" class=\"data row2 col15\" >1.115655</td>\n",
       "      <td id=\"T_e3b41_row2_col16\" class=\"data row2 col16\" >-1.689856</td>\n",
       "      <td id=\"T_e3b41_row2_col17\" class=\"data row2 col17\" >-2.608272</td>\n",
       "    </tr>\n",
       "    <tr>\n",
       "      <th id=\"T_e3b41_level0_row3\" class=\"row_heading level0 row3\" >Gender</th>\n",
       "      <td id=\"T_e3b41_row3_col0\" class=\"data row3 col0\" >0.000000</td>\n",
       "      <td id=\"T_e3b41_row3_col1\" class=\"data row3 col1\" >-1.890739</td>\n",
       "      <td id=\"T_e3b41_row3_col2\" class=\"data row3 col2\" >-1.499057</td>\n",
       "      <td id=\"T_e3b41_row3_col3\" class=\"data row3 col3\" >6.705767</td>\n",
       "      <td id=\"T_e3b41_row3_col4\" class=\"data row3 col4\" >2.799196</td>\n",
       "      <td id=\"T_e3b41_row3_col5\" class=\"data row3 col5\" >-50.623411</td>\n",
       "      <td id=\"T_e3b41_row3_col6\" class=\"data row3 col6\" >4.337216</td>\n",
       "      <td id=\"T_e3b41_row3_col7\" class=\"data row3 col7\" >5.214913</td>\n",
       "      <td id=\"T_e3b41_row3_col8\" class=\"data row3 col8\" >3.547699</td>\n",
       "      <td id=\"T_e3b41_row3_col9\" class=\"data row3 col9\" >3.525141</td>\n",
       "      <td id=\"T_e3b41_row3_col10\" class=\"data row3 col10\" >-1.494955</td>\n",
       "      <td id=\"T_e3b41_row3_col11\" class=\"data row3 col11\" >-2.132721</td>\n",
       "      <td id=\"T_e3b41_row3_col12\" class=\"data row3 col12\" >-0.652120</td>\n",
       "      <td id=\"T_e3b41_row3_col13\" class=\"data row3 col13\" >2.136822</td>\n",
       "      <td id=\"T_e3b41_row3_col14\" class=\"data row3 col14\" >0.980231</td>\n",
       "      <td id=\"T_e3b41_row3_col15\" class=\"data row3 col15\" >0.756706</td>\n",
       "      <td id=\"T_e3b41_row3_col16\" class=\"data row3 col16\" >-1.494955</td>\n",
       "      <td id=\"T_e3b41_row3_col17\" class=\"data row3 col17\" >-2.132721</td>\n",
       "    </tr>\n",
       "    <tr>\n",
       "      <th id=\"T_e3b41_level0_row4\" class=\"row_heading level0 row4\" >Overall</th>\n",
       "      <td id=\"T_e3b41_row4_col0\" class=\"data row4 col0\" >-14.283412</td>\n",
       "      <td id=\"T_e3b41_row4_col1\" class=\"data row4 col1\" >2.742903</td>\n",
       "      <td id=\"T_e3b41_row4_col2\" class=\"data row4 col2\" >-2.144579</td>\n",
       "      <td id=\"T_e3b41_row4_col3\" class=\"data row4 col3\" >22.270409</td>\n",
       "      <td id=\"T_e3b41_row4_col4\" class=\"data row4 col4\" >7.621977</td>\n",
       "      <td id=\"T_e3b41_row4_col5\" class=\"data row4 col5\" >-49.473138</td>\n",
       "      <td id=\"T_e3b41_row4_col6\" class=\"data row4 col6\" >4.996777</td>\n",
       "      <td id=\"T_e3b41_row4_col7\" class=\"data row4 col7\" >4.577110</td>\n",
       "      <td id=\"T_e3b41_row4_col8\" class=\"data row4 col8\" >-1.687078</td>\n",
       "      <td id=\"T_e3b41_row4_col9\" class=\"data row4 col9\" >-1.545554</td>\n",
       "      <td id=\"T_e3b41_row4_col10\" class=\"data row4 col10\" >-15.528403</td>\n",
       "      <td id=\"T_e3b41_row4_col11\" class=\"data row4 col11\" >-17.849536</td>\n",
       "      <td id=\"T_e3b41_row4_col12\" class=\"data row4 col12\" >-29.810414</td>\n",
       "      <td id=\"T_e3b41_row4_col13\" class=\"data row4 col13\" >-12.577418</td>\n",
       "      <td id=\"T_e3b41_row4_col14\" class=\"data row4 col14\" >-13.100776</td>\n",
       "      <td id=\"T_e3b41_row4_col15\" class=\"data row4 col15\" >-12.573915</td>\n",
       "      <td id=\"T_e3b41_row4_col16\" class=\"data row4 col16\" >-15.528403</td>\n",
       "      <td id=\"T_e3b41_row4_col17\" class=\"data row4 col17\" >-17.849536</td>\n",
       "    </tr>\n",
       "  </tbody>\n",
       "</table>\n"
      ],
      "text/plain": [
       "<pandas.io.formats.style.Styler at 0x12b244e50>"
      ]
     },
     "execution_count": 32,
     "metadata": {},
     "output_type": "execute_result"
    }
   ],
   "source": [
    "model_arima ='arima'\n",
    "base_errors_labour_arima, percentages_labour_arima = get_results(data_labour, \n",
    "                                                                 model_arima, LEVELS_labour, FC_TYPE, column_order_1)\n",
    "\n",
    "percentages_labour_arima['MSE'].style.highlight_max(color = 'lightgreen', axis = 1)"
   ]
  },
  {
   "cell_type": "markdown",
   "metadata": {},
   "source": [
    "ETS"
   ]
  },
  {
   "cell_type": "code",
   "execution_count": 34,
   "metadata": {},
   "outputs": [
    {
     "data": {
      "text/html": [
       "<style type=\"text/css\">\n",
       "#T_24c48_row0_col3, #T_24c48_row1_col3, #T_24c48_row2_col3, #T_24c48_row3_col3, #T_24c48_row4_col3 {\n",
       "  background-color: lightgreen;\n",
       "}\n",
       "</style>\n",
       "<table id=\"T_24c48_\">\n",
       "  <thead>\n",
       "    <tr>\n",
       "      <th class=\"blank level0\" >&nbsp;</th>\n",
       "      <th class=\"col_heading level0 col0\" >BU</th>\n",
       "      <th class=\"col_heading level0 col1\" >OLS</th>\n",
       "      <th class=\"col_heading level0 col2\" >WLS</th>\n",
       "      <th class=\"col_heading level0 col3\" >MinT(Sample)</th>\n",
       "      <th class=\"col_heading level0 col4\" >MinT(Shrink)</th>\n",
       "      <th class=\"col_heading level0 col5\" >ERM</th>\n",
       "      <th class=\"col_heading level0 col6\" >ML_CASE1</th>\n",
       "      <th class=\"col_heading level0 col7\" >ML_CASE1_MEAN</th>\n",
       "      <th class=\"col_heading level0 col8\" >ML_CASE1_Lambda1</th>\n",
       "      <th class=\"col_heading level0 col9\" >ML_CASE1_Lambda1_MEAN</th>\n",
       "      <th class=\"col_heading level0 col10\" >ML_CASE1_Lambda2</th>\n",
       "      <th class=\"col_heading level0 col11\" >ML_CASE1_Lambda2_MEAN</th>\n",
       "      <th class=\"col_heading level0 col12\" >ML_CASE2</th>\n",
       "      <th class=\"col_heading level0 col13\" >ML_CASE2_MEAN</th>\n",
       "      <th class=\"col_heading level0 col14\" >ML_CASE2_Lambda1</th>\n",
       "      <th class=\"col_heading level0 col15\" >ML_CASE2_Lambda1_MEAN</th>\n",
       "      <th class=\"col_heading level0 col16\" >ML_CASE2_Lambda2</th>\n",
       "      <th class=\"col_heading level0 col17\" >ML_CASE2_Lambda2_MEAN</th>\n",
       "    </tr>\n",
       "  </thead>\n",
       "  <tbody>\n",
       "    <tr>\n",
       "      <th id=\"T_24c48_level0_row0\" class=\"row_heading level0 row0\" >Total Employees</th>\n",
       "      <td id=\"T_24c48_row0_col0\" class=\"data row0 col0\" >-148.714531</td>\n",
       "      <td id=\"T_24c48_row0_col1\" class=\"data row0 col1\" >-15.294247</td>\n",
       "      <td id=\"T_24c48_row0_col2\" class=\"data row0 col2\" >-85.678619</td>\n",
       "      <td id=\"T_24c48_row0_col3\" class=\"data row0 col3\" >-6.873949</td>\n",
       "      <td id=\"T_24c48_row0_col4\" class=\"data row0 col4\" >-45.502673</td>\n",
       "      <td id=\"T_24c48_row0_col5\" class=\"data row0 col5\" >-394.551986</td>\n",
       "      <td id=\"T_24c48_row0_col6\" class=\"data row0 col6\" >-144.744011</td>\n",
       "      <td id=\"T_24c48_row0_col7\" class=\"data row0 col7\" >-142.317494</td>\n",
       "      <td id=\"T_24c48_row0_col8\" class=\"data row0 col8\" >-112.588435</td>\n",
       "      <td id=\"T_24c48_row0_col9\" class=\"data row0 col9\" >-112.651398</td>\n",
       "      <td id=\"T_24c48_row0_col10\" class=\"data row0 col10\" >-159.712314</td>\n",
       "      <td id=\"T_24c48_row0_col11\" class=\"data row0 col11\" >-357.056699</td>\n",
       "      <td id=\"T_24c48_row0_col12\" class=\"data row0 col12\" >-126.732768</td>\n",
       "      <td id=\"T_24c48_row0_col13\" class=\"data row0 col13\" >-122.218773</td>\n",
       "      <td id=\"T_24c48_row0_col14\" class=\"data row0 col14\" >-142.381985</td>\n",
       "      <td id=\"T_24c48_row0_col15\" class=\"data row0 col15\" >-137.032179</td>\n",
       "      <td id=\"T_24c48_row0_col16\" class=\"data row0 col16\" >-353.586224</td>\n",
       "      <td id=\"T_24c48_row0_col17\" class=\"data row0 col17\" >-346.716859</td>\n",
       "    </tr>\n",
       "    <tr>\n",
       "      <th id=\"T_24c48_level0_row1\" class=\"row_heading level0 row1\" >Main Occupation</th>\n",
       "      <td id=\"T_24c48_row1_col0\" class=\"data row1 col0\" >8.405533</td>\n",
       "      <td id=\"T_24c48_row1_col1\" class=\"data row1 col1\" >15.137206</td>\n",
       "      <td id=\"T_24c48_row1_col2\" class=\"data row1 col2\" >11.690180</td>\n",
       "      <td id=\"T_24c48_row1_col3\" class=\"data row1 col3\" >25.638451</td>\n",
       "      <td id=\"T_24c48_row1_col4\" class=\"data row1 col4\" >16.544675</td>\n",
       "      <td id=\"T_24c48_row1_col5\" class=\"data row1 col5\" >-96.985615</td>\n",
       "      <td id=\"T_24c48_row1_col6\" class=\"data row1 col6\" >8.675795</td>\n",
       "      <td id=\"T_24c48_row1_col7\" class=\"data row1 col7\" >8.735823</td>\n",
       "      <td id=\"T_24c48_row1_col8\" class=\"data row1 col8\" >11.743292</td>\n",
       "      <td id=\"T_24c48_row1_col9\" class=\"data row1 col9\" >11.420470</td>\n",
       "      <td id=\"T_24c48_row1_col10\" class=\"data row1 col10\" >7.515076</td>\n",
       "      <td id=\"T_24c48_row1_col11\" class=\"data row1 col11\" >-9.037898</td>\n",
       "      <td id=\"T_24c48_row1_col12\" class=\"data row1 col12\" >12.982296</td>\n",
       "      <td id=\"T_24c48_row1_col13\" class=\"data row1 col13\" >17.147994</td>\n",
       "      <td id=\"T_24c48_row1_col14\" class=\"data row1 col14\" >8.888520</td>\n",
       "      <td id=\"T_24c48_row1_col15\" class=\"data row1 col15\" >9.551591</td>\n",
       "      <td id=\"T_24c48_row1_col16\" class=\"data row1 col16\" >-3.590871</td>\n",
       "      <td id=\"T_24c48_row1_col17\" class=\"data row1 col17\" >-1.238174</td>\n",
       "    </tr>\n",
       "    <tr>\n",
       "      <th id=\"T_24c48_level0_row2\" class=\"row_heading level0 row2\" >Employment Status</th>\n",
       "      <td id=\"T_24c48_row2_col0\" class=\"data row2 col0\" >-4.428752</td>\n",
       "      <td id=\"T_24c48_row2_col1\" class=\"data row2 col1\" >2.580386</td>\n",
       "      <td id=\"T_24c48_row2_col2\" class=\"data row2 col2\" >0.654435</td>\n",
       "      <td id=\"T_24c48_row2_col3\" class=\"data row2 col3\" >19.388811</td>\n",
       "      <td id=\"T_24c48_row2_col4\" class=\"data row2 col4\" >7.727508</td>\n",
       "      <td id=\"T_24c48_row2_col5\" class=\"data row2 col5\" >-107.351082</td>\n",
       "      <td id=\"T_24c48_row2_col6\" class=\"data row2 col6\" >-4.287233</td>\n",
       "      <td id=\"T_24c48_row2_col7\" class=\"data row2 col7\" >-4.227608</td>\n",
       "      <td id=\"T_24c48_row2_col8\" class=\"data row2 col8\" >-1.652970</td>\n",
       "      <td id=\"T_24c48_row2_col9\" class=\"data row2 col9\" >-1.773656</td>\n",
       "      <td id=\"T_24c48_row2_col10\" class=\"data row2 col10\" >-5.186633</td>\n",
       "      <td id=\"T_24c48_row2_col11\" class=\"data row2 col11\" >-17.033275</td>\n",
       "      <td id=\"T_24c48_row2_col12\" class=\"data row2 col12\" >-1.564610</td>\n",
       "      <td id=\"T_24c48_row2_col13\" class=\"data row2 col13\" >4.595414</td>\n",
       "      <td id=\"T_24c48_row2_col14\" class=\"data row2 col14\" >-4.456050</td>\n",
       "      <td id=\"T_24c48_row2_col15\" class=\"data row2 col15\" >-4.036522</td>\n",
       "      <td id=\"T_24c48_row2_col16\" class=\"data row2 col16\" >-15.352289</td>\n",
       "      <td id=\"T_24c48_row2_col17\" class=\"data row2 col17\" >-13.269015</td>\n",
       "    </tr>\n",
       "    <tr>\n",
       "      <th id=\"T_24c48_level0_row3\" class=\"row_heading level0 row3\" >Gender</th>\n",
       "      <td id=\"T_24c48_row3_col0\" class=\"data row3 col0\" >0.000000</td>\n",
       "      <td id=\"T_24c48_row3_col1\" class=\"data row3 col1\" >4.562546</td>\n",
       "      <td id=\"T_24c48_row3_col2\" class=\"data row3 col2\" >1.492789</td>\n",
       "      <td id=\"T_24c48_row3_col3\" class=\"data row3 col3\" >11.182820</td>\n",
       "      <td id=\"T_24c48_row3_col4\" class=\"data row3 col4\" >5.464205</td>\n",
       "      <td id=\"T_24c48_row3_col5\" class=\"data row3 col5\" >-84.439830</td>\n",
       "      <td id=\"T_24c48_row3_col6\" class=\"data row3 col6\" >0.089792</td>\n",
       "      <td id=\"T_24c48_row3_col7\" class=\"data row3 col7\" >0.104757</td>\n",
       "      <td id=\"T_24c48_row3_col8\" class=\"data row3 col8\" >1.962325</td>\n",
       "      <td id=\"T_24c48_row3_col9\" class=\"data row3 col9\" >1.818284</td>\n",
       "      <td id=\"T_24c48_row3_col10\" class=\"data row3 col10\" >-0.491984</td>\n",
       "      <td id=\"T_24c48_row3_col11\" class=\"data row3 col11\" >-9.708738</td>\n",
       "      <td id=\"T_24c48_row3_col12\" class=\"data row3 col12\" >1.743457</td>\n",
       "      <td id=\"T_24c48_row3_col13\" class=\"data row3 col13\" >5.900069</td>\n",
       "      <td id=\"T_24c48_row3_col14\" class=\"data row3 col14\" >-0.187066</td>\n",
       "      <td id=\"T_24c48_row3_col15\" class=\"data row3 col15\" >0.028060</td>\n",
       "      <td id=\"T_24c48_row3_col16\" class=\"data row3 col16\" >-8.187889</td>\n",
       "      <td id=\"T_24c48_row3_col17\" class=\"data row3 col17\" >-6.665170</td>\n",
       "    </tr>\n",
       "    <tr>\n",
       "      <th id=\"T_24c48_level0_row4\" class=\"row_heading level0 row4\" >Overall</th>\n",
       "      <td id=\"T_24c48_row4_col0\" class=\"data row4 col0\" >-29.797076</td>\n",
       "      <td id=\"T_24c48_row4_col1\" class=\"data row4 col1\" >3.382068</td>\n",
       "      <td id=\"T_24c48_row4_col2\" class=\"data row4 col2\" >-13.761202</td>\n",
       "      <td id=\"T_24c48_row4_col3\" class=\"data row4 col3\" >14.298780</td>\n",
       "      <td id=\"T_24c48_row4_col4\" class=\"data row4 col4\" >-1.037650</td>\n",
       "      <td id=\"T_24c48_row4_col5\" class=\"data row4 col5\" >-160.130414</td>\n",
       "      <td id=\"T_24c48_row4_col6\" class=\"data row4 col6\" >-28.812065</td>\n",
       "      <td id=\"T_24c48_row4_col7\" class=\"data row4 col7\" >-28.260669</td>\n",
       "      <td id=\"T_24c48_row4_col8\" class=\"data row4 col8\" >-19.937754</td>\n",
       "      <td id=\"T_24c48_row4_col9\" class=\"data row4 col9\" >-20.118043</td>\n",
       "      <td id=\"T_24c48_row4_col10\" class=\"data row4 col10\" >-32.713287</td>\n",
       "      <td id=\"T_24c48_row4_col11\" class=\"data row4 col11\" >-84.858335</td>\n",
       "      <td id=\"T_24c48_row4_col12\" class=\"data row4 col12\" >-22.537473</td>\n",
       "      <td id=\"T_24c48_row4_col13\" class=\"data row4 col13\" >-17.787443</td>\n",
       "      <td id=\"T_24c48_row4_col14\" class=\"data row4 col14\" >-28.339628</td>\n",
       "      <td id=\"T_24c48_row4_col15\" class=\"data row4 col15\" >-26.836121</td>\n",
       "      <td id=\"T_24c48_row4_col16\" class=\"data row4 col16\" >-81.572991</td>\n",
       "      <td id=\"T_24c48_row4_col17\" class=\"data row4 col17\" >-78.497546</td>\n",
       "    </tr>\n",
       "  </tbody>\n",
       "</table>\n"
      ],
      "text/plain": [
       "<pandas.io.formats.style.Styler at 0x12b2e2910>"
      ]
     },
     "execution_count": 34,
     "metadata": {},
     "output_type": "execute_result"
    }
   ],
   "source": [
    "model_ets ='ets'\n",
    "base_errors_labour_ets, percentages_labour_ets= get_results(data_labour, \n",
    "                                                            model_ets, LEVELS_labour, FC_TYPE, column_order_1)\n",
    "\n",
    "percentages_labour_ets['MSE'].style.highlight_max(color = 'lightgreen', axis = 1)"
   ]
  },
  {
   "cell_type": "markdown",
   "metadata": {},
   "source": [
    "### Short horizon"
   ]
  },
  {
   "cell_type": "markdown",
   "metadata": {},
   "source": [
    "ARIMA"
   ]
  },
  {
   "cell_type": "code",
   "execution_count": 35,
   "metadata": {},
   "outputs": [
    {
     "data": {
      "text/html": [
       "<style type=\"text/css\">\n",
       "#T_6a36e_row0_col5, #T_6a36e_row1_col12, #T_6a36e_row2_col12, #T_6a36e_row3_col12, #T_6a36e_row4_col13 {\n",
       "  background-color: lightgreen;\n",
       "}\n",
       "</style>\n",
       "<table id=\"T_6a36e_\">\n",
       "  <thead>\n",
       "    <tr>\n",
       "      <th class=\"blank level0\" >&nbsp;</th>\n",
       "      <th class=\"col_heading level0 col0\" >BU</th>\n",
       "      <th class=\"col_heading level0 col1\" >OLS</th>\n",
       "      <th class=\"col_heading level0 col2\" >WLS</th>\n",
       "      <th class=\"col_heading level0 col3\" >MinT(Sample)</th>\n",
       "      <th class=\"col_heading level0 col4\" >MinT(Shrink)</th>\n",
       "      <th class=\"col_heading level0 col5\" >ERM</th>\n",
       "      <th class=\"col_heading level0 col6\" >ML_CASE1</th>\n",
       "      <th class=\"col_heading level0 col7\" >ML_CASE1_MEAN</th>\n",
       "      <th class=\"col_heading level0 col8\" >ML_CASE1_Lambda1</th>\n",
       "      <th class=\"col_heading level0 col9\" >ML_CASE1_Lambda1_MEAN</th>\n",
       "      <th class=\"col_heading level0 col10\" >ML_CASE1_Lambda2</th>\n",
       "      <th class=\"col_heading level0 col11\" >ML_CASE1_Lambda2_MEAN</th>\n",
       "      <th class=\"col_heading level0 col12\" >ML_CASE2</th>\n",
       "      <th class=\"col_heading level0 col13\" >ML_CASE2_MEAN</th>\n",
       "      <th class=\"col_heading level0 col14\" >ML_CASE2_Lambda1</th>\n",
       "      <th class=\"col_heading level0 col15\" >ML_CASE2_Lambda1_MEAN</th>\n",
       "      <th class=\"col_heading level0 col16\" >ML_CASE2_Lambda2</th>\n",
       "      <th class=\"col_heading level0 col17\" >ML_CASE2_Lambda2_MEAN</th>\n",
       "    </tr>\n",
       "  </thead>\n",
       "  <tbody>\n",
       "    <tr>\n",
       "      <th id=\"T_6a36e_level0_row0\" class=\"row_heading level0 row0\" >Total Employees</th>\n",
       "      <td id=\"T_6a36e_row0_col0\" class=\"data row0 col0\" >54.388774</td>\n",
       "      <td id=\"T_6a36e_row0_col1\" class=\"data row0 col1\" >18.795075</td>\n",
       "      <td id=\"T_6a36e_row0_col2\" class=\"data row0 col2\" >50.141146</td>\n",
       "      <td id=\"T_6a36e_row0_col3\" class=\"data row0 col3\" >27.000877</td>\n",
       "      <td id=\"T_6a36e_row0_col4\" class=\"data row0 col4\" >34.077509</td>\n",
       "      <td id=\"T_6a36e_row0_col5\" class=\"data row0 col5\" >67.837862</td>\n",
       "      <td id=\"T_6a36e_row0_col6\" class=\"data row0 col6\" >54.932413</td>\n",
       "      <td id=\"T_6a36e_row0_col7\" class=\"data row0 col7\" >57.953171</td>\n",
       "      <td id=\"T_6a36e_row0_col8\" class=\"data row0 col8\" >59.511252</td>\n",
       "      <td id=\"T_6a36e_row0_col9\" class=\"data row0 col9\" >56.064285</td>\n",
       "      <td id=\"T_6a36e_row0_col10\" class=\"data row0 col10\" >54.468908</td>\n",
       "      <td id=\"T_6a36e_row0_col11\" class=\"data row0 col11\" >56.965621</td>\n",
       "      <td id=\"T_6a36e_row0_col12\" class=\"data row0 col12\" >48.875222</td>\n",
       "      <td id=\"T_6a36e_row0_col13\" class=\"data row0 col13\" >63.856851</td>\n",
       "      <td id=\"T_6a36e_row0_col14\" class=\"data row0 col14\" >57.679122</td>\n",
       "      <td id=\"T_6a36e_row0_col15\" class=\"data row0 col15\" >57.952090</td>\n",
       "      <td id=\"T_6a36e_row0_col16\" class=\"data row0 col16\" >54.468908</td>\n",
       "      <td id=\"T_6a36e_row0_col17\" class=\"data row0 col17\" >56.965621</td>\n",
       "    </tr>\n",
       "    <tr>\n",
       "      <th id=\"T_6a36e_level0_row1\" class=\"row_heading level0 row1\" >Main Occupation</th>\n",
       "      <td id=\"T_6a36e_row1_col0\" class=\"data row1 col0\" >27.903682</td>\n",
       "      <td id=\"T_6a36e_row1_col1\" class=\"data row1 col1\" >8.149990</td>\n",
       "      <td id=\"T_6a36e_row1_col2\" class=\"data row1 col2\" >15.944961</td>\n",
       "      <td id=\"T_6a36e_row1_col3\" class=\"data row1 col3\" >4.867171</td>\n",
       "      <td id=\"T_6a36e_row1_col4\" class=\"data row1 col4\" >16.486309</td>\n",
       "      <td id=\"T_6a36e_row1_col5\" class=\"data row1 col5\" >-166.857590</td>\n",
       "      <td id=\"T_6a36e_row1_col6\" class=\"data row1 col6\" >28.857381</td>\n",
       "      <td id=\"T_6a36e_row1_col7\" class=\"data row1 col7\" >30.705241</td>\n",
       "      <td id=\"T_6a36e_row1_col8\" class=\"data row1 col8\" >31.301716</td>\n",
       "      <td id=\"T_6a36e_row1_col9\" class=\"data row1 col9\" >31.511750</td>\n",
       "      <td id=\"T_6a36e_row1_col10\" class=\"data row1 col10\" >25.757033</td>\n",
       "      <td id=\"T_6a36e_row1_col11\" class=\"data row1 col11\" >25.929581</td>\n",
       "      <td id=\"T_6a36e_row1_col12\" class=\"data row1 col12\" >40.603862</td>\n",
       "      <td id=\"T_6a36e_row1_col13\" class=\"data row1 col13\" >37.845302</td>\n",
       "      <td id=\"T_6a36e_row1_col14\" class=\"data row1 col14\" >25.953285</td>\n",
       "      <td id=\"T_6a36e_row1_col15\" class=\"data row1 col15\" >27.591663</td>\n",
       "      <td id=\"T_6a36e_row1_col16\" class=\"data row1 col16\" >25.757033</td>\n",
       "      <td id=\"T_6a36e_row1_col17\" class=\"data row1 col17\" >25.929581</td>\n",
       "    </tr>\n",
       "    <tr>\n",
       "      <th id=\"T_6a36e_level0_row2\" class=\"row_heading level0 row2\" >Employment Status</th>\n",
       "      <td id=\"T_6a36e_row2_col0\" class=\"data row2 col0\" >10.929656</td>\n",
       "      <td id=\"T_6a36e_row2_col1\" class=\"data row2 col1\" >-2.106091</td>\n",
       "      <td id=\"T_6a36e_row2_col2\" class=\"data row2 col2\" >2.086736</td>\n",
       "      <td id=\"T_6a36e_row2_col3\" class=\"data row2 col3\" >-12.716385</td>\n",
       "      <td id=\"T_6a36e_row2_col4\" class=\"data row2 col4\" >1.981492</td>\n",
       "      <td id=\"T_6a36e_row2_col5\" class=\"data row2 col5\" >-83.041190</td>\n",
       "      <td id=\"T_6a36e_row2_col6\" class=\"data row2 col6\" >8.900986</td>\n",
       "      <td id=\"T_6a36e_row2_col7\" class=\"data row2 col7\" >9.897780</td>\n",
       "      <td id=\"T_6a36e_row2_col8\" class=\"data row2 col8\" >12.826468</td>\n",
       "      <td id=\"T_6a36e_row2_col9\" class=\"data row2 col9\" >13.941813</td>\n",
       "      <td id=\"T_6a36e_row2_col10\" class=\"data row2 col10\" >7.324744</td>\n",
       "      <td id=\"T_6a36e_row2_col11\" class=\"data row2 col11\" >7.704591</td>\n",
       "      <td id=\"T_6a36e_row2_col12\" class=\"data row2 col12\" >19.102401</td>\n",
       "      <td id=\"T_6a36e_row2_col13\" class=\"data row2 col13\" >16.201536</td>\n",
       "      <td id=\"T_6a36e_row2_col14\" class=\"data row2 col14\" >8.835662</td>\n",
       "      <td id=\"T_6a36e_row2_col15\" class=\"data row2 col15\" >10.265530</td>\n",
       "      <td id=\"T_6a36e_row2_col16\" class=\"data row2 col16\" >7.324744</td>\n",
       "      <td id=\"T_6a36e_row2_col17\" class=\"data row2 col17\" >7.704591</td>\n",
       "    </tr>\n",
       "    <tr>\n",
       "      <th id=\"T_6a36e_level0_row3\" class=\"row_heading level0 row3\" >Gender</th>\n",
       "      <td id=\"T_6a36e_row3_col0\" class=\"data row3 col0\" >0.000000</td>\n",
       "      <td id=\"T_6a36e_row3_col1\" class=\"data row3 col1\" >-8.152273</td>\n",
       "      <td id=\"T_6a36e_row3_col2\" class=\"data row3 col2\" >-10.488410</td>\n",
       "      <td id=\"T_6a36e_row3_col3\" class=\"data row3 col3\" >-34.612359</td>\n",
       "      <td id=\"T_6a36e_row3_col4\" class=\"data row3 col4\" >-13.233069</td>\n",
       "      <td id=\"T_6a36e_row3_col5\" class=\"data row3 col5\" >-85.834897</td>\n",
       "      <td id=\"T_6a36e_row3_col6\" class=\"data row3 col6\" >-4.856866</td>\n",
       "      <td id=\"T_6a36e_row3_col7\" class=\"data row3 col7\" >-3.576832</td>\n",
       "      <td id=\"T_6a36e_row3_col8\" class=\"data row3 col8\" >0.438782</td>\n",
       "      <td id=\"T_6a36e_row3_col9\" class=\"data row3 col9\" >1.174121</td>\n",
       "      <td id=\"T_6a36e_row3_col10\" class=\"data row3 col10\" >-2.345216</td>\n",
       "      <td id=\"T_6a36e_row3_col11\" class=\"data row3 col11\" >-2.224172</td>\n",
       "      <td id=\"T_6a36e_row3_col12\" class=\"data row3 col12\" >5.934152</td>\n",
       "      <td id=\"T_6a36e_row3_col13\" class=\"data row3 col13\" >3.625250</td>\n",
       "      <td id=\"T_6a36e_row3_col14\" class=\"data row3 col14\" >-0.829147</td>\n",
       "      <td id=\"T_6a36e_row3_col15\" class=\"data row3 col15\" >-0.090783</td>\n",
       "      <td id=\"T_6a36e_row3_col16\" class=\"data row3 col16\" >-2.345216</td>\n",
       "      <td id=\"T_6a36e_row3_col17\" class=\"data row3 col17\" >-2.224172</td>\n",
       "    </tr>\n",
       "    <tr>\n",
       "      <th id=\"T_6a36e_level0_row4\" class=\"row_heading level0 row4\" >Overall</th>\n",
       "      <td id=\"T_6a36e_row4_col0\" class=\"data row4 col0\" >20.824709</td>\n",
       "      <td id=\"T_6a36e_row4_col1\" class=\"data row4 col1\" >3.133495</td>\n",
       "      <td id=\"T_6a36e_row4_col2\" class=\"data row4 col2\" >11.355645</td>\n",
       "      <td id=\"T_6a36e_row4_col3\" class=\"data row4 col3\" >-5.770717</td>\n",
       "      <td id=\"T_6a36e_row4_col4\" class=\"data row4 col4\" >8.262051</td>\n",
       "      <td id=\"T_6a36e_row4_col5\" class=\"data row4 col5\" >-85.872466</td>\n",
       "      <td id=\"T_6a36e_row4_col6\" class=\"data row4 col6\" >19.504227</td>\n",
       "      <td id=\"T_6a36e_row4_col7\" class=\"data row4 col7\" >21.165116</td>\n",
       "      <td id=\"T_6a36e_row4_col8\" class=\"data row4 col8\" >23.382129</td>\n",
       "      <td id=\"T_6a36e_row4_col9\" class=\"data row4 col9\" >23.383376</td>\n",
       "      <td id=\"T_6a36e_row4_col10\" class=\"data row4 col10\" >18.570289</td>\n",
       "      <td id=\"T_6a36e_row4_col11\" class=\"data row4 col11\" >19.167560</td>\n",
       "      <td id=\"T_6a36e_row4_col12\" class=\"data row4 col12\" >27.701439</td>\n",
       "      <td id=\"T_6a36e_row4_col13\" class=\"data row4 col13\" >27.877254</td>\n",
       "      <td id=\"T_6a36e_row4_col14\" class=\"data row4 col14\" >19.939400</td>\n",
       "      <td id=\"T_6a36e_row4_col15\" class=\"data row4 col15\" >21.089055</td>\n",
       "      <td id=\"T_6a36e_row4_col16\" class=\"data row4 col16\" >18.570289</td>\n",
       "      <td id=\"T_6a36e_row4_col17\" class=\"data row4 col17\" >19.167560</td>\n",
       "    </tr>\n",
       "  </tbody>\n",
       "</table>\n"
      ],
      "text/plain": [
       "<pandas.io.formats.style.Styler at 0x12b2dca00>"
      ]
     },
     "execution_count": 35,
     "metadata": {},
     "output_type": "execute_result"
    }
   ],
   "source": [
    "model_arima ='arima'\n",
    "base_errors_labour_arima, percentages_labour_arima = get_results(data_labour, \n",
    "                                                                 model_arima, LEVELS_labour, FC_TYPE, column_order_1,\n",
    "                                                                True)\n",
    "\n",
    "percentages_labour_arima['MSE'].style.highlight_max(color = 'lightgreen', axis = 1)"
   ]
  },
  {
   "cell_type": "markdown",
   "metadata": {},
   "source": [
    "ETS"
   ]
  },
  {
   "cell_type": "code",
   "execution_count": 36,
   "metadata": {},
   "outputs": [
    {
     "data": {
      "text/html": [
       "<style type=\"text/css\">\n",
       "#T_a3608_row0_col13, #T_a3608_row1_col0, #T_a3608_row2_col13, #T_a3608_row3_col0, #T_a3608_row4_col13 {\n",
       "  background-color: lightgreen;\n",
       "}\n",
       "</style>\n",
       "<table id=\"T_a3608_\">\n",
       "  <thead>\n",
       "    <tr>\n",
       "      <th class=\"blank level0\" >&nbsp;</th>\n",
       "      <th class=\"col_heading level0 col0\" >BU</th>\n",
       "      <th class=\"col_heading level0 col1\" >OLS</th>\n",
       "      <th class=\"col_heading level0 col2\" >WLS</th>\n",
       "      <th class=\"col_heading level0 col3\" >MinT(Sample)</th>\n",
       "      <th class=\"col_heading level0 col4\" >MinT(Shrink)</th>\n",
       "      <th class=\"col_heading level0 col5\" >ERM</th>\n",
       "      <th class=\"col_heading level0 col6\" >ML_CASE1</th>\n",
       "      <th class=\"col_heading level0 col7\" >ML_CASE1_MEAN</th>\n",
       "      <th class=\"col_heading level0 col8\" >ML_CASE1_Lambda1</th>\n",
       "      <th class=\"col_heading level0 col9\" >ML_CASE1_Lambda1_MEAN</th>\n",
       "      <th class=\"col_heading level0 col10\" >ML_CASE1_Lambda2</th>\n",
       "      <th class=\"col_heading level0 col11\" >ML_CASE1_Lambda2_MEAN</th>\n",
       "      <th class=\"col_heading level0 col12\" >ML_CASE2</th>\n",
       "      <th class=\"col_heading level0 col13\" >ML_CASE2_MEAN</th>\n",
       "      <th class=\"col_heading level0 col14\" >ML_CASE2_Lambda1</th>\n",
       "      <th class=\"col_heading level0 col15\" >ML_CASE2_Lambda1_MEAN</th>\n",
       "      <th class=\"col_heading level0 col16\" >ML_CASE2_Lambda2</th>\n",
       "      <th class=\"col_heading level0 col17\" >ML_CASE2_Lambda2_MEAN</th>\n",
       "    </tr>\n",
       "  </thead>\n",
       "  <tbody>\n",
       "    <tr>\n",
       "      <th id=\"T_a3608_level0_row0\" class=\"row_heading level0 row0\" >Total Employees</th>\n",
       "      <td id=\"T_a3608_row0_col0\" class=\"data row0 col0\" >61.946867</td>\n",
       "      <td id=\"T_a3608_row0_col1\" class=\"data row0 col1\" >23.221948</td>\n",
       "      <td id=\"T_a3608_row0_col2\" class=\"data row0 col2\" >66.756058</td>\n",
       "      <td id=\"T_a3608_row0_col3\" class=\"data row0 col3\" >67.246988</td>\n",
       "      <td id=\"T_a3608_row0_col4\" class=\"data row0 col4\" >54.053489</td>\n",
       "      <td id=\"T_a3608_row0_col5\" class=\"data row0 col5\" >-15.766687</td>\n",
       "      <td id=\"T_a3608_row0_col6\" class=\"data row0 col6\" >62.649755</td>\n",
       "      <td id=\"T_a3608_row0_col7\" class=\"data row0 col7\" >62.981072</td>\n",
       "      <td id=\"T_a3608_row0_col8\" class=\"data row0 col8\" >64.570639</td>\n",
       "      <td id=\"T_a3608_row0_col9\" class=\"data row0 col9\" >65.068376</td>\n",
       "      <td id=\"T_a3608_row0_col10\" class=\"data row0 col10\" >59.681054</td>\n",
       "      <td id=\"T_a3608_row0_col11\" class=\"data row0 col11\" >-53.078436</td>\n",
       "      <td id=\"T_a3608_row0_col12\" class=\"data row0 col12\" >75.381665</td>\n",
       "      <td id=\"T_a3608_row0_col13\" class=\"data row0 col13\" >77.348907</td>\n",
       "      <td id=\"T_a3608_row0_col14\" class=\"data row0 col14\" >63.028134</td>\n",
       "      <td id=\"T_a3608_row0_col15\" class=\"data row0 col15\" >63.727032</td>\n",
       "      <td id=\"T_a3608_row0_col16\" class=\"data row0 col16\" >-39.911931</td>\n",
       "      <td id=\"T_a3608_row0_col17\" class=\"data row0 col17\" >-35.577004</td>\n",
       "    </tr>\n",
       "    <tr>\n",
       "      <th id=\"T_a3608_level0_row1\" class=\"row_heading level0 row1\" >Main Occupation</th>\n",
       "      <td id=\"T_a3608_row1_col0\" class=\"data row1 col0\" >17.491130</td>\n",
       "      <td id=\"T_a3608_row1_col1\" class=\"data row1 col1\" >1.699814</td>\n",
       "      <td id=\"T_a3608_row1_col2\" class=\"data row1 col2\" >8.599841</td>\n",
       "      <td id=\"T_a3608_row1_col3\" class=\"data row1 col3\" >-19.028022</td>\n",
       "      <td id=\"T_a3608_row1_col4\" class=\"data row1 col4\" >6.994762</td>\n",
       "      <td id=\"T_a3608_row1_col5\" class=\"data row1 col5\" >-173.911443</td>\n",
       "      <td id=\"T_a3608_row1_col6\" class=\"data row1 col6\" >17.138737</td>\n",
       "      <td id=\"T_a3608_row1_col7\" class=\"data row1 col7\" >16.975815</td>\n",
       "      <td id=\"T_a3608_row1_col8\" class=\"data row1 col8\" >12.576935</td>\n",
       "      <td id=\"T_a3608_row1_col9\" class=\"data row1 col9\" >12.670464</td>\n",
       "      <td id=\"T_a3608_row1_col10\" class=\"data row1 col10\" >16.327750</td>\n",
       "      <td id=\"T_a3608_row1_col11\" class=\"data row1 col11\" >8.410369</td>\n",
       "      <td id=\"T_a3608_row1_col12\" class=\"data row1 col12\" >15.957858</td>\n",
       "      <td id=\"T_a3608_row1_col13\" class=\"data row1 col13\" >16.158191</td>\n",
       "      <td id=\"T_a3608_row1_col14\" class=\"data row1 col14\" >17.048828</td>\n",
       "      <td id=\"T_a3608_row1_col15\" class=\"data row1 col15\" >16.612561</td>\n",
       "      <td id=\"T_a3608_row1_col16\" class=\"data row1 col16\" >9.962347</td>\n",
       "      <td id=\"T_a3608_row1_col17\" class=\"data row1 col17\" >12.718134</td>\n",
       "    </tr>\n",
       "    <tr>\n",
       "      <th id=\"T_a3608_level0_row2\" class=\"row_heading level0 row2\" >Employment Status</th>\n",
       "      <td id=\"T_a3608_row2_col0\" class=\"data row2 col0\" >6.179319</td>\n",
       "      <td id=\"T_a3608_row2_col1\" class=\"data row2 col1\" >-2.929149</td>\n",
       "      <td id=\"T_a3608_row2_col2\" class=\"data row2 col2\" >0.682003</td>\n",
       "      <td id=\"T_a3608_row2_col3\" class=\"data row2 col3\" >-11.338297</td>\n",
       "      <td id=\"T_a3608_row2_col4\" class=\"data row2 col4\" >-0.166505</td>\n",
       "      <td id=\"T_a3608_row2_col5\" class=\"data row2 col5\" >-189.265115</td>\n",
       "      <td id=\"T_a3608_row2_col6\" class=\"data row2 col6\" >5.912911</td>\n",
       "      <td id=\"T_a3608_row2_col7\" class=\"data row2 col7\" >5.856966</td>\n",
       "      <td id=\"T_a3608_row2_col8\" class=\"data row2 col8\" >1.815566</td>\n",
       "      <td id=\"T_a3608_row2_col9\" class=\"data row2 col9\" >1.274759</td>\n",
       "      <td id=\"T_a3608_row2_col10\" class=\"data row2 col10\" >4.915216</td>\n",
       "      <td id=\"T_a3608_row2_col11\" class=\"data row2 col11\" >2.217841</td>\n",
       "      <td id=\"T_a3608_row2_col12\" class=\"data row2 col12\" >5.441370</td>\n",
       "      <td id=\"T_a3608_row2_col13\" class=\"data row2 col13\" >7.840369</td>\n",
       "      <td id=\"T_a3608_row2_col14\" class=\"data row2 col14\" >5.553261</td>\n",
       "      <td id=\"T_a3608_row2_col15\" class=\"data row2 col15\" >5.326815</td>\n",
       "      <td id=\"T_a3608_row2_col16\" class=\"data row2 col16\" >-5.527953</td>\n",
       "      <td id=\"T_a3608_row2_col17\" class=\"data row2 col17\" >-2.863879</td>\n",
       "    </tr>\n",
       "    <tr>\n",
       "      <th id=\"T_a3608_level0_row3\" class=\"row_heading level0 row3\" >Gender</th>\n",
       "      <td id=\"T_a3608_row3_col0\" class=\"data row3 col0\" >0.000000</td>\n",
       "      <td id=\"T_a3608_row3_col1\" class=\"data row3 col1\" >-5.383283</td>\n",
       "      <td id=\"T_a3608_row3_col2\" class=\"data row3 col2\" >-6.831418</td>\n",
       "      <td id=\"T_a3608_row3_col3\" class=\"data row3 col3\" >-6.242720</td>\n",
       "      <td id=\"T_a3608_row3_col4\" class=\"data row3 col4\" >-8.695105</td>\n",
       "      <td id=\"T_a3608_row3_col5\" class=\"data row3 col5\" >-149.013065</td>\n",
       "      <td id=\"T_a3608_row3_col6\" class=\"data row3 col6\" >-0.160554</td>\n",
       "      <td id=\"T_a3608_row3_col7\" class=\"data row3 col7\" >-0.220368</td>\n",
       "      <td id=\"T_a3608_row3_col8\" class=\"data row3 col8\" >-2.436644</td>\n",
       "      <td id=\"T_a3608_row3_col9\" class=\"data row3 col9\" >-2.871085</td>\n",
       "      <td id=\"T_a3608_row3_col10\" class=\"data row3 col10\" >-0.749252</td>\n",
       "      <td id=\"T_a3608_row3_col11\" class=\"data row3 col11\" >-3.645522</td>\n",
       "      <td id=\"T_a3608_row3_col12\" class=\"data row3 col12\" >-2.383126</td>\n",
       "      <td id=\"T_a3608_row3_col13\" class=\"data row3 col13\" >-0.859436</td>\n",
       "      <td id=\"T_a3608_row3_col14\" class=\"data row3 col14\" >-0.897214</td>\n",
       "      <td id=\"T_a3608_row3_col15\" class=\"data row3 col15\" >-0.768141</td>\n",
       "      <td id=\"T_a3608_row3_col16\" class=\"data row3 col16\" >-7.435857</td>\n",
       "      <td id=\"T_a3608_row3_col17\" class=\"data row3 col17\" >-5.761058</td>\n",
       "    </tr>\n",
       "    <tr>\n",
       "      <th id=\"T_a3608_level0_row4\" class=\"row_heading level0 row4\" >Overall</th>\n",
       "      <td id=\"T_a3608_row4_col0\" class=\"data row4 col0\" >18.971912</td>\n",
       "      <td id=\"T_a3608_row4_col1\" class=\"data row4 col1\" >2.969629</td>\n",
       "      <td id=\"T_a3608_row4_col2\" class=\"data row4 col2\" >14.141401</td>\n",
       "      <td id=\"T_a3608_row4_col3\" class=\"data row4 col3\" >2.754364</td>\n",
       "      <td id=\"T_a3608_row4_col4\" class=\"data row4 col4\" >10.531162</td>\n",
       "      <td id=\"T_a3608_row4_col5\" class=\"data row4 col5\" >-141.692818</td>\n",
       "      <td id=\"T_a3608_row4_col6\" class=\"data row4 col6\" >18.892808</td>\n",
       "      <td id=\"T_a3608_row4_col7\" class=\"data row4 col7\" >18.878543</td>\n",
       "      <td id=\"T_a3608_row4_col8\" class=\"data row4 col8\" >16.243484</td>\n",
       "      <td id=\"T_a3608_row4_col9\" class=\"data row4 col9\" >16.118993</td>\n",
       "      <td id=\"T_a3608_row4_col10\" class=\"data row4 col10\" >17.663459</td>\n",
       "      <td id=\"T_a3608_row4_col11\" class=\"data row4 col11\" >-7.989470</td>\n",
       "      <td id=\"T_a3608_row4_col12\" class=\"data row4 col12\" >20.362061</td>\n",
       "      <td id=\"T_a3608_row4_col13\" class=\"data row4 col13\" >21.811863</td>\n",
       "      <td id=\"T_a3608_row4_col14\" class=\"data row4 col14\" >18.669762</td>\n",
       "      <td id=\"T_a3608_row4_col15\" class=\"data row4 col15\" >18.642529</td>\n",
       "      <td id=\"T_a3608_row4_col16\" class=\"data row4 col16\" >-7.962238</td>\n",
       "      <td id=\"T_a3608_row4_col17\" class=\"data row4 col17\" >-5.175455</td>\n",
       "    </tr>\n",
       "  </tbody>\n",
       "</table>\n"
      ],
      "text/plain": [
       "<pandas.io.formats.style.Styler at 0x129e85fd0>"
      ]
     },
     "execution_count": 36,
     "metadata": {},
     "output_type": "execute_result"
    }
   ],
   "source": [
    "model_ets ='ets'\n",
    "base_errors_labour_ets, percentages_labour_ets= get_results(data_labour, \n",
    "                                                            model_ets, LEVELS_labour, FC_TYPE, column_order_1,\n",
    "                                                           True)\n",
    "\n",
    "percentages_labour_ets['MSE'].style.highlight_max(color = 'lightgreen', axis = 1)"
   ]
  }
 ],
 "metadata": {
  "kernelspec": {
   "display_name": "Python 3 (ipykernel)",
   "language": "python",
   "name": "python3"
  },
  "language_info": {
   "codemirror_mode": {
    "name": "ipython",
    "version": 3
   },
   "file_extension": ".py",
   "mimetype": "text/x-python",
   "name": "python",
   "nbconvert_exporter": "python",
   "pygments_lexer": "ipython3",
   "version": "3.8.10"
  }
 },
 "nbformat": 4,
 "nbformat_minor": 1
}
