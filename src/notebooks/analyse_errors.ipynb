{
 "cells": [
  {
   "cell_type": "markdown",
   "metadata": {
    "collapsed": true
   },
   "source": [
    "# Results"
   ]
  },
  {
   "cell_type": "code",
   "execution_count": 1,
   "metadata": {},
   "outputs": [],
   "source": [
    "import pandas as pd"
   ]
  },
  {
   "cell_type": "code",
   "execution_count": 2,
   "metadata": {},
   "outputs": [],
   "source": [
    "RESULTS_PATH = '../results/errors/'"
   ]
  },
  {
   "cell_type": "code",
   "execution_count": 6,
   "metadata": {},
   "outputs": [],
   "source": [
    "def get_error_table(data_frame, LEVELS):\n",
    "    errors = data_frame.groupby(by=['error_metric', 'level']).mean().reset_index().round(2)\n",
    "    errors = pd.pivot(errors, values ='error', columns='error_metric', index='level')\n",
    "    errors.index = LEVELS\n",
    "    overall_error = data_frame.groupby(by='error_metric').mean()[['error']].transpose()\n",
    "    overall_error.index = ['Overall']\n",
    "    return errors.append(overall_error)"
   ]
  },
  {
   "cell_type": "markdown",
   "metadata": {},
   "source": [
    "## PRISON DATASET"
   ]
  },
  {
   "cell_type": "markdown",
   "metadata": {},
   "source": [
    "### ARIMA"
   ]
  },
  {
   "cell_type": "code",
   "execution_count": 14,
   "metadata": {},
   "outputs": [],
   "source": [
    "# read error metrics\n",
    "LEVELS = ['Australia', 'State', 'Gender', 'Legal', 'Indigenous']\n",
    "data = 'prison'\n",
    "model ='arima'\n",
    "file_name = f'{data}_{model}'\n",
    "\n",
    "base_forecast = pd.read_csv(f'{RESULTS_PATH}{file_name}_base_errors.csv', index_col=0)\n",
    "adjusted_forecast_ml = pd.read_csv(f'{RESULTS_PATH}{file_name}_adjusted_errors.csv', index_col=0)\n",
    "adjusted_forecast_ml_hf_val_loss = pd.read_csv(f'{RESULTS_PATH}{file_name}_hf_val_loss_errors.csv', index_col=0)"
   ]
  },
  {
   "cell_type": "code",
   "execution_count": 15,
   "metadata": {},
   "outputs": [
    {
     "data": {
      "text/html": [
       "<div>\n",
       "<style scoped>\n",
       "    .dataframe tbody tr th:only-of-type {\n",
       "        vertical-align: middle;\n",
       "    }\n",
       "\n",
       "    .dataframe tbody tr th {\n",
       "        vertical-align: top;\n",
       "    }\n",
       "\n",
       "    .dataframe thead th {\n",
       "        text-align: right;\n",
       "    }\n",
       "</style>\n",
       "<table border=\"1\" class=\"dataframe\">\n",
       "  <thead>\n",
       "    <tr style=\"text-align: right;\">\n",
       "      <th>error_metric</th>\n",
       "      <th>MAE</th>\n",
       "      <th>MSE</th>\n",
       "      <th>SMAPE</th>\n",
       "    </tr>\n",
       "  </thead>\n",
       "  <tbody>\n",
       "    <tr>\n",
       "      <th>Australia</th>\n",
       "      <td>505.960000</td>\n",
       "      <td>424138.76000</td>\n",
       "      <td>1.330000</td>\n",
       "    </tr>\n",
       "    <tr>\n",
       "      <th>State</th>\n",
       "      <td>369.950000</td>\n",
       "      <td>385049.52000</td>\n",
       "      <td>7.930000</td>\n",
       "    </tr>\n",
       "    <tr>\n",
       "      <th>Gender</th>\n",
       "      <td>187.610000</td>\n",
       "      <td>148874.19000</td>\n",
       "      <td>11.220000</td>\n",
       "    </tr>\n",
       "    <tr>\n",
       "      <th>Legal</th>\n",
       "      <td>111.090000</td>\n",
       "      <td>48125.76000</td>\n",
       "      <td>17.650000</td>\n",
       "    </tr>\n",
       "    <tr>\n",
       "      <th>Indigenous</th>\n",
       "      <td>59.630000</td>\n",
       "      <td>18835.82000</td>\n",
       "      <td>21.900000</td>\n",
       "    </tr>\n",
       "    <tr>\n",
       "      <th>Overall</th>\n",
       "      <td>114.369513</td>\n",
       "      <td>71339.16256</td>\n",
       "      <td>18.270642</td>\n",
       "    </tr>\n",
       "  </tbody>\n",
       "</table>\n",
       "</div>"
      ],
      "text/plain": [
       "error_metric         MAE           MSE      SMAPE\n",
       "Australia     505.960000  424138.76000   1.330000\n",
       "State         369.950000  385049.52000   7.930000\n",
       "Gender        187.610000  148874.19000  11.220000\n",
       "Legal         111.090000   48125.76000  17.650000\n",
       "Indigenous     59.630000   18835.82000  21.900000\n",
       "Overall       114.369513   71339.16256  18.270642"
      ]
     },
     "execution_count": 15,
     "metadata": {},
     "output_type": "execute_result"
    }
   ],
   "source": [
    "base_arima_errors = get_error_table(base_forecast, LEVELS)\n",
    "base_arima_errors"
   ]
  },
  {
   "cell_type": "code",
   "execution_count": 19,
   "metadata": {},
   "outputs": [],
   "source": [
    "adjusted_ml_errors = get_error_table(adjusted_forecast_ml, LEVELS)\n",
    "adjusted_forecast_ml_hf_val_loss_errors = get_error_table(adjusted_forecast_ml_hf_val_loss, LEVELS)"
   ]
  },
  {
   "cell_type": "code",
   "execution_count": 20,
   "metadata": {},
   "outputs": [
    {
     "data": {
      "text/html": [
       "<div>\n",
       "<style scoped>\n",
       "    .dataframe tbody tr th:only-of-type {\n",
       "        vertical-align: middle;\n",
       "    }\n",
       "\n",
       "    .dataframe tbody tr th {\n",
       "        vertical-align: top;\n",
       "    }\n",
       "\n",
       "    .dataframe thead th {\n",
       "        text-align: right;\n",
       "    }\n",
       "</style>\n",
       "<table border=\"1\" class=\"dataframe\">\n",
       "  <thead>\n",
       "    <tr style=\"text-align: right;\">\n",
       "      <th>error_metric</th>\n",
       "      <th>MAE</th>\n",
       "      <th>MSE</th>\n",
       "      <th>SMAPE</th>\n",
       "    </tr>\n",
       "  </thead>\n",
       "  <tbody>\n",
       "    <tr>\n",
       "      <th>Australia</th>\n",
       "      <td>-174.756898</td>\n",
       "      <td>-622.336169</td>\n",
       "      <td>-179.699248</td>\n",
       "    </tr>\n",
       "    <tr>\n",
       "      <th>State</th>\n",
       "      <td>12.985539</td>\n",
       "      <td>14.292559</td>\n",
       "      <td>7.944515</td>\n",
       "    </tr>\n",
       "    <tr>\n",
       "      <th>Gender</th>\n",
       "      <td>10.500506</td>\n",
       "      <td>10.937443</td>\n",
       "      <td>-0.356506</td>\n",
       "    </tr>\n",
       "    <tr>\n",
       "      <th>Legal</th>\n",
       "      <td>2.430462</td>\n",
       "      <td>-1.613065</td>\n",
       "      <td>-1.813031</td>\n",
       "    </tr>\n",
       "    <tr>\n",
       "      <th>Indigenous</th>\n",
       "      <td>2.783834</td>\n",
       "      <td>6.945543</td>\n",
       "      <td>1.917808</td>\n",
       "    </tr>\n",
       "    <tr>\n",
       "      <th>Overall</th>\n",
       "      <td>0.058185</td>\n",
       "      <td>-21.778018</td>\n",
       "      <td>0.850431</td>\n",
       "    </tr>\n",
       "  </tbody>\n",
       "</table>\n",
       "</div>"
      ],
      "text/plain": [
       "error_metric         MAE         MSE       SMAPE\n",
       "Australia    -174.756898 -622.336169 -179.699248\n",
       "State          12.985539   14.292559    7.944515\n",
       "Gender         10.500506   10.937443   -0.356506\n",
       "Legal           2.430462   -1.613065   -1.813031\n",
       "Indigenous      2.783834    6.945543    1.917808\n",
       "Overall         0.058185  -21.778018    0.850431"
      ]
     },
     "execution_count": 20,
     "metadata": {},
     "output_type": "execute_result"
    }
   ],
   "source": [
    "pc_improvement = (base_arima_errors - adjusted_ml_errors)/base_arima_errors*100\n",
    "pc_improvement"
   ]
  },
  {
   "cell_type": "code",
   "execution_count": 21,
   "metadata": {},
   "outputs": [
    {
     "data": {
      "text/html": [
       "<div>\n",
       "<style scoped>\n",
       "    .dataframe tbody tr th:only-of-type {\n",
       "        vertical-align: middle;\n",
       "    }\n",
       "\n",
       "    .dataframe tbody tr th {\n",
       "        vertical-align: top;\n",
       "    }\n",
       "\n",
       "    .dataframe thead th {\n",
       "        text-align: right;\n",
       "    }\n",
       "</style>\n",
       "<table border=\"1\" class=\"dataframe\">\n",
       "  <thead>\n",
       "    <tr style=\"text-align: right;\">\n",
       "      <th>error_metric</th>\n",
       "      <th>MAE</th>\n",
       "      <th>MSE</th>\n",
       "      <th>SMAPE</th>\n",
       "    </tr>\n",
       "  </thead>\n",
       "  <tbody>\n",
       "    <tr>\n",
       "      <th>Australia</th>\n",
       "      <td>-220.288165</td>\n",
       "      <td>-836.095253</td>\n",
       "      <td>-227.067669</td>\n",
       "    </tr>\n",
       "    <tr>\n",
       "      <th>State</th>\n",
       "      <td>13.966752</td>\n",
       "      <td>14.372837</td>\n",
       "      <td>-6.305170</td>\n",
       "    </tr>\n",
       "    <tr>\n",
       "      <th>Gender</th>\n",
       "      <td>12.403390</td>\n",
       "      <td>12.183986</td>\n",
       "      <td>-57.575758</td>\n",
       "    </tr>\n",
       "    <tr>\n",
       "      <th>Legal</th>\n",
       "      <td>1.656315</td>\n",
       "      <td>-4.502931</td>\n",
       "      <td>-46.685552</td>\n",
       "    </tr>\n",
       "    <tr>\n",
       "      <th>Indigenous</th>\n",
       "      <td>2.096260</td>\n",
       "      <td>5.090461</td>\n",
       "      <td>-47.168950</td>\n",
       "    </tr>\n",
       "    <tr>\n",
       "      <th>Overall</th>\n",
       "      <td>-1.372317</td>\n",
       "      <td>-32.683167</td>\n",
       "      <td>-46.827007</td>\n",
       "    </tr>\n",
       "  </tbody>\n",
       "</table>\n",
       "</div>"
      ],
      "text/plain": [
       "error_metric         MAE         MSE       SMAPE\n",
       "Australia    -220.288165 -836.095253 -227.067669\n",
       "State          13.966752   14.372837   -6.305170\n",
       "Gender         12.403390   12.183986  -57.575758\n",
       "Legal           1.656315   -4.502931  -46.685552\n",
       "Indigenous      2.096260    5.090461  -47.168950\n",
       "Overall        -1.372317  -32.683167  -46.827007"
      ]
     },
     "execution_count": 21,
     "metadata": {},
     "output_type": "execute_result"
    }
   ],
   "source": [
    "pc_improvement_hf_val_loss = (base_arima_errors - adjusted_forecast_ml_hf_val_loss_errors)/base_arima_errors*100\n",
    "pc_improvement_hf_val_loss"
   ]
  },
  {
   "cell_type": "markdown",
   "metadata": {},
   "source": [
    "## TOURISM DATASET"
   ]
  },
  {
   "cell_type": "markdown",
   "metadata": {},
   "source": [
    "### ARIMA"
   ]
  },
  {
   "cell_type": "code",
   "execution_count": 22,
   "metadata": {},
   "outputs": [],
   "source": [
    "# read error metrics\n",
    "LEVELS = ['Australia', 'States', 'Region']\n",
    "data = 'tourism'\n",
    "model ='arima'\n",
    "file_name = f'{data}_{model}'\n",
    "\n",
    "base_forecast = pd.read_csv(f'{RESULTS_PATH}{file_name}_base_errors.csv', index_col=0)\n",
    "adjusted_forecast_ml = pd.read_csv(f'{RESULTS_PATH}{file_name}_adjusted_errors.csv', index_col=0)\n",
    "adjusted_forecast_ml_hf_val_loss = pd.read_csv(f'{RESULTS_PATH}{file_name}_hf_val_loss_errors.csv', index_col=0)"
   ]
  },
  {
   "cell_type": "code",
   "execution_count": 23,
   "metadata": {},
   "outputs": [
    {
     "data": {
      "text/html": [
       "<div>\n",
       "<style scoped>\n",
       "    .dataframe tbody tr th:only-of-type {\n",
       "        vertical-align: middle;\n",
       "    }\n",
       "\n",
       "    .dataframe tbody tr th {\n",
       "        vertical-align: top;\n",
       "    }\n",
       "\n",
       "    .dataframe thead th {\n",
       "        text-align: right;\n",
       "    }\n",
       "</style>\n",
       "<table border=\"1\" class=\"dataframe\">\n",
       "  <thead>\n",
       "    <tr style=\"text-align: right;\">\n",
       "      <th>error_metric</th>\n",
       "      <th>MAE</th>\n",
       "      <th>MSE</th>\n",
       "      <th>SMAPE</th>\n",
       "    </tr>\n",
       "  </thead>\n",
       "  <tbody>\n",
       "    <tr>\n",
       "      <th>Australia</th>\n",
       "      <td>2373.12000</td>\n",
       "      <td>7.695576e+06</td>\n",
       "      <td>7.050000</td>\n",
       "    </tr>\n",
       "    <tr>\n",
       "      <th>States</th>\n",
       "      <td>581.33000</td>\n",
       "      <td>6.828705e+05</td>\n",
       "      <td>16.330000</td>\n",
       "    </tr>\n",
       "    <tr>\n",
       "      <th>Region</th>\n",
       "      <td>101.65000</td>\n",
       "      <td>2.972409e+04</td>\n",
       "      <td>34.470000</td>\n",
       "    </tr>\n",
       "    <tr>\n",
       "      <th>Overall</th>\n",
       "      <td>167.87231</td>\n",
       "      <td>1.736991e+05</td>\n",
       "      <td>32.657646</td>\n",
       "    </tr>\n",
       "  </tbody>\n",
       "</table>\n",
       "</div>"
      ],
      "text/plain": [
       "error_metric         MAE           MSE      SMAPE\n",
       "Australia     2373.12000  7.695576e+06   7.050000\n",
       "States         581.33000  6.828705e+05  16.330000\n",
       "Region         101.65000  2.972409e+04  34.470000\n",
       "Overall        167.87231  1.736991e+05  32.657646"
      ]
     },
     "execution_count": 23,
     "metadata": {},
     "output_type": "execute_result"
    }
   ],
   "source": [
    "base_arima_errors = get_error_table(base_forecast, LEVELS)\n",
    "base_arima_errors"
   ]
  },
  {
   "cell_type": "code",
   "execution_count": 24,
   "metadata": {},
   "outputs": [],
   "source": [
    "adjusted_ml_errors = get_error_table(adjusted_forecast_ml, LEVELS)\n",
    "adjusted_forecast_ml_hf_val_loss_errors = get_error_table(adjusted_forecast_ml_hf_val_loss, LEVELS)"
   ]
  },
  {
   "cell_type": "code",
   "execution_count": 25,
   "metadata": {},
   "outputs": [
    {
     "data": {
      "text/html": [
       "<div>\n",
       "<style scoped>\n",
       "    .dataframe tbody tr th:only-of-type {\n",
       "        vertical-align: middle;\n",
       "    }\n",
       "\n",
       "    .dataframe tbody tr th {\n",
       "        vertical-align: top;\n",
       "    }\n",
       "\n",
       "    .dataframe thead th {\n",
       "        text-align: right;\n",
       "    }\n",
       "</style>\n",
       "<table border=\"1\" class=\"dataframe\">\n",
       "  <thead>\n",
       "    <tr style=\"text-align: right;\">\n",
       "      <th>error_metric</th>\n",
       "      <th>MAE</th>\n",
       "      <th>MSE</th>\n",
       "      <th>SMAPE</th>\n",
       "    </tr>\n",
       "  </thead>\n",
       "  <tbody>\n",
       "    <tr>\n",
       "      <th>Australia</th>\n",
       "      <td>-73.446770</td>\n",
       "      <td>-167.651736</td>\n",
       "      <td>-77.730496</td>\n",
       "    </tr>\n",
       "    <tr>\n",
       "      <th>States</th>\n",
       "      <td>-9.144548</td>\n",
       "      <td>-14.150092</td>\n",
       "      <td>9.430496</td>\n",
       "    </tr>\n",
       "    <tr>\n",
       "      <th>Region</th>\n",
       "      <td>4.879488</td>\n",
       "      <td>9.356249</td>\n",
       "      <td>5.192921</td>\n",
       "    </tr>\n",
       "    <tr>\n",
       "      <th>Overall</th>\n",
       "      <td>-12.150417</td>\n",
       "      <td>-90.514958</td>\n",
       "      <td>5.182218</td>\n",
       "    </tr>\n",
       "  </tbody>\n",
       "</table>\n",
       "</div>"
      ],
      "text/plain": [
       "error_metric        MAE         MSE      SMAPE\n",
       "Australia    -73.446770 -167.651736 -77.730496\n",
       "States        -9.144548  -14.150092   9.430496\n",
       "Region         4.879488    9.356249   5.192921\n",
       "Overall      -12.150417  -90.514958   5.182218"
      ]
     },
     "execution_count": 25,
     "metadata": {},
     "output_type": "execute_result"
    }
   ],
   "source": [
    "pc_improvement = (base_arima_errors - adjusted_ml_errors)/base_arima_errors*100\n",
    "pc_improvement"
   ]
  },
  {
   "cell_type": "code",
   "execution_count": 26,
   "metadata": {},
   "outputs": [
    {
     "data": {
      "text/html": [
       "<div>\n",
       "<style scoped>\n",
       "    .dataframe tbody tr th:only-of-type {\n",
       "        vertical-align: middle;\n",
       "    }\n",
       "\n",
       "    .dataframe tbody tr th {\n",
       "        vertical-align: top;\n",
       "    }\n",
       "\n",
       "    .dataframe thead th {\n",
       "        text-align: right;\n",
       "    }\n",
       "</style>\n",
       "<table border=\"1\" class=\"dataframe\">\n",
       "  <thead>\n",
       "    <tr style=\"text-align: right;\">\n",
       "      <th>error_metric</th>\n",
       "      <th>MAE</th>\n",
       "      <th>MSE</th>\n",
       "      <th>SMAPE</th>\n",
       "    </tr>\n",
       "  </thead>\n",
       "  <tbody>\n",
       "    <tr>\n",
       "      <th>Australia</th>\n",
       "      <td>-36.933236</td>\n",
       "      <td>-72.816230</td>\n",
       "      <td>-38.581560</td>\n",
       "    </tr>\n",
       "    <tr>\n",
       "      <th>States</th>\n",
       "      <td>6.961622</td>\n",
       "      <td>15.078308</td>\n",
       "      <td>19.350888</td>\n",
       "    </tr>\n",
       "    <tr>\n",
       "      <th>Region</th>\n",
       "      <td>6.335465</td>\n",
       "      <td>13.827639</td>\n",
       "      <td>5.076878</td>\n",
       "    </tr>\n",
       "    <tr>\n",
       "      <th>Overall</th>\n",
       "      <td>-0.685633</td>\n",
       "      <td>-30.928334</td>\n",
       "      <td>5.552333</td>\n",
       "    </tr>\n",
       "  </tbody>\n",
       "</table>\n",
       "</div>"
      ],
      "text/plain": [
       "error_metric        MAE        MSE      SMAPE\n",
       "Australia    -36.933236 -72.816230 -38.581560\n",
       "States         6.961622  15.078308  19.350888\n",
       "Region         6.335465  13.827639   5.076878\n",
       "Overall       -0.685633 -30.928334   5.552333"
      ]
     },
     "execution_count": 26,
     "metadata": {},
     "output_type": "execute_result"
    }
   ],
   "source": [
    "pc_improvement_hf_val_loss = (base_arima_errors - adjusted_forecast_ml_hf_val_loss_errors)/base_arima_errors*100\n",
    "pc_improvement_hf_val_loss"
   ]
  }
 ],
 "metadata": {
  "kernelspec": {
   "display_name": "Python 3 (ipykernel)",
   "language": "python",
   "name": "python3"
  },
  "language_info": {
   "codemirror_mode": {
    "name": "ipython",
    "version": 3
   },
   "file_extension": ".py",
   "mimetype": "text/x-python",
   "name": "python",
   "nbconvert_exporter": "python",
   "pygments_lexer": "ipython3",
   "version": "3.8.10"
  }
 },
 "nbformat": 4,
 "nbformat_minor": 1
}
