{
 "cells": [
  {
   "cell_type": "markdown",
   "id": "fe3a2ae7",
   "metadata": {},
   "source": [
    "## Plot Results"
   ]
  },
  {
   "cell_type": "code",
   "execution_count": 1,
   "id": "3ce325d1",
   "metadata": {},
   "outputs": [],
   "source": [
    "import pandas as pd\n",
    "import seaborn as sns"
   ]
  },
  {
   "cell_type": "code",
   "execution_count": 2,
   "id": "34ca5082",
   "metadata": {},
   "outputs": [],
   "source": [
    "dataset ='prison'"
   ]
  },
  {
   "cell_type": "code",
   "execution_count": null,
   "id": "9fc00c7d",
   "metadata": {},
   "outputs": [],
   "source": [
    "errors = pd.read_csv(f'../results/expanding_window_results/errors/summary/{dataset}.csv', index_col=0)\n",
    "\n",
    "base_errors = pd.read_csv(f'../results/expanding_window_results/errors/summary/{dataset}_base_errors.csv', index_col=0)"
   ]
  },
  {
   "cell_type": "code",
   "execution_count": null,
   "id": "5885d009",
   "metadata": {},
   "outputs": [],
   "source": [
    "errors = errors.loc[errors['reconciliation method']!='erm']"
   ]
  },
  {
   "cell_type": "code",
   "execution_count": null,
   "id": "9e61f20d",
   "metadata": {},
   "outputs": [],
   "source": [
    "global_models_deepAR = base_errors.loc[base_errors['base model'].isin(['deepAR', 'deepAR_cluster'])]\n",
    "global_models_wavenet = base_errors.loc[base_errors['base model'].isin(['waveNet', 'waveNet_cluster'])]"
   ]
  },
  {
   "cell_type": "code",
   "execution_count": null,
   "id": "aa2c8556",
   "metadata": {},
   "outputs": [],
   "source": [
    "global_err_deepAR = sns.catplot(x=\"horizon\",\n",
    "                      y = 'overall error', data= global_models_deepAR, kind='bar',\n",
    "                      hue ='base model',\n",
    "                      order = ['one step horizon', 'short horizon', 'full horizon'])\n",
    "\n",
    "global_err_wavenet = sns.catplot(x=\"horizon\",\n",
    "                      y = 'overall error', data= global_models_wavenet, kind='bar',\n",
    "                      hue ='base model',\n",
    "                      order = ['one step horizon', 'short horizon', 'full horizon'])\n",
    "\n",
    "global_err_deepAR.figure.savefig(f'../results/expanding_window_results/{dataset}_deepAR.jpg')\n",
    "global_err_wavenet.figure.savefig(f'../results/expanding_window_results/{dataset}_waveNet.jpg')"
   ]
  },
  {
   "cell_type": "code",
   "execution_count": null,
   "id": "99c4135a",
   "metadata": {},
   "outputs": [],
   "source": [
    "base_err = sns.catplot(x=\"horizon\",\n",
    "                      y = 'overall error', data= base_errors, kind='bar',\n",
    "                      col_wrap=2,sharex = False, sharey= False,col='base model',\n",
    "                      order = ['one step horizon', 'short horizon', 'full horizon'])\n",
    "\n",
    "base_err.figure.savefig(f'../results/expanding_window_results/{dataset}_base_errors.jpg')"
   ]
  },
  {
   "cell_type": "code",
   "execution_count": null,
   "id": "c39f8edd",
   "metadata": {},
   "outputs": [],
   "source": [
    "plot_err = sns.catplot(x=\"horizon\", col=\"base model\",\n",
    "                y = 'overall improvement', hue ='reconciliation method', data= errors, kind='bar',  col_wrap=2,\n",
    "                      sharex = False, sharey= False, order = ['one step horizon', 'short horizon', 'full horizon'], \n",
    "                      palette = ['orange', 'green', 'blue', 'purple', 'pink','yellow'])\n",
    "plot_err.fig.set_size_inches(15, 15)\n",
    "# iterate through axes\n",
    "for ax in plot_err.axes.ravel():\n",
    "    \n",
    "    # add annotations\n",
    "    for c in ax.containers:\n",
    "        labels = [f'{(v.get_height()):.1f}' for v in c]\n",
    "        ax.bar_label(c, labels=labels, label_type='edge')\n",
    "    ax.margins(y=0.2)\n",
    "# plot_err.figure.savefig(f'../results/expanding_window_results/{dataset}_errors.jpg')"
   ]
  },
  {
   "cell_type": "markdown",
   "id": "9930d2a0",
   "metadata": {},
   "source": [
    "# Plots for Slides"
   ]
  },
  {
   "cell_type": "code",
   "execution_count": 3,
   "id": "8104f742",
   "metadata": {},
   "outputs": [],
   "source": [
    "import plotly.graph_objects as go"
   ]
  },
  {
   "cell_type": "code",
   "execution_count": 4,
   "id": "dfe442b0",
   "metadata": {},
   "outputs": [],
   "source": [
    "# errors_plot"
   ]
  },
  {
   "cell_type": "code",
   "execution_count": 5,
   "id": "e14387ea",
   "metadata": {},
   "outputs": [],
   "source": [
    "dataset ='labour'\n",
    "errors = pd.read_csv(f'../results/expanding_window_results/errors/summary/{dataset}.csv', index_col=0)\n"
   ]
  },
  {
   "cell_type": "code",
   "execution_count": 6,
   "id": "4e7b3adc",
   "metadata": {},
   "outputs": [],
   "source": [
    "# errors"
   ]
  },
  {
   "cell_type": "code",
   "execution_count": 7,
   "id": "fe7d4e4b",
   "metadata": {},
   "outputs": [],
   "source": [
    "# let's only take cluster results\n",
    "\n",
    "horizon = 'full horizon'\n",
    "methods_consider = ['arima', 'ets', 'deepAR_cluster', 'waveNet_cluster']\n",
    "errors_plot = errors.loc[errors['base model'].isin(methods_consider)]\n",
    "\n",
    "errors_plot = errors_plot.loc[errors_plot['horizon'] == horizon] \n"
   ]
  },
  {
   "cell_type": "code",
   "execution_count": 8,
   "id": "2c03e5f1",
   "metadata": {},
   "outputs": [],
   "source": [
    "# errors_plot"
   ]
  },
  {
   "cell_type": "code",
   "execution_count": 9,
   "id": "5df20ef0",
   "metadata": {},
   "outputs": [],
   "source": [
    "# errors_plot\n",
    "import plotly.express as px\n",
    "\n",
    "color_p = px.colors.qualitative.D3"
   ]
  },
  {
   "cell_type": "code",
   "execution_count": 11,
   "id": "a7defefe",
   "metadata": {},
   "outputs": [
    {
     "data": {
      "application/vnd.plotly.v1+json": {
       "config": {
        "plotlyServerURL": "https://plot.ly"
       },
       "data": [
        {
         "name": "Bottom Up",
         "type": "bar",
         "x": [
          "ARIMA",
          "ETS",
          "DeepAR",
          "WaveNet"
         ],
         "y": [
          -33.25490654547048,
          30.18401015776868,
          -22.52915031103713,
          19.18675146685149
         ]
        },
        {
         "name": "OLS",
         "type": "bar",
         "x": [
          "ARIMA",
          "ETS",
          "DeepAR",
          "WaveNet"
         ],
         "y": [
          5.462109144758315,
          3.143186334378345,
          5.803089426747244,
          5.543083869775943
         ]
        },
        {
         "name": "WLS",
         "type": "bar",
         "x": [
          "ARIMA",
          "ETS",
          "DeepAR",
          "WaveNet"
         ],
         "y": [
          -11.560076056123066,
          22.197991783547565,
          6.457701038026988,
          14.405703246954443
         ]
        },
        {
         "name": "ERM",
         "type": "bar",
         "x": [
          "ARIMA",
          "ETS",
          "DeepAR",
          "WaveNet"
         ],
         "y": [
          -286.9204252258221,
          -115.57314207133082,
          -339.91994726009875,
          -182.0145044213527
         ]
        },
        {
         "name": "MinT(Shrink)",
         "type": "bar",
         "x": [
          "ARIMA",
          "ETS",
          "DeepAR",
          "WaveNet"
         ],
         "y": [
          -8.765127195909466,
          15.357401851597352,
          30.526927568423133,
          -0.8750996515716061
         ]
        },
        {
         "marker": {
          "color": "#8C564B"
         },
         "name": "ML",
         "type": "bar",
         "x": [
          "ARIMA",
          "ETS",
          "DeepAR",
          "WaveNet"
         ],
         "y": [
          -17.87562453215905,
          37.86586593854343,
          46.4394770217413,
          43.78098860909661
         ]
        }
       ],
       "layout": {
        "barmode": "group",
        "font": {
         "size": 14
        },
        "legend": {
         "font": {
          "size": 14
         },
         "orientation": "h",
         "title": {
          "text": "Reconciliation Method"
         },
         "y": -0.25
        },
        "template": {
         "data": {
          "scatter": [
           {
            "type": "scatter"
           }
          ]
         }
        },
        "xaxis": {
         "title": {
          "text": "Base Model"
         }
        },
        "yaxis": {
         "range": [
          -50,
          60
         ],
         "title": {
          "text": "PRIAL"
         }
        }
       }
      },
      "text/html": [
       "<div>                            <div id=\"d93753a6-5f03-4bf2-9691-0eba852d1617\" class=\"plotly-graph-div\" style=\"height:525px; width:100%;\"></div>            <script type=\"text/javascript\">                require([\"plotly\"], function(Plotly) {                    window.PLOTLYENV=window.PLOTLYENV || {};                                    if (document.getElementById(\"d93753a6-5f03-4bf2-9691-0eba852d1617\")) {                    Plotly.newPlot(                        \"d93753a6-5f03-4bf2-9691-0eba852d1617\",                        [{\"name\":\"Bottom Up\",\"x\":[\"ARIMA\",\"ETS\",\"DeepAR\",\"WaveNet\"],\"y\":[-33.25490654547048,30.18401015776868,-22.52915031103713,19.18675146685149],\"type\":\"bar\"},{\"name\":\"OLS\",\"x\":[\"ARIMA\",\"ETS\",\"DeepAR\",\"WaveNet\"],\"y\":[5.462109144758315,3.143186334378345,5.803089426747244,5.543083869775943],\"type\":\"bar\"},{\"name\":\"WLS\",\"x\":[\"ARIMA\",\"ETS\",\"DeepAR\",\"WaveNet\"],\"y\":[-11.560076056123066,22.197991783547565,6.457701038026988,14.405703246954443],\"type\":\"bar\"},{\"name\":\"ERM\",\"x\":[\"ARIMA\",\"ETS\",\"DeepAR\",\"WaveNet\"],\"y\":[-286.9204252258221,-115.57314207133082,-339.91994726009875,-182.0145044213527],\"type\":\"bar\"},{\"name\":\"MinT(Shrink)\",\"x\":[\"ARIMA\",\"ETS\",\"DeepAR\",\"WaveNet\"],\"y\":[-8.765127195909466,15.357401851597352,30.526927568423133,-0.8750996515716061],\"type\":\"bar\"},{\"marker\":{\"color\":\"#8C564B\"},\"name\":\"ML\",\"x\":[\"ARIMA\",\"ETS\",\"DeepAR\",\"WaveNet\"],\"y\":[-17.87562453215905,37.86586593854343,46.4394770217413,43.78098860909661],\"type\":\"bar\"}],                        {\"template\":{\"data\":{\"scatter\":[{\"type\":\"scatter\"}]}},\"legend\":{\"font\":{\"size\":14},\"title\":{\"text\":\"Reconciliation Method\"},\"orientation\":\"h\",\"y\":-0.25},\"font\":{\"size\":14},\"yaxis\":{\"title\":{\"text\":\"PRIAL\"},\"range\":[-50,60]},\"barmode\":\"group\",\"xaxis\":{\"title\":{\"text\":\"Base Model\"}}},                        {\"responsive\": true}                    ).then(function(){\n",
       "                            \n",
       "var gd = document.getElementById('d93753a6-5f03-4bf2-9691-0eba852d1617');\n",
       "var x = new MutationObserver(function (mutations, observer) {{\n",
       "        var display = window.getComputedStyle(gd).display;\n",
       "        if (!display || display === 'none') {{\n",
       "            console.log([gd, 'removed!']);\n",
       "            Plotly.purge(gd);\n",
       "            observer.disconnect();\n",
       "        }}\n",
       "}});\n",
       "\n",
       "// Listen for the removal of the full notebook cells\n",
       "var notebookContainer = gd.closest('#notebook-container');\n",
       "if (notebookContainer) {{\n",
       "    x.observe(notebookContainer, {childList: true});\n",
       "}}\n",
       "\n",
       "// Listen for the clearing of the current output cell\n",
       "var outputEl = gd.closest('.output');\n",
       "if (outputEl) {{\n",
       "    x.observe(outputEl, {childList: true});\n",
       "}}\n",
       "\n",
       "                        })                };                });            </script>        </div>"
      ]
     },
     "metadata": {},
     "output_type": "display_data"
    }
   ],
   "source": [
    "base_models = ['ARIMA', 'ETS', 'DeepAR', 'WaveNet']\n",
    "# reconciliation_methods = ['bottomup', 'ols', 'wls', 'erm', 'mintshrink', 'mintsample', 'bestML']\n",
    "reconciliation_methods = ['bottomup', 'ols', 'wls', 'erm', 'mintshrink', 'bestML']\n",
    "names_plot = {'bottomup': 'Bottom Up', 'ols': 'OLS', 'wls': 'WLS', 'erm': 'ERM', 'mintshrink': 'MinT(Shrink)',\n",
    "              'bestML': 'ML', 'mintsample': 'MinT(Sample)'}\n",
    "\n",
    "fig = go.Figure()\n",
    "\n",
    "for rec_method in reconciliation_methods:\n",
    "    vals = []\n",
    "    for m in methods_consider:\n",
    "        bar_plt = errors_plot.loc[errors_plot['base model'] == m]\n",
    "        error_val = bar_plt.loc[bar_plt['reconciliation method'] == rec_method]['overall improvement'].values[0]\n",
    "        vals.append(error_val)\n",
    "    if rec_method == 'bestML':\n",
    "        fig.add_trace(go.Bar(name = names_plot[rec_method], x = base_models, y= vals, marker_color=color_p[5]))\n",
    "    elif rec_method == 'mintsample':\n",
    "        fig.add_trace(go.Bar(name = names_plot[rec_method], x = base_models, y= vals, marker_color=color_p[6]))\n",
    "    else:\n",
    "        fig.add_trace(go.Bar(name = names_plot[rec_method], x = base_models, y= vals))\n",
    "fig.update_layout(barmode='group', template='none', yaxis= dict(title= 'PRIAL')\n",
    "                 ,xaxis = dict(title = 'Base Model'), \n",
    "                  legend =dict(title='Reconciliation Method'\n",
    "                  , font_size=14, orientation='h', y=-0.25), font=dict(size=14), yaxis_range =[-50, 60])\n",
    "# yaxis_range =[-50, 60]\n",
    "fig.show()"
   ]
  },
  {
   "cell_type": "code",
   "execution_count": null,
   "id": "e20e2ef7",
   "metadata": {},
   "outputs": [],
   "source": [
    "fig.write_image(f'../results/expanding_window_results/new_figs/{dataset}_h[1:4].svg')"
   ]
  }
 ],
 "metadata": {
  "kernelspec": {
   "display_name": "Python 3 (ipykernel)",
   "language": "python",
   "name": "python3"
  },
  "language_info": {
   "codemirror_mode": {
    "name": "ipython",
    "version": 3
   },
   "file_extension": ".py",
   "mimetype": "text/x-python",
   "name": "python",
   "nbconvert_exporter": "python",
   "pygments_lexer": "ipython3",
   "version": "3.8.10"
  }
 },
 "nbformat": 4,
 "nbformat_minor": 5
}
